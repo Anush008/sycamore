{
 "cells": [
  {
   "cell_type": "code",
   "execution_count": 1,
   "metadata": {},
   "outputs": [],
   "source": [
    "from dotenv import load_dotenv\n",
    "\n",
    "load_dotenv(\".env\")\n",
    "\n",
    "import json\n",
    "\n",
    "import sycamore\n",
    "from sycamore.connectors.file.file_writer import JSONEncodeWithUserDict\n",
    "from sycamore.evaluation import EvaluationDataPoint\n",
    "from sycamore.evaluation.pipeline import EvaluationPipeline\n",
    "from sycamore.transforms.embed import SentenceTransformerEmbedder\n",
    "from sycamore.transforms.query import OpenSearchQueryExecutor\n",
    "from sycamore.evaluation.subtasks import SubtaskExecutor\n",
    "from sycamore.functions import HuggingFaceTokenizer\n",
    "from sycamore.llms import OpenAI, OpenAIModels\n",
    "from sycamore.transforms import COALESCE_WHITESPACE\n",
    "from sycamore.transforms.merge_elements import GreedyTextElementMerger\n",
    "from sycamore.transforms.partition import ArynPartitioner\n",
    "from sycamore.connectors.file.materialized_scan import DocScan\n",
    "from sycamore.docset import DocSet\n",
    "import sycamore\n",
    "\n",
    "from ray.data import ActorPoolStrategy"
   ]
  },
  {
   "cell_type": "markdown",
   "metadata": {},
   "source": [
    "## Ingestion"
   ]
  },
  {
   "cell_type": "code",
   "execution_count": null,
   "metadata": {},
   "outputs": [],
   "source": [
    "# Using the Amazon 2017 10K PDF\n",
    "\n",
    "! curl -o amazon_2017_10k.pdf https://d18rn0p25nwr6d.cloudfront.net/CIK-0001018724/02da2a86-7bb9-4bcb-95ae-4ce27ea5e3bc.pdf"
   ]
  },
  {
   "cell_type": "code",
   "execution_count": 2,
   "metadata": {},
   "outputs": [
    {
     "name": "stderr",
     "output_type": "stream",
     "text": [
      "/home/admin/.cache/pypoetry/virtualenvs/sycamore-monorepo-RdRTS9RD-py3.11/lib/python3.11/site-packages/transformers/tokenization_utils_base.py:1601: FutureWarning: `clean_up_tokenization_spaces` was not set. It will be set to `True` by default. This behavior will be depracted in transformers v4.45, and will be then set to `False` by default. For more details check this issue: https://github.com/huggingface/transformers/issues/31884\n",
      "  warnings.warn(\n",
      "2024-08-08 20:37:28,820\tINFO worker.py:1740 -- Started a local Ray instance. View the dashboard at \u001b[1m\u001b[32mhttp://127.0.0.1:8266 \u001b[39m\u001b[22m\n"
     ]
    }
   ],
   "source": [
    "path = \"amazon_2017_10k.pdf\"\n",
    "index = \"sample0\"\n",
    "\n",
    "openai_llm = OpenAI(OpenAIModels.GPT_4O.value)\n",
    "\n",
    "hf_model = \"sentence-transformers/all-mpnet-base-v2\"\n",
    "tokenizer = HuggingFaceTokenizer(hf_model)\n",
    "embedder = SentenceTransformerEmbedder(model_name=hf_model, batch_size=100)\n",
    "\n",
    "context = sycamore.init()"
   ]
  },
  {
   "cell_type": "code",
   "execution_count": 3,
   "metadata": {},
   "outputs": [],
   "source": [
    "os_client_args = {\n",
    "    \"hosts\": [{\"host\": \"localhost\", \"port\": 9200}],\n",
    "    \"http_compress\": True,\n",
    "    \"http_auth\": ('admin', 'admin'),\n",
    "    \"use_ssl\": True,\n",
    "    \"verify_certs\": False,\n",
    "    \"ssl_assert_hostname\": False,\n",
    "    \"ssl_show_warn\": False,\n",
    "    \"timeout\": 120\n",
    "}\n",
    "\n",
    "index_settings = {\n",
    "    \"body\": {\n",
    "        \"settings\": {\n",
    "            \"index.knn\": True,\n",
    "            \"number_of_shards\": 5,\n",
    "            \"number_of_replicas\": 1\n",
    "        },\n",
    "        \"mappings\": {\n",
    "            \"properties\": {\n",
    "                \"embedding\": {\n",
    "                  \"dimension\": 768,\n",
    "                  \"method\": {\n",
    "                    \"engine\": \"faiss\",\n",
    "                    \"space_type\": \"l2\",\n",
    "                    \"name\": \"hnsw\",\n",
    "                    \"parameters\": {}\n",
    "                  },\n",
    "                  \"type\": \"knn_vector\"\n",
    "                },\n",
    "            }\n",
    "        }\n",
    "    }\n",
    "}"
   ]
  },
  {
   "cell_type": "code",
   "execution_count": 4,
   "metadata": {},
   "outputs": [],
   "source": [
    "ds = (\n",
    "    context.read.binary(path, binary_format=\"pdf\")\n",
    "    .partition(partitioner=ArynPartitioner(extract_table_structure=True, threshold=0.35, use_ocr=True), num_gpus=0.1, compute=ActorPoolStrategy(size=1))\n",
    "    .regex_replace(COALESCE_WHITESPACE)\n",
    "    .merge(merger=GreedyTextElementMerger(tokenizer, 512))\n",
    "    .spread_properties([\"path\", \"company\", \"year\", \"doc-type\"])\n",
    "    .explode()\n",
    "    .embed(embedder=embedder, num_gpus=0.1)\n",
    ")"
   ]
  },
  {
   "cell_type": "code",
   "execution_count": 6,
   "metadata": {},
   "outputs": [
    {
     "name": "stderr",
     "output_type": "stream",
     "text": [
      "(pid=202065) INFO:root:Spurious log 1: Verifying that log messages are propogated\n",
      "(pid=202194) INFO:root:Spurious log 1: Verifying that log messages are propogated [repeated 2x across cluster] (Ray deduplicates logs by default. Set RAY_DEDUP_LOGS=0 to disable log deduplication, or see https://docs.ray.io/en/master/ray-observability/user-guides/configure-logging.html#log-deduplication for more options.)\n",
      "(MapWorker(Map(BinaryScan._to_document)->MapBatches(BaseMapTransformCallable___wrap)) pid=202194) INFO:sycamore.utils.time_trace:loading_model wall:  4.599 user:  0.923sys:  0.172 rss_mib: 763.176\n",
      "(MapWorker(Map(BinaryScan._to_document)->MapBatches(BaseMapTransformCallable___wrap)) pid=202194) INFO:sycamore.utils.time_trace:load_model_start wall:  4.599 user:  0.923sys:  0.172 rss_mib: 763.176\n",
      "(MapWorker(Map(BinaryScan._to_document)->MapBatches(BaseMapTransformCallable___wrap)) pid=202194) The `max_size` parameter is deprecated and will be removed in v4.26. Please specify in `size['longest_edge'] instead`.\n",
      "(MapWorker(Map(BinaryScan._to_document)->MapBatches(BaseMapTransformCallable___wrap)) pid=202194) INFO:timm.models._builder:Loading pretrained weights from Hugging Face hub (timm/resnet50.a1_in1k)\n",
      "(MapWorker(Map(BinaryScan._to_document)->MapBatches(BaseMapTransformCallable___wrap)) pid=202194) INFO:timm.models._hub:[timm/resnet50.a1_in1k] Safe alternative available for 'pytorch_model.bin' (as 'model.safetensors'). Loading weights using safetensors.\n",
      "(MapWorker(Map(BinaryScan._to_document)->MapBatches(BaseMapTransformCallable___wrap)) pid=202194) INFO:timm.models._builder:Missing keys (fc.weight, fc.bias) discovered while loading pretrained weights. This is expected if model is being adapted.\n",
      "(MapWorker(Map(BinaryScan._to_document)->MapBatches(BaseMapTransformCallable___wrap)) pid=202194) INFO:sycamore.utils.time_trace:load_model wall:  0.576 user:  0.428sys:  0.061 rss_mib: 981.383\n",
      "(MapWorker(Map(BinaryScan._to_document)->MapBatches(BaseMapTransformCallable___wrap)) pid=202194) INFO:sycamore.transforms.detr_partitioner:ArynPartitioner: T+   0.00: Server version 0.2024.06.28\n",
      "(MapWorker(Map(BinaryScan._to_document)->MapBatches(BaseMapTransformCallable___wrap)) pid=202194) INFO:sycamore.transforms.detr_partitioner:ArynPartitioner: T+   0.00: Received request with aryn_call_id=a11841d8-c7e7-40ef-bf77-521d21dc27b9\n",
      "(MapWorker(Map(BinaryScan._to_document)->MapBatches(BaseMapTransformCallable___wrap)) pid=202194) INFO:sycamore.transforms.detr_partitioner:ArynPartitioner: T+   0.01: Waiting for scheduling\n",
      "(MapWorker(Map(BinaryScan._to_document)->MapBatches(BaseMapTransformCallable___wrap)) pid=202194) INFO:sycamore.transforms.detr_partitioner:ArynPartitioner: T+   0.01: Preprocessing document\n",
      "(MapWorker(Map(BinaryScan._to_document)->MapBatches(BaseMapTransformCallable___wrap)) pid=202194) INFO:sycamore.transforms.detr_partitioner:ArynPartitioner: T+   0.14: Done preprocessing document\n",
      "(pid=202242) INFO:root:Spurious log 1: Verifying that log messages are propogated\n",
      "(pid=202293) INFO:root:Spurious log 1: Verifying that log messages are propogated\n",
      "(MapWorker(Map(BinaryScan._to_document)->MapBatches(BaseMapTransformCallable___wrap)) pid=202194) INFO:sycamore.transforms.detr_partitioner:ArynPartitioner: T+   5.68: completed page 2\n",
      "(MapWorker(Map(BinaryScan._to_document)->MapBatches(BaseMapTransformCallable___wrap)) pid=202194) INFO:sycamore.transforms.detr_partitioner:ArynPartitioner: T+   5.87: completed page 1\n",
      "(MapWorker(Map(BinaryScan._to_document)->MapBatches(BaseMapTransformCallable___wrap)) pid=202194) INFO:sycamore.transforms.detr_partitioner:ArynPartitioner: T+  10.00: completed page 3\n",
      "(MapWorker(Map(BinaryScan._to_document)->MapBatches(BaseMapTransformCallable___wrap)) pid=202194) INFO:sycamore.transforms.detr_partitioner:ArynPartitioner: T+  11.00: ... contact support if this message continues for more than a minute ...\n",
      "(MapWorker(Map(BinaryScan._to_document)->MapBatches(BaseMapTransformCallable___wrap)) pid=202194) INFO:sycamore.transforms.detr_partitioner:ArynPartitioner: T+  14.21: completed page 4\n",
      "(MapWorker(Map(BinaryScan._to_document)->MapBatches(BaseMapTransformCallable___wrap)) pid=202194) INFO:sycamore.transforms.detr_partitioner:ArynPartitioner: T+  17.60: completed page 5\n",
      "(MapWorker(Map(BinaryScan._to_document)->MapBatches(BaseMapTransformCallable___wrap)) pid=202194) INFO:sycamore.transforms.detr_partitioner:ArynPartitioner: T+  19.76: completed page 6\n",
      "(MapWorker(Map(BinaryScan._to_document)->MapBatches(BaseMapTransformCallable___wrap)) pid=202194) INFO:sycamore.transforms.detr_partitioner:ArynPartitioner: T+  25.00: ... contact support if this message continues for more than a minute ...\n",
      "(MapWorker(Map(BinaryScan._to_document)->MapBatches(BaseMapTransformCallable___wrap)) pid=202194) INFO:sycamore.transforms.detr_partitioner:ArynPartitioner: T+  25.14: completed page 7\n",
      "(MapWorker(Map(BinaryScan._to_document)->MapBatches(BaseMapTransformCallable___wrap)) pid=202194) INFO:sycamore.transforms.detr_partitioner:ArynPartitioner: T+  26.03: completed page 8\n",
      "(MapWorker(Map(BinaryScan._to_document)->MapBatches(BaseMapTransformCallable___wrap)) pid=202194) INFO:sycamore.transforms.detr_partitioner:ArynPartitioner: T+  30.79: completed page 9\n",
      "(MapWorker(Map(BinaryScan._to_document)->MapBatches(BaseMapTransformCallable___wrap)) pid=202194) INFO:sycamore.transforms.detr_partitioner:ArynPartitioner: T+  30.83: completed page 10\n",
      "(MapWorker(Map(BinaryScan._to_document)->MapBatches(BaseMapTransformCallable___wrap)) pid=202194) INFO:sycamore.transforms.detr_partitioner:ArynPartitioner: T+  31.07: completed page 11\n",
      "(MapWorker(Map(BinaryScan._to_document)->MapBatches(BaseMapTransformCallable___wrap)) pid=202194) INFO:sycamore.transforms.detr_partitioner:ArynPartitioner: T+  35.26: completed page 13\n",
      "(MapWorker(Map(BinaryScan._to_document)->MapBatches(BaseMapTransformCallable___wrap)) pid=202194) INFO:sycamore.transforms.detr_partitioner:ArynPartitioner: T+  35.52: completed page 14\n",
      "(MapWorker(Map(BinaryScan._to_document)->MapBatches(BaseMapTransformCallable___wrap)) pid=202194) INFO:sycamore.transforms.detr_partitioner:ArynPartitioner: T+  35.87: completed page 15\n",
      "(MapWorker(Map(BinaryScan._to_document)->MapBatches(BaseMapTransformCallable___wrap)) pid=202194) INFO:sycamore.transforms.detr_partitioner:ArynPartitioner: T+  36.01: completed page 12\n",
      "(MapWorker(Map(BinaryScan._to_document)->MapBatches(BaseMapTransformCallable___wrap)) pid=202194) INFO:sycamore.transforms.detr_partitioner:ArynPartitioner: T+  38.37: completed page 16\n",
      "(MapWorker(Map(BinaryScan._to_document)->MapBatches(BaseMapTransformCallable___wrap)) pid=202194) INFO:sycamore.transforms.detr_partitioner:ArynPartitioner: T+  38.46: completed page 17\n",
      "(MapWorker(Map(BinaryScan._to_document)->MapBatches(BaseMapTransformCallable___wrap)) pid=202194) INFO:sycamore.transforms.detr_partitioner:ArynPartitioner: T+  39.59: completed page 18\n",
      "(MapWorker(Map(BinaryScan._to_document)->MapBatches(BaseMapTransformCallable___wrap)) pid=202194) INFO:sycamore.transforms.detr_partitioner:ArynPartitioner: T+  42.36: completed page 20\n",
      "(MapWorker(Map(BinaryScan._to_document)->MapBatches(BaseMapTransformCallable___wrap)) pid=202194) INFO:sycamore.transforms.detr_partitioner:ArynPartitioner: T+  42.87: completed page 19\n",
      "(MapWorker(Map(BinaryScan._to_document)->MapBatches(BaseMapTransformCallable___wrap)) pid=202194) INFO:sycamore.transforms.detr_partitioner:ArynPartitioner: T+  44.56: completed page 21\n",
      "(MapWorker(Map(BinaryScan._to_document)->MapBatches(BaseMapTransformCallable___wrap)) pid=202194) INFO:sycamore.transforms.detr_partitioner:ArynPartitioner: T+  46.38: completed page 24\n",
      "(MapWorker(Map(BinaryScan._to_document)->MapBatches(BaseMapTransformCallable___wrap)) pid=202194) INFO:sycamore.transforms.detr_partitioner:ArynPartitioner: T+  47.53: completed page 22\n",
      "(MapWorker(Map(BinaryScan._to_document)->MapBatches(BaseMapTransformCallable___wrap)) pid=202194) INFO:sycamore.transforms.detr_partitioner:ArynPartitioner: T+  47.82: completed page 23\n",
      "(MapWorker(Map(BinaryScan._to_document)->MapBatches(BaseMapTransformCallable___wrap)) pid=202194) INFO:sycamore.transforms.detr_partitioner:ArynPartitioner: T+  49.73: completed page 25\n",
      "(MapWorker(Map(BinaryScan._to_document)->MapBatches(BaseMapTransformCallable___wrap)) pid=202194) INFO:sycamore.transforms.detr_partitioner:ArynPartitioner: T+  50.08: completed page 26\n",
      "(MapWorker(Map(BinaryScan._to_document)->MapBatches(BaseMapTransformCallable___wrap)) pid=202194) INFO:sycamore.transforms.detr_partitioner:ArynPartitioner: T+  50.83: completed page 27\n",
      "(MapWorker(Map(BinaryScan._to_document)->MapBatches(BaseMapTransformCallable___wrap)) pid=202194) INFO:sycamore.transforms.detr_partitioner:ArynPartitioner: T+  54.37: completed page 28\n",
      "(MapWorker(Map(BinaryScan._to_document)->MapBatches(BaseMapTransformCallable___wrap)) pid=202194) INFO:sycamore.transforms.detr_partitioner:ArynPartitioner: T+  54.39: completed page 30\n",
      "(MapWorker(Map(BinaryScan._to_document)->MapBatches(BaseMapTransformCallable___wrap)) pid=202194) INFO:sycamore.transforms.detr_partitioner:ArynPartitioner: T+  54.65: completed page 29\n",
      "(MapWorker(Map(BinaryScan._to_document)->MapBatches(BaseMapTransformCallable___wrap)) pid=202194) INFO:sycamore.transforms.detr_partitioner:ArynPartitioner: T+  57.71: completed page 31\n",
      "(MapWorker(Map(BinaryScan._to_document)->MapBatches(BaseMapTransformCallable___wrap)) pid=202194) INFO:sycamore.transforms.detr_partitioner:ArynPartitioner: T+  57.95: completed page 33\n",
      "(MapWorker(Map(BinaryScan._to_document)->MapBatches(BaseMapTransformCallable___wrap)) pid=202194) INFO:sycamore.transforms.detr_partitioner:ArynPartitioner: T+  57.99: completed page 32\n",
      "(MapWorker(Map(BinaryScan._to_document)->MapBatches(BaseMapTransformCallable___wrap)) pid=202194) INFO:sycamore.transforms.detr_partitioner:ArynPartitioner: T+  59.43: completed page 35\n",
      "(MapWorker(Map(BinaryScan._to_document)->MapBatches(BaseMapTransformCallable___wrap)) pid=202194) INFO:sycamore.transforms.detr_partitioner:ArynPartitioner: T+  60.72: completed page 36\n",
      "(MapWorker(Map(BinaryScan._to_document)->MapBatches(BaseMapTransformCallable___wrap)) pid=202194) INFO:sycamore.transforms.detr_partitioner:ArynPartitioner: T+  61.37: completed page 34\n",
      "(MapWorker(Map(BinaryScan._to_document)->MapBatches(BaseMapTransformCallable___wrap)) pid=202194) INFO:sycamore.transforms.detr_partitioner:ArynPartitioner: T+  62.64: completed page 37\n",
      "(MapWorker(Map(BinaryScan._to_document)->MapBatches(BaseMapTransformCallable___wrap)) pid=202194) INFO:sycamore.transforms.detr_partitioner:ArynPartitioner: T+  62.94: completed page 38\n",
      "(MapWorker(Map(BinaryScan._to_document)->MapBatches(BaseMapTransformCallable___wrap)) pid=202194) INFO:sycamore.transforms.detr_partitioner:ArynPartitioner: T+  62.94: completed page 39\n",
      "(MapWorker(Map(BinaryScan._to_document)->MapBatches(BaseMapTransformCallable___wrap)) pid=202194) INFO:sycamore.transforms.detr_partitioner:ArynPartitioner: T+  64.98: completed page 40\n",
      "(MapWorker(Map(BinaryScan._to_document)->MapBatches(BaseMapTransformCallable___wrap)) pid=202194) INFO:sycamore.transforms.detr_partitioner:ArynPartitioner: T+  65.27: completed page 41\n",
      "(MapWorker(Map(BinaryScan._to_document)->MapBatches(BaseMapTransformCallable___wrap)) pid=202194) INFO:sycamore.transforms.detr_partitioner:ArynPartitioner: T+  66.82: completed page 42\n",
      "(MapWorker(Map(BinaryScan._to_document)->MapBatches(BaseMapTransformCallable___wrap)) pid=202194) INFO:sycamore.transforms.detr_partitioner:ArynPartitioner: T+  69.27: completed page 43\n",
      "(MapWorker(Map(BinaryScan._to_document)->MapBatches(BaseMapTransformCallable___wrap)) pid=202194) INFO:sycamore.transforms.detr_partitioner:ArynPartitioner: T+  69.58: completed page 44\n",
      "(MapWorker(Map(BinaryScan._to_document)->MapBatches(BaseMapTransformCallable___wrap)) pid=202194) INFO:sycamore.transforms.detr_partitioner:ArynPartitioner: T+  71.57: completed page 45\n",
      "(MapWorker(Map(BinaryScan._to_document)->MapBatches(BaseMapTransformCallable___wrap)) pid=202194) INFO:sycamore.transforms.detr_partitioner:ArynPartitioner: T+  73.96: completed page 46\n",
      "(MapWorker(Map(BinaryScan._to_document)->MapBatches(BaseMapTransformCallable___wrap)) pid=202194) INFO:sycamore.transforms.detr_partitioner:ArynPartitioner: T+  74.22: completed page 47\n",
      "(MapWorker(Map(BinaryScan._to_document)->MapBatches(BaseMapTransformCallable___wrap)) pid=202194) INFO:sycamore.transforms.detr_partitioner:ArynPartitioner: T+  76.73: completed page 48\n",
      "(MapWorker(Map(BinaryScan._to_document)->MapBatches(BaseMapTransformCallable___wrap)) pid=202194) INFO:sycamore.transforms.detr_partitioner:ArynPartitioner: T+  77.60: completed page 50\n",
      "(MapWorker(Map(BinaryScan._to_document)->MapBatches(BaseMapTransformCallable___wrap)) pid=202194) INFO:sycamore.transforms.detr_partitioner:ArynPartitioner: T+  78.31: completed page 49\n",
      "(MapWorker(Map(BinaryScan._to_document)->MapBatches(BaseMapTransformCallable___wrap)) pid=202194) INFO:sycamore.transforms.detr_partitioner:ArynPartitioner: T+  79.59: completed page 51\n",
      "(MapWorker(Map(BinaryScan._to_document)->MapBatches(BaseMapTransformCallable___wrap)) pid=202194) INFO:sycamore.transforms.detr_partitioner:ArynPartitioner: T+  80.92: completed page 53\n",
      "(MapWorker(Map(BinaryScan._to_document)->MapBatches(BaseMapTransformCallable___wrap)) pid=202194) INFO:sycamore.transforms.detr_partitioner:ArynPartitioner: T+  81.24: completed page 52\n",
      "(MapWorker(Map(BinaryScan._to_document)->MapBatches(BaseMapTransformCallable___wrap)) pid=202194) INFO:sycamore.transforms.detr_partitioner:ArynPartitioner: T+  82.54: completed page 54\n",
      "(MapWorker(Map(BinaryScan._to_document)->MapBatches(BaseMapTransformCallable___wrap)) pid=202194) INFO:sycamore.transforms.detr_partitioner:ArynPartitioner: T+  83.03: completed page 55\n",
      "(MapWorker(Map(BinaryScan._to_document)->MapBatches(BaseMapTransformCallable___wrap)) pid=202194) INFO:sycamore.transforms.detr_partitioner:ArynPartitioner: T+  84.84: completed page 57\n",
      "(MapWorker(Map(BinaryScan._to_document)->MapBatches(BaseMapTransformCallable___wrap)) pid=202194) INFO:sycamore.transforms.detr_partitioner:ArynPartitioner: T+  85.29: completed page 56\n",
      "(MapWorker(Map(BinaryScan._to_document)->MapBatches(BaseMapTransformCallable___wrap)) pid=202194) INFO:sycamore.transforms.detr_partitioner:ArynPartitioner: T+  85.92: completed page 58\n",
      "(MapWorker(Map(BinaryScan._to_document)->MapBatches(BaseMapTransformCallable___wrap)) pid=202194) INFO:sycamore.transforms.detr_partitioner:ArynPartitioner: T+  90.72: completed page 60\n",
      "(MapWorker(Map(BinaryScan._to_document)->MapBatches(BaseMapTransformCallable___wrap)) pid=202194) INFO:sycamore.transforms.detr_partitioner:ArynPartitioner: T+  91.02: ... contact support if this message continues for more than a minute ...\n",
      "(MapWorker(Map(BinaryScan._to_document)->MapBatches(BaseMapTransformCallable___wrap)) pid=202194) INFO:sycamore.transforms.detr_partitioner:ArynPartitioner: T+  91.28: completed page 61\n",
      "(MapWorker(Map(BinaryScan._to_document)->MapBatches(BaseMapTransformCallable___wrap)) pid=202194) INFO:sycamore.transforms.detr_partitioner:ArynPartitioner: T+  92.08: completed page 59\n",
      "(MapWorker(Map(BinaryScan._to_document)->MapBatches(BaseMapTransformCallable___wrap)) pid=202194) INFO:sycamore.transforms.detr_partitioner:ArynPartitioner: T+  93.66: completed page 62\n",
      "(MapWorker(Map(BinaryScan._to_document)->MapBatches(BaseMapTransformCallable___wrap)) pid=202194) INFO:sycamore.transforms.detr_partitioner:ArynPartitioner: T+  94.44: completed page 63\n",
      "(MapWorker(Map(BinaryScan._to_document)->MapBatches(BaseMapTransformCallable___wrap)) pid=202194) INFO:sycamore.transforms.detr_partitioner:ArynPartitioner: T+  95.33: completed page 64\n",
      "(MapWorker(Map(BinaryScan._to_document)->MapBatches(BaseMapTransformCallable___wrap)) pid=202194) INFO:sycamore.transforms.detr_partitioner:ArynPartitioner: T+  97.00: completed page 65\n",
      "(MapWorker(Map(BinaryScan._to_document)->MapBatches(BaseMapTransformCallable___wrap)) pid=202194) INFO:sycamore.transforms.detr_partitioner:ArynPartitioner: T+  99.66: completed page 66\n",
      "(MapWorker(Map(BinaryScan._to_document)->MapBatches(BaseMapTransformCallable___wrap)) pid=202194) INFO:sycamore.transforms.detr_partitioner:ArynPartitioner: T+  99.74: completed page 67\n",
      "(MapWorker(Map(BinaryScan._to_document)->MapBatches(BaseMapTransformCallable___wrap)) pid=202194) INFO:sycamore.transforms.detr_partitioner:ArynPartitioner: T+ 100.08: completed page 68\n",
      "(MapWorker(Map(BinaryScan._to_document)->MapBatches(BaseMapTransformCallable___wrap)) pid=202194) INFO:sycamore.transforms.detr_partitioner:ArynPartitioner: T+ 101.68: completed page 70\n",
      "(MapWorker(Map(BinaryScan._to_document)->MapBatches(BaseMapTransformCallable___wrap)) pid=202194) INFO:sycamore.transforms.detr_partitioner:ArynPartitioner: T+ 103.06: completed page 71\n",
      "(MapWorker(Map(BinaryScan._to_document)->MapBatches(BaseMapTransformCallable___wrap)) pid=202194) INFO:sycamore.transforms.detr_partitioner:ArynPartitioner: T+ 103.58: completed page 69\n",
      "(MapWorker(Map(BinaryScan._to_document)->MapBatches(BaseMapTransformCallable___wrap)) pid=202194) INFO:sycamore.transforms.detr_partitioner:ArynPartitioner: T+ 104.29: completed page 72\n",
      "(MapWorker(Map(BinaryScan._to_document)->MapBatches(BaseMapTransformCallable___wrap)) pid=202194) INFO:sycamore.transforms.detr_partitioner:ArynPartitioner: T+ 106.55: completed page 73\n",
      "(MapWorker(Map(BinaryScan._to_document)->MapBatches(BaseMapTransformCallable___wrap)) pid=202194) INFO:sycamore.transforms.detr_partitioner:ArynPartitioner: T+ 107.62: completed page 74\n",
      "(MapWorker(Map(BinaryScan._to_document)->MapBatches(BaseMapTransformCallable___wrap)) pid=202194) INFO:sycamore.transforms.detr_partitioner:ArynPartitioner: T+ 108.25: completed page 75\n",
      "(MapWorker(Map(BinaryScan._to_document)->MapBatches(BaseMapTransformCallable___wrap)) pid=202194) INFO:sycamore.transforms.detr_partitioner:ArynPartitioner: T+ 109.68: completed page 76\n",
      "(MapWorker(Map(BinaryScan._to_document)->MapBatches(BaseMapTransformCallable___wrap)) pid=202194) INFO:sycamore.transforms.detr_partitioner:ArynPartitioner: T+ 110.65: completed page 78\n",
      "(MapWorker(Map(BinaryScan._to_document)->MapBatches(BaseMapTransformCallable___wrap)) pid=202194) INFO:sycamore.transforms.detr_partitioner:ArynPartitioner: T+ 111.18: completed page 79\n",
      "(MapWorker(Map(BinaryScan._to_document)->MapBatches(BaseMapTransformCallable___wrap)) pid=202194) INFO:sycamore.transforms.detr_partitioner:ArynPartitioner: T+ 111.55: completed page 80\n",
      "(MapWorker(Map(BinaryScan._to_document)->MapBatches(BaseMapTransformCallable___wrap)) pid=202194) INFO:sycamore.transforms.detr_partitioner:ArynPartitioner: T+ 111.57: completed page 77\n",
      "(MapWorker(Map(BinaryScan._to_document)->MapBatches(BaseMapTransformCallable___wrap)) pid=202194) INFO:sycamore.transforms.detr_partitioner:ArynPartitioner: T+ 115.48: completed page 81\n",
      "(MapWorker(Map(BinaryScan._to_document)->MapBatches(BaseMapTransformCallable___wrap)) pid=202194) INFO:sycamore.transforms.detr_partitioner:ArynPartitioner: T+ 116.21: completed page 82\n",
      "(MapWorker(Map(BinaryScan._to_document)->MapBatches(BaseMapTransformCallable___wrap)) pid=202194) INFO:sycamore.transforms.detr_partitioner:ArynPartitioner: T+ 116.46: completed page 83\n",
      "(MapWorker(Map(BinaryScan._to_document)->MapBatches(BaseMapTransformCallable___wrap)) pid=202194) INFO:sycamore.transforms.detr_partitioner:ArynPartitioner: T+ 117.95: completed page 84\n",
      "(MapWorker(Map(BinaryScan._to_document)->MapBatches(BaseMapTransformCallable___wrap)) pid=202194) INFO:sycamore.transforms.detr_partitioner:ArynPartitioner: T+ 118.46: completed page 85\n",
      "(MapBatches(regex_replace)->MapBatches(merge_elements)->MapBatches(spread_properties)->MapBatches(explode) pid=202065) Token indices sequence length is longer than the specified maximum sequence length for this model (818 > 512). Running this sequence through the model will result in indexing errors\n",
      "(MapWorker(MapBatches(BaseMapTransformCallable__SentenceTransformerEmbedder)) pid=202242) INFO:datasets:PyTorch version 2.4.0 available.\n",
      "(MapWorker(MapBatches(BaseMapTransformCallable__SentenceTransformerEmbedder)) pid=202242) INFO:sentence_transformers.SentenceTransformer:Use pytorch device_name: cuda\n",
      "(MapWorker(MapBatches(BaseMapTransformCallable__SentenceTransformerEmbedder)) pid=202242) INFO:sentence_transformers.SentenceTransformer:Load pretrained SentenceTransformer: sentence-transformers/all-mpnet-base-v2\n",
      "(MapWorker(MapBatches(BaseMapTransformCallable__SentenceTransformerEmbedder)) pid=202242) /home/admin/.cache/pypoetry/virtualenvs/sycamore-monorepo-RdRTS9RD-py3.11/lib/python3.11/site-packages/transformers/tokenization_utils_base.py:1601: FutureWarning: `clean_up_tokenization_spaces` was not set. It will be set to `True` by default. This behavior will be depracted in transformers v4.45, and will be then set to `False` by default. For more details check this issue: https://github.com/huggingface/transformers/issues/31884\n",
      "(MapWorker(MapBatches(BaseMapTransformCallable__SentenceTransformerEmbedder)) pid=202242)   warnings.warn(\n",
      "(pid=202444) INFO:root:Spurious log 1: Verifying that log messages are propogated\n",
      "Batches:   0%|          | 0/1 [00:00<?, ?it/s]__SentenceTransformerEmbedder)) pid=202242) \n",
      "Batches: 100%|██████████| 1/1 [00:02<00:00,  2.31s/it]ceTransformerEmbedder)) pid=202242) \n",
      "Batches:   0%|          | 0/1 [00:00<?, ?it/s]__SentenceTransformerEmbedder)) pid=202242) \n",
      "Batches: 100%|██████████| 1/1 [00:00<00:00,  1.42it/s]ceTransformerEmbedder)) pid=202242) \n",
      "(MapBatches(OsrchWrite) pid=202445) INFO:opensearch:HEAD https://localhost:9200/ [status:200 request:0.022s]\n",
      "(MapBatches(OsrchWrite) pid=202445) INFO:opensearch:PUT https://localhost:9200/sample0 [status:200 request:0.264s]\n",
      "(MapBatches(OsrchWrite) pid=202445) INFO:opensearch:GET https://localhost:9200/sample0 [status:200 request:0.002s]\n",
      "(MapBatches(OsrchWrite) pid=202445) INFO:opensearch:POST https://localhost:9200/_bulk [status:200 request:0.485s]\n",
      "(pid=202446) INFO:root:Spurious log 1: Verifying that log messages are propogated [repeated 2x across cluster](MapBatches(_build_opensearch_query) pid=202445) INFO:datasets:PyTorch version 2.4.0 available.\n",
      "(MapBatches(_build_opensearch_query) pid=202445) INFO:sentence_transformers.SentenceTransformer:Use pytorch device_name: cpu\n",
      "(MapBatches(_build_opensearch_query) pid=202445) INFO:sentence_transformers.SentenceTransformer:Load pretrained SentenceTransformer: sentence-transformers/all-mpnet-base-v2\n",
      "(MapBatches(_build_opensearch_query) pid=202445) /home/admin/.cache/pypoetry/virtualenvs/sycamore-monorepo-RdRTS9RD-py3.11/lib/python3.11/site-packages/transformers/tokenization_utils_base.py:1601: FutureWarning: `clean_up_tokenization_spaces` was not set. It will be set to `True` by default. This behavior will be depracted in transformers v4.45, and will be then set to `False` by default. For more details check this issue: https://github.com/huggingface/transformers/issues/31884\n",
      "(MapBatches(_build_opensearch_query) pid=202445)   warnings.warn(\n",
      "Batches:   0%|          | 0/1 [00:00<?, ?it/s]5) \n",
      "Batches: 100%|██████████| 1/1 [00:00<00:00, 15.92it/s]\n",
      "(MapBatches(query) pid=202445)(MapBatches(_build_opensearch_query) pid=202445) INFO:sentence_transformers.SentenceTransformer:Use pytorch device_name: cpu\n",
      "(MapBatches(_build_opensearch_query) pid=202445) INFO:sentence_transformers.SentenceTransformer:Load pretrained SentenceTransformer: sentence-transformers/all-mpnet-base-v2\n",
      "(MapBatches(_build_opensearch_query) pid=202445) /home/admin/.cache/pypoetry/virtualenvs/sycamore-monorepo-RdRTS9RD-py3.11/lib/python3.11/site-packages/transformers/tokenization_utils_base.py:1601: FutureWarning: `clean_up_tokenization_spaces` was not set. It will be set to `True` by default. This behavior will be depracted in transformers v4.45, and will be then set to `False` by default. For more details check this issue: https://github.com/huggingface/transformers/issues/31884\n",
      "(MapBatches(_build_opensearch_query) pid=202445)   warnings.warn(\n",
      "Batches: 100%|██████████| 1/1 [00:00<00:00, 16.25it/s]\n",
      "(MapBatches(query) pid=202445) INFO:opensearch:POST https://localhost:9200/sample0/_search?search_pipeline=hybrid_rag_pipeline [status:200 request:5.974s]\n",
      "(MapBatches(_build_opensearch_query) pid=202445) INFO:sentence_transformers.SentenceTransformer:Use pytorch device_name: cpu\n",
      "(MapBatches(_build_opensearch_query) pid=202445) INFO:sentence_transformers.SentenceTransformer:Load pretrained SentenceTransformer: sentence-transformers/all-mpnet-base-v2\n",
      "(MapBatches(_build_opensearch_query) pid=202445) /home/admin/.cache/pypoetry/virtualenvs/sycamore-monorepo-RdRTS9RD-py3.11/lib/python3.11/site-packages/transformers/tokenization_utils_base.py:1601: FutureWarning: `clean_up_tokenization_spaces` was not set. It will be set to `True` by default. This behavior will be depracted in transformers v4.45, and will be then set to `False` by default. For more details check this issue: https://github.com/huggingface/transformers/issues/31884\n",
      "(MapBatches(_build_opensearch_query) pid=202445)   warnings.warn(\n",
      "Batches:   0%|          | 0/1 [00:00<?, ?it/s]5) \n",
      "Batches: 100%|██████████| 1/1 [00:00<00:00, 11.03it/s]\n",
      "(MapBatches(query) pid=202445)"
     ]
    },
    {
     "name": "stderr",
     "output_type": "stream",
     "text": [
      "2024-08-08 20:09:10,866\tWARNING util.py:560 -- The argument ``compute`` is deprecated in Ray 2.9. Please specify argument ``concurrency`` instead. For more information, see https://docs.ray.io/en/master/data/transforming-data.html#stateful-transforms.\n",
      "2024-08-08 20:09:10,870\tWARNING util.py:560 -- The argument ``compute`` is deprecated in Ray 2.9. Please specify argument ``concurrency`` instead. For more information, see https://docs.ray.io/en/master/data/transforming-data.html#stateful-transforms.\n",
      "2024-08-08 20:09:10,876\tINFO streaming_executor.py:112 -- Starting execution of Dataset. Full logs are in /tmp/ray/session_2024-08-08_20-09-00_792061_176511/logs/ray-data\n",
      "2024-08-08 20:09:10,876\tINFO streaming_executor.py:113 -- Execution plan of Dataset: InputDataBuffer[Input] -> TaskPoolMapOperator[ReadBinary] -> ActorPoolMapOperator[Map(BinaryScan._to_document)->MapBatches(BaseMapTransformCallable___wrap)] -> TaskPoolMapOperator[MapBatches(regex_replace)->MapBatches(merge_elements)->MapBatches(spread_properties)->MapBatches(explode)] -> ActorPoolMapOperator[MapBatches(BaseMapTransformCallable__SentenceTransformerEmbedder)] -> TaskPoolMapOperator[MapBatches(OsrchWrite)]\n"
     ]
    },
    {
     "data": {
      "application/vnd.jupyter.widget-view+json": {
       "model_id": "46eea6acd77440c7935ae9d7880014cc",
       "version_major": 2,
       "version_minor": 0
      },
      "text/plain": [
       "- ReadBinary->SplitBlocks(16) 1:   0%|          | 0/1 [00:00<?, ?it/s]"
      ]
     },
     "metadata": {},
     "output_type": "display_data"
    },
    {
     "data": {
      "application/vnd.jupyter.widget-view+json": {
       "model_id": "dcf7d2f51879449889f85510d5d56bee",
       "version_major": 2,
       "version_minor": 0
      },
      "text/plain": [
       "- Map(BinaryScan._to_document)->MapBatches(BaseMapTransformCallable___wrap) 2:   0%|          | 0/1 [00:00<?, …"
      ]
     },
     "metadata": {},
     "output_type": "display_data"
    },
    {
     "data": {
      "application/vnd.jupyter.widget-view+json": {
       "model_id": "e50821108b2b4d709919202a3b4011d1",
       "version_major": 2,
       "version_minor": 0
      },
      "text/plain": [
       "- MapBatches(regex_replace)->MapBatches(merge_elements)->MapBatches(spread_properties)->MapBatches(explode) 3:…"
      ]
     },
     "metadata": {},
     "output_type": "display_data"
    },
    {
     "data": {
      "application/vnd.jupyter.widget-view+json": {
       "model_id": "172bee6f8c114f7aa8f06aa0dc45826b",
       "version_major": 2,
       "version_minor": 0
      },
      "text/plain": [
       "- MapBatches(BaseMapTransformCallable__SentenceTransformerEmbedder) 4:   0%|          | 0/1 [00:00<?, ?it/s]"
      ]
     },
     "metadata": {},
     "output_type": "display_data"
    },
    {
     "data": {
      "application/vnd.jupyter.widget-view+json": {
       "model_id": "98ff3695eba14cd88bdf7045a18606e7",
       "version_major": 2,
       "version_minor": 0
      },
      "text/plain": [
       "- MapBatches(OsrchWrite) 5:   0%|          | 0/1 [00:00<?, ?it/s]"
      ]
     },
     "metadata": {},
     "output_type": "display_data"
    },
    {
     "data": {
      "application/vnd.jupyter.widget-view+json": {
       "model_id": "e0c501ed13b24957b29fc3bca309396e",
       "version_major": 2,
       "version_minor": 0
      },
      "text/plain": [
       "Running 0:   0%|          | 0/1 [00:00<?, ?it/s]"
      ]
     },
     "metadata": {},
     "output_type": "display_data"
    }
   ],
   "source": [
    "ds.write.opensearch(\n",
    "    os_client_args=os_client_args,\n",
    "    index_name=index,\n",
    "    index_settings=index_settings,\n",
    ")"
   ]
  },
  {
   "cell_type": "markdown",
   "metadata": {},
   "source": [
    "## Querying"
   ]
  },
  {
   "cell_type": "markdown",
   "metadata": {},
   "source": [
    "#### Without Subtasks"
   ]
  },
  {
   "cell_type": "code",
   "execution_count": 29,
   "metadata": {},
   "outputs": [],
   "source": [
    "# Question taken from FinanceBench\n",
    "\n",
    "document = EvaluationDataPoint()\n",
    "document.question = \"What is Amazon's FY2017 days payable outstanding (DPO)? DPO is defined as: 365 * (average accounts payable between FY2016 and FY2017) / (FY2017 COGS + change in inventory between FY2016 and FY2017). Round your answer to two decimal places. Address the question by using the line items and information shown within the balance sheet and the P&L statement.\"\n",
    "document.ground_truth_answer = \"93.86\"\n",
    "document.doc_id = \"demo_nosubtask\"\n",
    "document.properties[\"subtasks_reqd\"] = False\n",
    "\n",
    "input_docset = DocSet(context, DocScan([document]))"
   ]
  },
  {
   "cell_type": "code",
   "execution_count": 30,
   "metadata": {},
   "outputs": [
    {
     "name": "stderr",
     "output_type": "stream",
     "text": [
      "2024-08-08 20:58:24,030\tINFO streaming_executor.py:112 -- Starting execution of Dataset. Full logs are in /tmp/ray/session_2024-08-08_20-37-25_809660_203369/logs/ray-data\n",
      "2024-08-08 20:58:24,030\tINFO streaming_executor.py:113 -- Execution plan of Dataset: InputDataBuffer[Input] -> TaskPoolMapOperator[MapBatches(_build_opensearch_query)] -> TaskPoolMapOperator[MapBatches(query)] -> TaskPoolMapOperator[MapBatches(_process_queries)]\n"
     ]
    },
    {
     "data": {
      "application/vnd.jupyter.widget-view+json": {
       "model_id": "abec18508b594fb8b20facb2dbcbf586",
       "version_major": 2,
       "version_minor": 0
      },
      "text/plain": [
       "- MapBatches(_build_opensearch_query) 1:   0%|          | 0/1 [00:00<?, ?it/s]"
      ]
     },
     "metadata": {},
     "output_type": "display_data"
    },
    {
     "data": {
      "application/vnd.jupyter.widget-view+json": {
       "model_id": "b9fc758dcaa446398180084a78962221",
       "version_major": 2,
       "version_minor": 0
      },
      "text/plain": [
       "- MapBatches(query) 2:   0%|          | 0/1 [00:00<?, ?it/s]"
      ]
     },
     "metadata": {},
     "output_type": "display_data"
    },
    {
     "data": {
      "application/vnd.jupyter.widget-view+json": {
       "model_id": "8b3319e1574044ecb0a2d55a0ab59ae1",
       "version_major": 2,
       "version_minor": 0
      },
      "text/plain": [
       "- MapBatches(_process_queries) 3:   0%|          | 0/1 [00:00<?, ?it/s]"
      ]
     },
     "metadata": {},
     "output_type": "display_data"
    },
    {
     "data": {
      "application/vnd.jupyter.widget-view+json": {
       "model_id": "5f9bc5c9e86e45d3a7e09577528833be",
       "version_major": 2,
       "version_minor": 0
      },
      "text/plain": [
       "Running 0:   0%|          | 0/1 [00:00<?, ?it/s]"
      ]
     },
     "metadata": {},
     "output_type": "display_data"
    },
    {
     "name": "stdout",
     "output_type": "stream",
     "text": [
      "COMPLETE\n"
     ]
    },
    {
     "data": {
      "text/plain": [
       "[{'properties': {'subtasks_reqd': False}, 'elements': [], 'lineage_id': '857762ae-7612-4e99-a230-5eb3ba1046e6', 'type': 'EvaluationDataPoint', 'question': \"What is Amazon's FY2017 days payable outstanding (DPO)? DPO is defined as: 365 * (average accounts payable between FY2016 and FY2017) / (FY2017 COGS + change in inventory between FY2016 and FY2017). Round your answer to two decimal places. Address the question by using the line items and information shown within the balance sheet and the P&L statement.\", 'ground_truth_answer': '93.86', 'doc_id': 'demo_q1', 'index': 'sample0', 'query': {'_source': {'excludes': ['embedding']}, 'size': 10, 'query': {'knn': {'embedding': {'vector': [0.018365908414125443, -0.032008253037929535, -0.04999585822224617, -0.015410860069096088, 0.043805524706840515, 0.03495189547538757, 0.020780600607395172, -0.030526503920555115, 0.023441841825842857, -0.008030596189200878, 0.044345673173666, 0.01119137927889824, 0.04476682469248772, 0.04529480263590813, -0.06741412729024887, -0.03397646173834801, -0.017010759562253952, -0.0008535846718586981, -0.035654615610837936, -0.005520784296095371, 0.007932937704026699, 0.03518630936741829, -0.07248412072658539, -0.047744330018758774, 0.013852552510797977, -0.039094917476177216, 0.0004808456578757614, -0.029281364753842354, -0.03189830482006073, -0.036929670721292496, 0.052356816828250885, -0.023946059867739677, -0.005327630788087845, -0.01655488833785057, 2.010199523283518e-06, -0.022336142137646675, -0.01122441329061985, 0.019234806299209595, -0.02922929637134075, 0.01843605749309063, -0.05406421422958374, -0.025677252560853958, 0.01238501351326704, 0.008057552389800549, 0.0011294630821794271, -0.07271846383810043, 0.007983747869729996, 0.0041013844311237335, -0.04056745767593384, -0.02631302922964096, -0.014173727482557297, 0.008091875351965427, 0.04122355207800865, 0.028057117015123367, 0.03623742237687111, -0.042810820043087006, -0.0036686407402157784, 0.05832764506340027, -4.881889981334098e-05, -0.1192704364657402, 0.007962011732161045, -0.018265973776578903, 0.03179345279932022, 0.02282499335706234, 0.0032869544811546803, 0.023201335221529007, 0.10662556439638138, -0.005756236147135496, -0.03375887870788574, -0.026607664301991463, 0.12446119636297226, 0.019358277320861816, 0.014460106380283833, 0.029248209670186043, 0.025026794523000717, -0.018409153446555138, -0.0018899249844253063, 0.0008365038665942848, 0.01946740597486496, -0.029134921729564667, 0.01653631217777729, 0.08775822073221207, 0.01168203353881836, 0.0617997869849205, -0.049147941172122955, 0.02527288906276226, -0.03565292805433273, -0.014085729606449604, -0.0007580930250696838, 0.003605826059356332, -0.008185467682778835, -0.027866587042808533, 0.0843367949128151, 0.0227656252682209, 0.04339994862675667, 0.002892974764108658, 0.013959890231490135, -0.045054834336042404, -0.02537335827946663, -0.01519161369651556, 0.01333517674356699, -0.018524106591939926, -0.030722621828317642, -0.01645479165017605, -0.007362108677625656, 0.10929912328720093, -0.03864704817533493, -0.012865295633673668, 0.013526935130357742, 0.06015484407544136, 0.05398626625537872, -0.0456487275660038, -0.028836015611886978, 0.049168869853019714, 0.03738035634160042, -0.03440852835774422, 0.005250975023955107, -0.031951360404491425, -0.038617782294750214, -0.046054720878601074, 0.03636857122182846, -0.009701005183160305, 0.009840244427323341, -0.0051370360888540745, -0.07710233330726624, -0.0018731900490820408, -0.04936419054865837, 0.025811349973082542, 1.7477767642049002e-06, -0.030931932851672173, 0.03337608650326729, -0.034105781465768814, 0.015615588054060936, -0.0345722958445549, 0.018106963485479355, 0.09032253921031952, 0.0327339693903923, 0.04564701393246651, 0.04293614253401756, 0.044926613569259644, -0.019026225432753563, -2.645831227710005e-05, -0.0359782837331295, 0.018816014751791954, 0.0018197380704805255, 0.0072797383181750774, -0.006674346048384905, 0.038658320903778076, 0.004576929844915867, 0.060046158730983734, 0.06510597467422485, -0.0639248862862587, -0.05871124193072319, -0.024000180885195732, 0.025218548253178596, -0.02249724604189396, 0.03612581267952919, -0.05321093276143074, 0.0731096938252449, -0.029911236837506294, 0.0048832967877388, -0.011101254262030125, 0.03430362418293953, -0.014567009173333645, -0.007501813117414713, -0.02225317433476448, 0.02423815056681633, 0.021105028688907623, -0.07502080500125885, -0.011455154977738857, -0.007349398918449879, 0.028556736186146736, -0.041307929903268814, -0.008180241100490093, -0.0014033245388418436, -0.05814662203192711, -0.0009958763839676976, 0.0042657554149627686, -0.01808013953268528, 0.010992651805281639, 0.011113649234175682, -0.06380265206098557, -0.00542568089440465, 0.01907096430659294, -0.043302468955516815, 0.0048980796709656715, -0.0163438580930233, -0.05395182594656944, 0.021809929981827736, -0.017312271520495415, -0.05900517851114273, 0.019011735916137695, -0.03428854048252106, 0.028294092044234276, -0.03827114775776863, 0.010641902685165405, 0.012472651898860931, 0.030751438811421394, -0.010339120402932167, 0.05246584117412567, -0.0046854885295033455, -0.02428046241402626, -0.0022464583162218332, -0.013907164335250854, 0.043787881731987, 0.012743107043206692, -0.04514608532190323, -0.024461954832077026, -0.023195622488856316, 0.029279734939336777, 0.007480986882001162, 0.0063331276178359985, -0.02046961337327957, 0.012150945141911507, -0.012631692923605442, -0.013624421320855618, -0.02929624915122986, 0.0019152461318299174, -0.020772479474544525, -0.015811339020729065, 0.014127210713922977, -0.05282340198755264, -0.012371408753097057, 0.034197449684143066, -4.1881747165462e-05, -0.025379039347171783, -0.011271439492702484, 0.019096899777650833, 0.02657475881278515, 0.015913089737296104, 0.02725895866751671, -0.004874334670603275, -0.0016095564933493733, -0.005226452834904194, -0.005938630551099777, 0.04784132540225983, 0.0063747987151145935, 0.060988977551460266, 0.024114737287163734, 0.008445242419838905, -0.0010157142532989383, -0.021483134478330612, 0.010268902406096458, 0.013176084496080875, -0.03683377802371979, -0.01738952286541462, -0.023700816556811333, -0.022213468328118324, -0.02948090434074402, -0.003891928354278207, 0.032320357859134674, 0.011553268879652023, 0.054879240691661835, -0.0011461779940873384, 0.03888772428035736, -0.055450089275836945, -0.017797714099287987, 0.020321493968367577, 0.03958699852228165, 0.031197020784020424, -0.004821513779461384, -0.04832007735967636, -0.02628856897354126, 0.019975464791059494, -0.0202370323240757, -0.013840848580002785, -0.029360735788941383, 0.10296204686164856, -0.006619469728320837, 0.012930857948958874, 0.009663478471338749, -0.00516221858561039, -0.03969551622867584, -0.0252264142036438, -0.008050277829170227, 0.02136138454079628, -0.07071187347173691, -0.051626335829496384, 0.006783889606595039, 0.044052593410015106, 0.05887396261096001, -0.04572106525301933, 0.050344809889793396, 0.00045393130858428776, 0.009559689089655876, -0.04276826232671738, 0.027535535395145416, -0.07307479530572891, 0.0010892621940001845, 0.08451040834188461, -0.06337090581655502, -0.03306606039404869, 0.022823521867394447, -0.020852060988545418, -0.006614710204303265, -0.01354412455111742, -0.011183476075530052, 0.004458924755454063, -0.004242937080562115, -0.03614335507154465, -0.020934782922267914, -0.059446465224027634, -0.009439908899366856, -0.02236947976052761, 0.00963032990694046, 0.050431832671165466, 0.042638666927814484, 0.016881301999092102, -0.05072115361690521, 0.005791866686195135, 0.016361473128199577, -0.016169823706150055, 0.008358449675142765, -0.050361353904008865, 0.004950922913849354, -0.07364857196807861, 0.053100548684597015, 0.07867824286222458, -0.05220945551991463, 0.04862390458583832, 0.011033831164240837, -0.017546650022268295, 0.013504790142178535, 0.02478133514523506, -0.0018187346868216991, -0.01173597015440464, 0.03237788379192352, 0.02188098430633545, 0.007200449239462614, -0.011243662796914577, -0.013012486509978771, -0.08123325556516647, -0.07416555285453796, 0.02338450960814953, 0.08083106577396393, -0.0027815494686365128, 0.005388116929680109, -0.02186751924455166, 0.04783598706126213, -0.0009751583565957844, -0.01124920416623354, 0.0043135215528309345, -0.0008518145768903196, 0.049040138721466064, 0.01293129287660122, 0.012274175882339478, -0.0548439621925354, 0.02612595446407795, -0.07890480011701584, -0.011222858913242817, 0.013455159030854702, 0.026375073939561844, -0.054924387484788895, 0.0007176380604505539, -0.01661522686481476, -0.054231710731983185, -0.012549196369946003, -0.019885262474417686, 0.01364947110414505, -0.08779969066381454, -0.04094178229570389, -0.06810285151004791, 0.05596863105893135, -0.006664967630058527, 0.04810822010040283, 0.013680134899914265, 0.02926996536552906, 0.019435202702879906, -0.026836810633540154, 0.07889807969331741, -0.10592257231473923, -0.03112437017261982, -0.009190022014081478, 0.007988087832927704, 0.02247907966375351, -0.01986738294363022, 0.023114411160349846, 0.013330934569239616, 0.013761620037257671, 0.016886364668607712, 0.007087019272148609, -0.06461872160434723, 0.03573620319366455, 0.030659766867756844, -0.028575565665960312, 0.0188700333237648, -0.0553605780005455, -0.03885912895202637, -0.06543130427598953, -0.07077736407518387, -0.019775962457060814, 0.06995441764593124, -0.013707591220736504, 0.06792010366916656, 0.02302081137895584, -0.020011385902762413, -0.03455743566155434, 0.01497543603181839, 0.04311015084385872, 0.034325212240219116, 0.00838865339756012, -0.013032027520239353, 0.05483153462409973, 0.07712791860103607, 0.058934494853019714, -0.05751756951212883, 0.06750544905662537, 0.0061024208553135395, -0.07521919161081314, 0.017555544152855873, -0.043361011892557144, 0.012308753095567226, -0.023773901164531708, 0.022721393033862114, 0.011673382483422756, -0.027005277574062347, 0.024416878819465637, 0.015097151510417461, 0.07406240701675415, -0.04566628113389015, 0.022441616281867027, -0.019614674150943756, 0.018663929775357246, 0.029523318633437157, 0.01962871663272381, 0.02366393618285656, 0.004745269659906626, -0.013381539843976498, -0.042051173746585846, -0.019312784075737, -0.026152530685067177, -0.07684287428855896, -0.010283035226166248, 0.0018288028659299016, -0.11418742686510086, 0.10679797828197479, 0.009791328571736813, 0.0402260385453701, 0.056014299392700195, -0.03061802312731743, 0.00041066185804083943, -0.04211525246500969, 0.033601969480514526, 0.05024580657482147, -0.044740501791238785, -0.0428982637822628, 0.02459399588406086, 0.05211158096790314, -0.06884728372097015, 0.057602640241384506, 0.06266400218009949, -0.04967629536986351, 0.04153301194310188, -0.04562036693096161, -0.010202056728303432, -0.03797481209039688, 0.02401510626077652, -0.0724307969212532, 0.009950309991836548, 0.09050484001636505, 0.005615186411887407, 0.01189566869288683, -0.05809593200683594, 0.005072061438113451, 0.02127774991095066, -0.002563611837103963, 0.05404055491089821, -0.04380390793085098, -0.046485818922519684, -0.02964016981422901, 0.05560045316815376, 0.029160521924495697, -0.002229192992672324, 0.006395714357495308, 0.03601311892271042, 0.04257116839289665, -0.01721901074051857, 0.04915555566549301, -0.007519952487200499, -0.012796115130186081, -0.0016220775432884693, -0.0014112766366451979, 0.012752741575241089, -0.050694968551397324, -0.037341032177209854, 0.0035570140462368727, 0.024775534868240356, 0.018629951402544975, -0.0157401692122221, 0.015118202194571495, 0.013444446958601475, -0.029719263315200806, 0.007693705148994923, 0.07562271505594254, 0.003749449970200658, -0.003319429699331522, 0.04761813208460808, 0.025506053119897842, 0.04170550778508186, -0.0005118836415931582, -0.04509182646870613, 0.042506735771894455, 0.05948694050312042, 0.00023055005294736475, -0.00018801070109475404, 0.0531628280878067, 0.017157109454274178, 0.058192502707242966, -0.024814190343022346, 0.01953980140388012, -0.03663957118988037, -0.04469107836484909, 0.009765750728547573, 0.05367079749703407, 0.0237563606351614, -0.007512149401009083, -0.05542116239666939, -0.028637483716011047, 0.0031314657535403967, -0.037803150713443756, -0.009574005380272865, 0.014012797735631466, 0.009545998647809029, -0.033824753016233444, 0.03646472468972206, -0.014827707782387733, 0.04559457302093506, -0.02284848876297474, 0.003555648261681199, -0.013601426966488361, -0.025566523894667625, 0.013228664174675941, -0.0020396546460688114, 0.045082975178956985, -0.018977003172039986, -0.014908985234797001, 0.022435646504163742, -0.03879466652870178, 0.035496704280376434, 0.016659583896398544, -0.012100146152079105, 0.007388623431324959, -0.006168428808450699, -0.007278646342456341, 0.06000837683677673, -0.02927643060684204, -0.0229767058044672, 0.006260131485760212, -0.013498697429895401, 0.057109441608190536, 0.00039685110095888376, 0.023703504353761673, -0.059027716517448425, 0.055971886962652206, -0.007280220277607441, -5.336965125265949e-33, 0.009679380804300308, -0.04314708337187767, 0.009725376963615417, 0.027651125565171242, -0.03188258409500122, 0.08220809698104858, 0.007847696542739868, -0.026506613940000534, -0.027616659179329872, 0.05055571720004082, -0.025406716391444206, 0.0013768660137429833, 0.024859478697180748, -0.030248166993260384, 0.006851487793028355, 0.03475504741072655, -0.06662381440401077, -0.02207902818918228, -0.0047058286145329475, -0.04520945996046066, 0.020843608304858208, 0.04524623230099678, 0.011609431356191635, 0.07433497160673141, 0.10028842091560364, -0.02329389564692974, -0.022087639197707176, 0.0012295293854549527, -0.009234108030796051, 0.034394290298223495, -0.009254800155758858, -0.03972805291414261, -0.0335431843996048, 0.027818528935313225, -0.03968283534049988, -0.05788921192288399, 0.005644975230097771, -0.010533417575061321, 0.0018360863905400038, -0.015763211995363235, -0.01286281831562519, 0.020520001649856567, -0.02664157748222351, 0.016579696908593178, -0.03178142011165619, -0.020390981808304787, -0.008312810212373734, -0.02345114015042782, -0.02220567688345909, -0.006417660973966122, -0.0038727112114429474, 0.02069368213415146, -0.04149722680449486, -0.00808317307382822, 0.04932524636387825, 0.06377964466810226, -0.01494016032665968, -0.005731150042265654, -0.0644206777215004, 0.020766276866197586, -0.019938217476010323, 0.03739805892109871, -0.00557555491104722, -0.00744645856320858, 0.06001177802681923, 0.021946657449007034, 0.0029519409872591496, -0.009631436318159103, 0.0027940250001847744, 0.05581091344356537, -0.0011878354707732797, 0.0017795602325350046, -0.018500279635190964, -0.030976226553320885, 0.02954324707388878, 0.06674830615520477, 0.019571589305996895, -0.006290331017225981, -0.04524097591638565, 0.05656838417053223, 0.07314570993185043, 0.0016615302301943302, -0.006035227328538895, 0.017575543373823166, 0.008882946334779263, -0.04935317859053612, -0.006826261058449745, -0.020686393603682518, -0.04227688908576965, -0.037932947278022766, -0.02945665270090103, -0.025735441595315933, -0.020417669788002968, 0.0014175844844430685, -0.06084805354475975, 0.0003112894482910633, -0.025751609355211258, 0.042773567140102386, -0.00928645022213459, -0.029764613136649132, -0.001455229357816279, -0.013001260347664356, -0.053138334304094315, 0.028607062995433807, 0.026037968695163727, 0.011759782209992409, -0.006669588387012482, -0.0033139577135443687, 0.01314547285437584, -0.015371239744126797, 0.009496246464550495, -0.04303457587957382, 0.014039925299584866, 0.13440488278865814, -0.021395066753029823, -0.0375971794128418, -0.0013023068895563483, -0.0174754299223423, 0.022084832191467285, -0.029629357159137726, 0.03531179204583168, 0.05254675820469856, -0.011934825219213963, -0.021122194826602936, -0.050873830914497375, -0.04410526901483536, -0.022990548983216286, -0.01636691763997078, -0.03651847690343857, 0.014369595795869827, 0.019717928022146225, 0.039594925940036774, 2.678108614873054e-07, -0.02446398325264454, 0.03013405203819275, 0.05018202215433121, 0.05293197184801102, 0.004985971376299858, -0.022074025124311447, -0.019809527322649956, 0.017655938863754272, -0.005768804345279932, 0.0033965553157031536, 0.04543834924697876, -0.0022687308955937624, 0.0414879135787487, 0.01992063969373703, -0.0036969429347664118, -0.04530355706810951, -0.005294981878250837, -0.0006311431061476469, -0.035110339522361755, -0.0008394269389100373, -0.055497199296951294, -0.037487536668777466, 0.06494521349668503, 0.022367853671312332, 0.031145013868808746, 0.027456583455204964, -0.03846212849020958, 0.0016948506236076355, 0.013950095511972904, -0.003088896395638585, 0.051289744675159454, -0.016235526651144028, -0.004570356570184231, -0.041274212300777435, 0.014686059206724167, 0.07343845069408417, 0.03703297674655914, 0.02053144760429859, 0.00858828891068697, 0.03813529759645462, 0.026346085593104362, -0.016929497942328453, -0.008982008323073387, -0.04078028351068497, -0.0011447070864960551, 0.013995201326906681, -0.0784081369638443, 0.0030173962004482746, 0.062095560133457184, -0.0364510715007782, 0.045516785234212875, -0.01694454625248909, -0.026943562552332878, -0.007585151121020317, 0.0019337671110406518, -0.0466938391327858, -0.007351989857852459, 0.015952110290527344, -0.03280613198876381, -0.008473138324916363, -0.02641870267689228, 0.02948612906038761, -0.02625906839966774, 0.032944317907094955, -0.0023213850799947977, 0.025482408702373505, 0.04880113899707794, 1.7567877867409284e-34, 0.004693754483014345, 0.00940761249512434, -0.05026310682296753, -0.023234926164150238, -0.0014085733564570546, -0.04053868353366852, 0.07174552977085114, -0.013473626226186752, -0.030946524813771248, -0.040937941521406174, -0.05944550037384033], 'k': 200, 'filter': {'bool': {'must': [{'match': {'text_representation': \"What is Amazon's FY2017 days payable outstanding (DPO)? DPO is defined as: 365 * (average accounts payable between FY2016 and FY2017) / (FY2017 COGS + change in inventory between FY2016 and FY2017). Round your answer to two decimal places. Address the question by using the line items and information shown within the balance sheet and the P&L statement.\"}}]}}}}}, 'ext': {'generative_qa_parameters': {'llm_question': \"What is Amazon's FY2017 days payable outstanding (DPO)? DPO is defined as: 365 * (average accounts payable between FY2016 and FY2017) / (FY2017 COGS + change in inventory between FY2016 and FY2017). Round your answer to two decimal places. Address the question by using the line items and information shown within the balance sheet and the P&L statement.\", 'context_size': '10', 'llm_model': 'gpt-4o'}}}, 'params': {'search_pipeline': 'hybrid_rag_pipeline'}, 'result': {'took': 5, 'timed_out': False, 'terminated_early': False, '_shards': {'total': 5, 'successful': 5, 'skipped': 0, 'failed': 0}, 'hits': {'total': {'value': 10, 'relation': 'eq'}, 'max_score': 0.52590793, 'hits': [{'_index': 'sample0', '_id': 'e45b508b-cd6e-495d-a444-c23ae1c46efa', '_score': 0.52590793, '_source': {'parent_id': '17196066-55c2-11ef-aec0-0e0308f3cbb1', 'elements': [], 'bbox': [0.02812799790326287, 0.12998905528675425, 0.9659321145450368, 0.42417768998579547], 'shingles': None, 'text_representation': 'As part of entering into commercial agreements, we often obtain equity warrant assets giving us the right to acquire stock of other companies. As of December 31, 2016 and 2017 , these warrants had a fair value of $223 million and $441 million , and are recorded within “Other assets” on our consolidated balance sheets. The related gain (loss) recorded in “Other income (expense), net” was $0 million , $67 million , and $109 million in 2015 , 2016 , and 2017 . These assets are primarily classified as Level 2 assets.\\nCash and Cash Equivalents\\nWe classify all highly liquid instruments with an original maturity of three months or less as cash equivalents.\\nInventories\\nInventories, consisting of products available for sale, are primarily accounted for using the first-in, first-out method, and are valued at the lower of cost and net realizable value. This valuation requires us to make judgments, based on currently available information, about the likely method of disposition, such as through sales to individual customers, returns to product vendors, or liquidations, and expected recoverable values of each disposition category.\\nWe provide Fulfillment by Amazon services in connection with certain of our sellers’ programs. Third-party sellers maintain ownership of their inventory, regardless of whether fulfillment is provided by us or the third-party sellers, and therefore these products are not included in our inventories.\\nWe also purchase electronic device components from a variety of suppliers and use several contract manufacturers to provide manufacturing services for our products. During the normal course of business, in order to manage manufacturing lead times and help ensure adequate supply, we enter into agreements with contract manufacturers and suppliers for certain electronic device components. A portion of our reported purchase commitments arising from these agreements consists of firm, non-cancellable commitments. These commitments are based on forecasted customer demand. If we reduce these commitments, we may incur additional costs. We also have firm, non-cancellable commitments for certain products offered in our Whole Foods Market stores.\\nAccounts Receivable, Net and Other', 'type': 'Section', 'doc_id': 'e45b508b-cd6e-495d-a444-c23ae1c46efa', 'properties': {'score': 0.9436399340629578, 'path': 'financebenchdoc.pdf', 'page_number': 46, 'page_numbers': [46]}}}, {'_index': 'sample0', '_id': 'ebf49c3e-ea88-492a-a325-6db9686327aa', '_score': 0.5252704, '_source': {'parent_id': '17196066-55c2-11ef-aec0-0e0308f3cbb1', 'elements': [], 'bbox': [0.026603490044088924, 0.05093983043323864, 0.9711819996553309, 0.3775959361683239], 'shingles': None, 'text_representation': '(1) Includes amortization of debt-related expenses plus interest capitalized during the period.\\n(2) In 2014, our earnings were insufficient to cover fixed charges by $117 million.\\nExhibit 12.1\\nAMAZON.COM, INC. LIST OF SIGNIFICANT SUBSIDIARIES\\nLegal Name,Jurisdiction,Percent Owned Amazon Services LLC,Nevada,100% Amazon Digital Services LLC,Delaware,100% \"Amazon Web Services, Inc_\",Delaware,100% Amazon EU Sa r.l.,Luxembourg,100% \"Amazon Fulfillment Services, Inc_\",Delaware,100% \"Amazon Services International, Inc.\",Delaware,100% Amazon Corporate LLC,Delaware,100% \"Amazon Technologies, Inc_\",Nevada,100% \"Amazon.com Int\\'] Sales, Inc_\",Delaware,100% Amazon.com LLC,Delaware,100%\\nExhibit 21.1\\nConsent of Independent Registered Public Accounting Firm\\nWe consent to the incorporation by reference in the following Registration Statements:\\n(a) Registration Statement (Form S-4 No. 333-55943), as amended, pertaining to the acquisition shelf-registration of up to 30 million shares of common stock,\\n(b) Registration Statement (Form S-8 No. 333-287/63), as amended, pertaining to the Amazon.com, Inc. 1997 Stock Incentive Plan (formerly the “1997 Stock Option Plan”) and the Amended and Restated 1994 Stock Option Plan of Amazon.com, Inc.,\\n(c) Registration Statement (Form S-8 No. 333-74419) pertaining to the Amazon.com, Inc. 1999 Nonofficer Employee Stock Option Plan,\\n(d) Registration Statement (Form S-8 POS No. 333-160831) pertaining to the Zappos.com, Inc. 2009 Stock Plan,\\n(ec) Registration Statement (Form S-8 No. 333-169470) pertaining to 25,000,000 shares of Common Stock, par value $0.01 per share, to be issued pursuant to the Company’s 1997 Stock Incentive Plan,\\n({) Registration Statement (Form 8-8 No. 333-173054), pertaining to the Quids1, Inc. (f{kal 80QDu1apers, Inc.) 2006 Stock Option/Stock Issuance Plan,', 'type': 'Section', 'doc_id': 'ebf49c3e-ea88-492a-a325-6db9686327aa', 'properties': {'score': 0.5106915235519409, 'path': 'financebenchdoc.pdf', 'page_number': 79, 'page_numbers': [80, 81, 79], 'columns': None, 'title': None, 'rows': None}}}, {'_index': 'sample0', '_id': 'e8c794e2-1463-44ec-b76f-dcabc3c321f5', '_score': 0.5232148, '_source': {'parent_id': '17196066-55c2-11ef-aec0-0e0308f3cbb1', 'elements': [], 'bbox': [0.0277413132611443, 0.02979201923717152, 0.9698706772748161, 0.6813799493963069], 'shingles': None, 'text_representation': 'See accompanying notes to consolidated financial statements.\\n\\nTable of Contents\\nAMAZON.COM, INC.\\nNOTES TO CONSOLIDATED FINANCIAL STATEMENTS\\nNote I—DESCRIPTION OF BUSINESS AND ACCOUNTING POLICIES\\nDescription of Business\\nAmazon.com opened its virtual doors on the World Wide Web in July 1995. We seek to be Earth’s most customer-centric company. In each of our segments, we serve our primary customer sets, consisting of consumers, sellers, developers, enterprises, and content creators. We serve consumers through our retail websites and physical stores and focus on selection, price, and convenience. We also manufacture and sell electronic devices. We offer programs that enable sellers to sell their products on our websites and their own branded websites and to fulfill orders through us, and programs that allow authors, musicians, filmmakers, app developers, and others to publish and sell content. We serve developers and enterprises of all sizes through our AWS segment, which offers a broad set of global compute, storage, database, and other service offerings. In addition, we provide services, such as fulfillment, publishing, certain digital content subscriptions, advertising, and co-branded credit cards.\\nWe have organized our operations into three segments: North America, International, and AWS. See “Note | 1—Segment Information.”\\nPrior Period Reclassifications\\nCertain prior period amounts have been reclassified to conform to the current period presentation, including the expanded presentation of “Net cash provided by (used in) investing activities” on our consolidated statements of cash flows and the allocation of stock-based compensation to “Other operating expense, net” in the segment results within “Note 11 - Segment Information.” These revised segment results reflect the way our chief operating decision maker evaluates the Company’s business performance and manages its operations. In addition, excess tax benefits from stock-based compensation were reclassified from “Net cash provided by (used in) financing activities” to “Net cash provided by (used in) operating activities” on our consolidated statements of cash flows as a result of the adoption of new accounting guidance.\\nPrinciples of Consolidation', 'type': 'Section', 'doc_id': 'e8c794e2-1463-44ec-b76f-dcabc3c321f5', 'properties': {'score': 0.8248727917671204, 'path': 'financebenchdoc.pdf', 'page_number': 41, 'page_numbers': [41, 42]}}}, {'_index': 'sample0', '_id': '48d9d1a0-cbf7-4898-a73c-bf94f29e4377', '_score': 0.51681435, '_source': {'parent_id': '17196066-55c2-11ef-aec0-0e0308f3cbb1', 'elements': [], 'bbox': [0.027208283368278952, 0.028547578291459517, 0.9583942009420956, 0.9016218150745738], 'shingles': None, 'text_representation': '76\\nTable of Contents\\nTable of Contents\\n10.27 1999 Nonofficer Employee Stock Option Plan (amended and restated) (incorporated by reference to the Company’s Quarterly Report on Form 10- O for the Quarter ended March 31, 2013).\\n10.37 Form of Indemnification Agreement between the Company and each of its Directors (incorporated by reference to Exhibit 10.1 to the Company’s Registration Statement on Form S-1 (Registration No. 333-23795) filed March 24, 1997, as amended on April 21, 1997).\\n10.4¢ Form of Restricted Stock Unit Agreement for Officers and Employees (incorporated by reference to the Company’s Annual Report on Form 10-K for the Year ended December 31, 2002).\\n10.5+ Form of Restricted Stock Unit Agreement for Directors (incorporated by reference to the Company’s Annual Report on Form 10-K for the Year ended December 31, 2002).\\n10.67 Form of Restricted Stock Agreement (incorporated by reference to the Company’s Annual Report on Form 10-K for the Year ended December 31 2001).\\n10.77 Form of Global Restricted Stock Unit Award Agreement for Executive Officers (incorporated by reference to the Company’s Quarterly Report on Form 10-O for the Quarter ended June 30, 2017).\\n10.8 Credit Agreement, dated as of May 20, 2016, among Amazon.com, Inc., Bank of America, N.A., as administrative agent, and the other lenders party thereto (incorporated by reference to the Company’s Quarterly Report on Form 10-QO for the Quarter ended June 30, 2016).\\n10.9+ Independent Contractor Agreement, dated as of March 15, 2017, between Amazon Corporate LLC and William B. Gordon (incorporated by reference to the Company’s Quarterly Report on Form 10-O for the Quarter ended March 31, 2017).\\n12.1 Computation of Ratio of Earnings to Fixed Charges.\\n23.1 Consent of Independent Registered Public Accounting Firm.\\n31.1 Certification of Jeffrey P. Bezos, Chairman and Chief Executive Officer of Amazon.com, Inc., pursuant to Rule 13a-14(a) under the Securities Exchange Act of 1934.\\n31.2 Certification of Brian T. Olsavsky, Senior Vice President and Chief Financial Officer of Amazon.com, Inc., pursuant to Rule 13a-14(a) under the Securities Exchange Act of 1934.', 'type': 'Section', 'doc_id': '48d9d1a0-cbf7-4898-a73c-bf94f29e4377', 'properties': {'score': 0.8886417746543884, 'path': 'financebenchdoc.pdf', 'page_number': 76, 'page_numbers': [76, 77]}}}, {'_index': 'sample0', '_id': 'ae932264-1feb-4fc7-8d20-34fd88662746', '_score': 0.51485157, '_source': {'parent_id': '17196066-55c2-11ef-aec0-0e0308f3cbb1', 'elements': [], 'bbox': [0.027804605820599723, 0.029815299294211648, 0.9679335650275736, 0.8361640514026989], 'shingles': None, 'text_representation': \"The information required by Part III of this Report, to the extent not set forth herein, is incorporated herein by reference from the registrant’s definitive proxy statement relating to the Annual Meeting of Shareholders to be held in 2018 , which definitive proxy statement shall be filed with the Securities and Exchange Commission within 120 days after the end of the fiscal year to which this Report relates.\\nAMAZON.COM, INC. FORM 10-K For the Fiscal Year Ended December 31, 2017\\nDEX\\nItem,PART [ | Business,3 Item IA_,Risk Factors,6 IB_ Item,Unresolved Staff Comments,14 Item 2.,Properties, Item 3_,Legal Proceedings,1 Item 4.,Mine Safety Disclosures,16\\n\\nItem 5.,Market for the Registrant 's Common StockRelated Shareholder Matters and Issuer_Purchases of Equity_Securities,12 Item 6.,Selected Consolidated Financial Data,18 Item 7.,Management_s Discussion and Analysis_of Financial Condition and Results_of Operations,12 Item 7A_,Quantitative and Qualitative Disclosures About Market Risk,33 8 Item,Financial Statements and Supplementary Data,35 Item 9.,Changes _in and Disagreements_with Accountants_on Accounting and Financial Disclosure,73 Item 9A_,Controls Procedures and,73 9B_ Item,Other Information,15\\nPART III\\nItem 10.,Directors_Executive Qfficers_and Corporate Governance,15 11_ Item,Executive Compensation,15 Item 12.,Security Ownershipof Certain Beneficial Owners and Management and Related Shareholder Matters,15 Item 13_,Certain Relationships and Related Transactions_and Director_Independence,15 14. Item,Principal Accountant Fees and Services,15\\n\\nItem 15 Exhibits_Financial Statement Schedules,16 Item 16 Form 10-K_Summary,16 Signatures,78\\n\\n\\nTable of Contents\\nAMAZON.COM, INC.\\n\\nItem 1. Business\\nThis Annual Report on Form 10-K and the documents incorporated herein by reference contain forward-looking statements based on expectations, estimates, and projections as of the date of this filing. Actual results may differ materially from those expressed in forward-looking statements. See Item 1A of Part I—“Risk Factors.”\", 'type': 'Section', 'doc_id': 'ae932264-1feb-4fc7-8d20-34fd88662746', 'properties': {'score': 0.3628275692462921, 'path': 'financebenchdoc.pdf', 'page_number': 1, 'page_numbers': [1, 2, 3], 'columns': None, 'title': None, 'rows': None}}}, {'_index': 'sample0', '_id': '58dea5f8-8b78-4619-ab32-81aab2afcd38', '_score': 0.51459396, '_source': {'parent_id': '17196066-55c2-11ef-aec0-0e0308f3cbb1', 'elements': [], 'bbox': [0.027785119449391084, 0.02932635567405007, 0.9709616268382353, 0.7745093328302557], 'shingles': None, 'text_representation': \"As of December 31, 2017 , our recorded value in equity and equity warrant investments in public and private companies was $737 million. We record our equity and equity warrant investments in publicly traded companies at fair value, which is subject to market price volatility, and represents $415 million of our investments as of December 31, 2017 . We evaluate our equity and equity warrant investments in private companies for impairment when events and circumstances indicate that the decline in fair value of such assets below the carrying value is other-than-temporary. Our analysis includes a review of recent operating results and trends, recent sales/acquisitions of the investee securities, and other publicly available data. The current global economic climate provides additional uncertainty. Valuations of private companies are inherently more complex due to the lack of readily available market data. As such, we believe that market sensitivities are not practicable.\\n34\\nTable of Contents\\nItem 8. Financial Statements and Supplementary Data\\nEMENTS\\n,Page Report of Ernst & Young LLP_Independent Registered Public Accounting Firm,36 Consolidated Statements of Cash Flows,37 Consolidated Statements of Operations,38 Consolidated Statements_of Comprehensive Income,39 Consolidated Balance_Sheets,40 Consolidated Statements_of Stockholders' Equity,41 Notes to Consolidated Financial Statements,42\\n35\\nTable of Contents\\nReport of Independent Registered Public Accounting Firm\\nThe Board of Directors and Shareholders Amazon.com, Inc.\\nOpinion on the Financial Statements\\nWe have audited the accompanying consolidated balance sheets of Amazon.com, Inc. as of December 31, 2017 and 2016 , and the related consolidated statements of operations, comprehensive income, stockholders’ equity, and cash flows for each of the three years in the period ended December 31, 2017 and the related notes (collectively referred to as the ‘financial statements’). In our opinion, the financial statements referred to above present fairly, in all material respects, the consolidated financial position of Amazon.com, Inc. at December 31, 2017 and 2016 , and the consolidated results of its operations and its cash flows for each of the three years in the period ended December 31, 2017 , in conformity with U.S. generally accepted accounting principles.\", 'type': 'Section', 'doc_id': '58dea5f8-8b78-4619-ab32-81aab2afcd38', 'properties': {'score': 0.9433302879333496, 'path': 'financebenchdoc.pdf', 'page_number': 34, 'page_numbers': [34, 35, 36], 'columns': None, 'title': None, 'rows': None}}}, {'_index': 'sample0', '_id': '945d8680-5cd4-41f5-9336-71011f2109c9', '_score': 0.5124379, '_source': {'parent_id': '17196066-55c2-11ef-aec0-0e0308f3cbb1', 'elements': [], 'bbox': [0.02778176924761604, 0.029552858526056464, 0.9675781968060662, 0.734361405806108], 'shingles': None, 'text_representation': 'Included in “Accrued expenses and other” on our consolidated balance sheets are liabilities primarily related to unredeemed gift cards, leases and asset retirement obligations, current debt, acquired digital media content, and other operating expenses.\\nAs of December 31, 2016 and 2017 , our liabilities for unredeemed gift cards was $2.4 billion and $3.0 billion . We reduce the liability for a gift card when redeemed by a customer. If a gift card is not redeemed, we recognize revenue when it expires or when the likelihood of its redemption becomes remote, generally two years from the date of issuance.\\nUnearned Revenue\\nUnearned revenue is recorded when payments are received in advance of performing our service obligations and is recognized over the service period. Unearned revenue primarily relates to prepayments of Amazon Prime memberships and AWS services. Included in “Other long-term liabilities” on our consolidated balance sheets was $499 million and $1.0 billion of\\n48\\nTable of Contents\\nunearned revenue as of December 31, 2016 and 2017 . The amortization of previously unearned revenue was approximately $10.0 billion and $14.3 billion in 2016 and 2017 .\\nForeign Currency', 'type': 'Section', 'doc_id': '945d8680-5cd4-41f5-9336-71011f2109c9', 'properties': {'score': 0.9406800270080566, 'path': 'financebenchdoc.pdf', 'page_number': 48, 'page_numbers': [48, 49]}}}, {'_index': 'sample0', '_id': '5eef84f0-1916-4119-8398-dd76a8f33d14', '_score': 0.51159674, '_source': {'parent_id': '17196066-55c2-11ef-aec0-0e0308f3cbb1', 'elements': [], 'bbox': [0.027855330074534695, 0.05119068839333274, 0.970012637867647, 0.3310262229225852], 'shingles': None, 'text_representation': 'Jetirey PF. bezos Chairman and Chief Executive Officer (Principal Executive Officer)\\nCertification Pursuant to 15 U. 1350\\nIn connection with the Annual Report of Amazon.com, Inc. (the “Company”) on Form 10-K for the year ended December 31, 2017, as filed with the Securities and Exchange Commission (the “SEC”) on or about the date hereof (the “Report”), I, Brian T. Olsavsky, Senior Vice President and Chief Financial Officer of the Company, certify, pursuant to 18 U.S.C. Section 1350, as adopted pursuant to Section 906 of the Sarbanes-Oxley Act of 2002, that:\\n(1) The Report fully complies with the requirements of Section 13(a) or 15(d) of the Securities Exchange Act of 1934; and\\n(1) The Report fully complies with the requirements of Section 13(a) or 15(d) of the Securities Exchange Act of 1934; and\\n(2) [he information contained 1n the Keport fairly presents, 1n all material respects, the financial condition and results of operations of the Company.\\n(2) [he information contained 1n the Keport fairly presents, 1n all material respects, the financial condition and results of operations of the Company.\\nA signed original of this written statement has been provided to the Company and will be retained by the Company and furnished to the SEC or tts staff upon request.\\nDate: February |, 2018\\nExhibit 32.2\\n/s/ Brian |. Olsavsky\\nbrian 1. Olsavsky Senior Vice President and Chief Financial Officer (Principal Financial Officer)', 'type': 'Section', 'doc_id': '5eef84f0-1916-4119-8398-dd76a8f33d14', 'properties': {'score': 0.8111469745635986, 'path': 'financebenchdoc.pdf', 'page_number': 84, 'page_numbers': [84, 85]}}}, {'_index': 'sample0', '_id': 'd94cdcae-1e13-423b-80b5-e3307e634729', '_score': 0.50810724, '_source': {'parent_id': '17196066-55c2-11ef-aec0-0e0308f3cbb1', 'elements': [], 'bbox': [0.027745567770565256, 0.029616595181551846, 0.9650559369255515, 0.5473282137784091], 'shingles': None, 'text_representation': 'We also have audited, in accordance with the standards of the Public Company Accounting Oversight Board (United States) (PCAOB), Amazon.com, Inc.’s internal control over financial reporting as of December 31, 2017 , based on criteria established in Internal Control—Integrated Framework issued by the Committee of Sponsoring Organizations of the Treadway Commission (2013 framework) and our report dated February 1, 2018 expressed an unqualified opinion thereon.\\nBasis for Opinion\\nThese financial statements are the responsibility of the Company’s management. Our responsibility is to express an opinion on these financial statements based on our audits. We are a public accounting firm registered with the PCAOB and required to be independent with respect to the Company in accordance with the U.S. federal securities laws and the applicable rules and regulations of the Securities and Exchange Commission and the PCAOB.\\nWe conducted our audits in accordance with the standards of the PCAOB. Those standards require that we plan and perform the audit to obtain reasonable assurance about whether the financial statements are free of material misstatement, whether due to error or fraud. Our audit included performing procedures to assess the risks of material misstatement of the financial statements, whether due to error or fraud, and performing procedures that respond to those risks. Such procedures included examining, on a test basis, evidence regarding the amounts and disclosures in the financial statements. Our audits also included evaluating the accounting principles used and significant estimates made by management, as well as evaluating the overall presentation of the financial statements. We believe that our audits provide a reasonable basis for our opinion.\\n/s/ Ernst & Young LLP\\nWe have served as the Company’s auditor since 1996. Seattle, Washington February 1, 2018\\n36\\nTable of Contents\\nAMAZON.COM, INC.\\nCONSOLIDATED STATEMENTS OF CASH FLOWS\\n(in millions)', 'type': 'Section', 'doc_id': 'd94cdcae-1e13-423b-80b5-e3307e634729', 'properties': {'score': 0.9398034811019897, 'path': 'financebenchdoc.pdf', 'page_number': 36, 'page_numbers': [36, 37]}}}, {'_index': 'sample0', '_id': 'cc1cf3ea-9e6c-4c90-9f09-960231ee759a', '_score': 0.50736564, '_source': {'parent_id': '17196066-55c2-11ef-aec0-0e0308f3cbb1', 'elements': [], 'bbox': [0.027889036290785846, 0.028674767234108663, 0.9603980928308824, 0.9001171320134943], 'shingles': None, 'text_representation': '32.1 Certification of Jeffrey P. Bezos, Chairman and Chief Executive Officer of Amazon.com, Inc., pursuant to 18 U.S.C. Section 1350.\\n32.2 Certification of Brian T. Olsavsky, Senior Vice President and Chief Financial Officer of Amazon.com, Inc., pursuant to 18 U.S.C. Section 1350.\\n101 The following financial statements from the Company’s Annual Report on Form 10-K for the year ended December 31, 2017, formatted in XBRL: (i) Consolidated Statements of Cash Flows, (ii) Consolidated Statements of Operations, (iii) Consolidated Statements of Comprehensive Income, (iv) Consolidated Balance Sheets, (v) Consolidated Statements of Stockholders’ Equity, and (vi) Notes to Consolidated Financial Statements, tagged as blocks of text and including detailed tags.\\nCertain schedules and exhibits to this agreement have been omitted pursuant to Item 601(b)(2) of Regulation S-K and the Company agrees to furnish supplementally to the Securities and Exchange Commission a copy of any omitted schedule and/or exhibit upon request.\\n+ Executive Compensation Plan or Agreement.\\n+ Portions of this exhibit have been omitted and filed separately with the Securities and Exchange Commission pursuant to a request for confidential treatment.\\nItem 16. Form 10-K Summary\\nNone.\\n\\nTable of Contents\\nSIGNATURES\\nPursuant to the requirements of Section 13 or 15(d) of the Securities Exchange Act of 1934, the registrant has duly caused this Report to be signed on its behalf by the undersigned, thereunto duly authorized, as of February 1, 2018 .\\nPursuant to the requirements of the Securities Exchange Act of 1934, this Report has been signed below by the following persons on behalf of the registrant and in the capacities indicated as of February 1, 2018 .', 'type': 'Section', 'doc_id': 'cc1cf3ea-9e6c-4c90-9f09-960231ee759a', 'properties': {'score': 0.4806867241859436, 'path': 'financebenchdoc.pdf', 'page_number': 77, 'page_numbers': [77, 78]}}}]}, 'profile': {'shards': []}, 'ext': {'retrieval_augmented_generation': {'answer': \"To calculate Amazon's FY2017 Days Payable Outstanding (DPO), we need the following information:\\n\\n1. **Accounts Payable (AP) for FY2016 and FY2017**:\\n   - AP for FY2016: $16,459 million\\n   - AP for FY2017: $22,481 million\\n\\n2. **Cost of Goods Sold (COGS) for FY2017**:\\n   - COGS for FY2017: $118,573 million\\n\\n3. **Inventory for FY2016 and FY2017**:\\n   - Inventory for FY2016: $11,461 million\\n   - Inventory for FY2017: $16,047 million\\n\\n4. **Change in Inventory**:\\n   - Change in Inventory = Inventory for FY2017 - Inventory for FY2016\\n   - Change in Inventory = $16,047 million - $11,461 million = $4,586 million\\n\\n5. **Average Accounts Payable**:\\n   - Average AP = (AP for FY2016 + AP for FY2017) / 2\\n   - Average AP = ($16,459 million + $22,481 million) / 2 = $19,470 million\\n\\n6. **Total COGS + Change in Inventory**:\\n   - Total = COGS for FY2017 + Change in Inventory\\n   - Total = $118,573 million + $4,586 million = $123,159 million\\n\\n7. **DPO Calculation**:\\n   - DPO = 365 * (Average AP / Total COGS + Change in Inventory)\\n   - DPO = 365 * ($19,470 million / $123,159 million)\\n   - DPO ≈ 57.70 days\\n\\nTherefore, Amazon's FY2017 Days Payable Outstanding (DPO) is approximately 57.70 days.\"}}}, 'hits': [{'parent_id': '17196066-55c2-11ef-aec0-0e0308f3cbb1', 'elements': [], 'bbox': [0.02812799790326287, 0.12998905528675425, 0.9659321145450368, 0.42417768998579547], 'shingles': None, 'text_representation': 'As part of entering into commercial agreements, we often obtain equity warrant assets giving us the right to acquire stock of other companies. As of December 31, 2016 and 2017 , these warrants had a fair value of $223 million and $441 million , and are recorded within “Other assets” on our consolidated balance sheets. The related gain (loss) recorded in “Other income (expense), net” was $0 million , $67 million , and $109 million in 2015 , 2016 , and 2017 . These assets are primarily classified as Level 2 assets.\\nCash and Cash Equivalents\\nWe classify all highly liquid instruments with an original maturity of three months or less as cash equivalents.\\nInventories\\nInventories, consisting of products available for sale, are primarily accounted for using the first-in, first-out method, and are valued at the lower of cost and net realizable value. This valuation requires us to make judgments, based on currently available information, about the likely method of disposition, such as through sales to individual customers, returns to product vendors, or liquidations, and expected recoverable values of each disposition category.\\nWe provide Fulfillment by Amazon services in connection with certain of our sellers’ programs. Third-party sellers maintain ownership of their inventory, regardless of whether fulfillment is provided by us or the third-party sellers, and therefore these products are not included in our inventories.\\nWe also purchase electronic device components from a variety of suppliers and use several contract manufacturers to provide manufacturing services for our products. During the normal course of business, in order to manage manufacturing lead times and help ensure adequate supply, we enter into agreements with contract manufacturers and suppliers for certain electronic device components. A portion of our reported purchase commitments arising from these agreements consists of firm, non-cancellable commitments. These commitments are based on forecasted customer demand. If we reduce these commitments, we may incur additional costs. We also have firm, non-cancellable commitments for certain products offered in our Whole Foods Market stores.\\nAccounts Receivable, Net and Other', 'type': 'Section', 'doc_id': 'e45b508b-cd6e-495d-a444-c23ae1c46efa', 'properties': {'score': 0.9436399340629578, 'path': 'financebenchdoc.pdf', 'page_number': 46, 'page_numbers': [46]}}, {'parent_id': '17196066-55c2-11ef-aec0-0e0308f3cbb1', 'elements': [], 'bbox': [0.026603490044088924, 0.05093983043323864, 0.9711819996553309, 0.3775959361683239], 'shingles': None, 'text_representation': '(1) Includes amortization of debt-related expenses plus interest capitalized during the period.\\n(2) In 2014, our earnings were insufficient to cover fixed charges by $117 million.\\nExhibit 12.1\\nAMAZON.COM, INC. LIST OF SIGNIFICANT SUBSIDIARIES\\nLegal Name,Jurisdiction,Percent Owned Amazon Services LLC,Nevada,100% Amazon Digital Services LLC,Delaware,100% \"Amazon Web Services, Inc_\",Delaware,100% Amazon EU Sa r.l.,Luxembourg,100% \"Amazon Fulfillment Services, Inc_\",Delaware,100% \"Amazon Services International, Inc.\",Delaware,100% Amazon Corporate LLC,Delaware,100% \"Amazon Technologies, Inc_\",Nevada,100% \"Amazon.com Int\\'] Sales, Inc_\",Delaware,100% Amazon.com LLC,Delaware,100%\\nExhibit 21.1\\nConsent of Independent Registered Public Accounting Firm\\nWe consent to the incorporation by reference in the following Registration Statements:\\n(a) Registration Statement (Form S-4 No. 333-55943), as amended, pertaining to the acquisition shelf-registration of up to 30 million shares of common stock,\\n(b) Registration Statement (Form S-8 No. 333-287/63), as amended, pertaining to the Amazon.com, Inc. 1997 Stock Incentive Plan (formerly the “1997 Stock Option Plan”) and the Amended and Restated 1994 Stock Option Plan of Amazon.com, Inc.,\\n(c) Registration Statement (Form S-8 No. 333-74419) pertaining to the Amazon.com, Inc. 1999 Nonofficer Employee Stock Option Plan,\\n(d) Registration Statement (Form S-8 POS No. 333-160831) pertaining to the Zappos.com, Inc. 2009 Stock Plan,\\n(ec) Registration Statement (Form S-8 No. 333-169470) pertaining to 25,000,000 shares of Common Stock, par value $0.01 per share, to be issued pursuant to the Company’s 1997 Stock Incentive Plan,\\n({) Registration Statement (Form 8-8 No. 333-173054), pertaining to the Quids1, Inc. (f{kal 80QDu1apers, Inc.) 2006 Stock Option/Stock Issuance Plan,', 'type': 'Section', 'doc_id': 'ebf49c3e-ea88-492a-a325-6db9686327aa', 'properties': {'score': 0.5106915235519409, 'path': 'financebenchdoc.pdf', 'page_number': 79, 'page_numbers': [80, 81, 79], 'columns': None, 'title': None, 'rows': None}}, {'parent_id': '17196066-55c2-11ef-aec0-0e0308f3cbb1', 'elements': [], 'bbox': [0.0277413132611443, 0.02979201923717152, 0.9698706772748161, 0.6813799493963069], 'shingles': None, 'text_representation': 'See accompanying notes to consolidated financial statements.\\n\\nTable of Contents\\nAMAZON.COM, INC.\\nNOTES TO CONSOLIDATED FINANCIAL STATEMENTS\\nNote I—DESCRIPTION OF BUSINESS AND ACCOUNTING POLICIES\\nDescription of Business\\nAmazon.com opened its virtual doors on the World Wide Web in July 1995. We seek to be Earth’s most customer-centric company. In each of our segments, we serve our primary customer sets, consisting of consumers, sellers, developers, enterprises, and content creators. We serve consumers through our retail websites and physical stores and focus on selection, price, and convenience. We also manufacture and sell electronic devices. We offer programs that enable sellers to sell their products on our websites and their own branded websites and to fulfill orders through us, and programs that allow authors, musicians, filmmakers, app developers, and others to publish and sell content. We serve developers and enterprises of all sizes through our AWS segment, which offers a broad set of global compute, storage, database, and other service offerings. In addition, we provide services, such as fulfillment, publishing, certain digital content subscriptions, advertising, and co-branded credit cards.\\nWe have organized our operations into three segments: North America, International, and AWS. See “Note | 1—Segment Information.”\\nPrior Period Reclassifications\\nCertain prior period amounts have been reclassified to conform to the current period presentation, including the expanded presentation of “Net cash provided by (used in) investing activities” on our consolidated statements of cash flows and the allocation of stock-based compensation to “Other operating expense, net” in the segment results within “Note 11 - Segment Information.” These revised segment results reflect the way our chief operating decision maker evaluates the Company’s business performance and manages its operations. In addition, excess tax benefits from stock-based compensation were reclassified from “Net cash provided by (used in) financing activities” to “Net cash provided by (used in) operating activities” on our consolidated statements of cash flows as a result of the adoption of new accounting guidance.\\nPrinciples of Consolidation', 'type': 'Section', 'doc_id': 'e8c794e2-1463-44ec-b76f-dcabc3c321f5', 'properties': {'score': 0.8248727917671204, 'path': 'financebenchdoc.pdf', 'page_number': 41, 'page_numbers': [41, 42]}}, {'parent_id': '17196066-55c2-11ef-aec0-0e0308f3cbb1', 'elements': [], 'bbox': [0.027208283368278952, 0.028547578291459517, 0.9583942009420956, 0.9016218150745738], 'shingles': None, 'text_representation': '76\\nTable of Contents\\nTable of Contents\\n10.27 1999 Nonofficer Employee Stock Option Plan (amended and restated) (incorporated by reference to the Company’s Quarterly Report on Form 10- O for the Quarter ended March 31, 2013).\\n10.37 Form of Indemnification Agreement between the Company and each of its Directors (incorporated by reference to Exhibit 10.1 to the Company’s Registration Statement on Form S-1 (Registration No. 333-23795) filed March 24, 1997, as amended on April 21, 1997).\\n10.4¢ Form of Restricted Stock Unit Agreement for Officers and Employees (incorporated by reference to the Company’s Annual Report on Form 10-K for the Year ended December 31, 2002).\\n10.5+ Form of Restricted Stock Unit Agreement for Directors (incorporated by reference to the Company’s Annual Report on Form 10-K for the Year ended December 31, 2002).\\n10.67 Form of Restricted Stock Agreement (incorporated by reference to the Company’s Annual Report on Form 10-K for the Year ended December 31 2001).\\n10.77 Form of Global Restricted Stock Unit Award Agreement for Executive Officers (incorporated by reference to the Company’s Quarterly Report on Form 10-O for the Quarter ended June 30, 2017).\\n10.8 Credit Agreement, dated as of May 20, 2016, among Amazon.com, Inc., Bank of America, N.A., as administrative agent, and the other lenders party thereto (incorporated by reference to the Company’s Quarterly Report on Form 10-QO for the Quarter ended June 30, 2016).\\n10.9+ Independent Contractor Agreement, dated as of March 15, 2017, between Amazon Corporate LLC and William B. Gordon (incorporated by reference to the Company’s Quarterly Report on Form 10-O for the Quarter ended March 31, 2017).\\n12.1 Computation of Ratio of Earnings to Fixed Charges.\\n23.1 Consent of Independent Registered Public Accounting Firm.\\n31.1 Certification of Jeffrey P. Bezos, Chairman and Chief Executive Officer of Amazon.com, Inc., pursuant to Rule 13a-14(a) under the Securities Exchange Act of 1934.\\n31.2 Certification of Brian T. Olsavsky, Senior Vice President and Chief Financial Officer of Amazon.com, Inc., pursuant to Rule 13a-14(a) under the Securities Exchange Act of 1934.', 'type': 'Section', 'doc_id': '48d9d1a0-cbf7-4898-a73c-bf94f29e4377', 'properties': {'score': 0.8886417746543884, 'path': 'financebenchdoc.pdf', 'page_number': 76, 'page_numbers': [76, 77]}}, {'parent_id': '17196066-55c2-11ef-aec0-0e0308f3cbb1', 'elements': [], 'bbox': [0.027804605820599723, 0.029815299294211648, 0.9679335650275736, 0.8361640514026989], 'shingles': None, 'text_representation': \"The information required by Part III of this Report, to the extent not set forth herein, is incorporated herein by reference from the registrant’s definitive proxy statement relating to the Annual Meeting of Shareholders to be held in 2018 , which definitive proxy statement shall be filed with the Securities and Exchange Commission within 120 days after the end of the fiscal year to which this Report relates.\\nAMAZON.COM, INC. FORM 10-K For the Fiscal Year Ended December 31, 2017\\nDEX\\nItem,PART [ | Business,3 Item IA_,Risk Factors,6 IB_ Item,Unresolved Staff Comments,14 Item 2.,Properties, Item 3_,Legal Proceedings,1 Item 4.,Mine Safety Disclosures,16\\n\\nItem 5.,Market for the Registrant 's Common StockRelated Shareholder Matters and Issuer_Purchases of Equity_Securities,12 Item 6.,Selected Consolidated Financial Data,18 Item 7.,Management_s Discussion and Analysis_of Financial Condition and Results_of Operations,12 Item 7A_,Quantitative and Qualitative Disclosures About Market Risk,33 8 Item,Financial Statements and Supplementary Data,35 Item 9.,Changes _in and Disagreements_with Accountants_on Accounting and Financial Disclosure,73 Item 9A_,Controls Procedures and,73 9B_ Item,Other Information,15\\nPART III\\nItem 10.,Directors_Executive Qfficers_and Corporate Governance,15 11_ Item,Executive Compensation,15 Item 12.,Security Ownershipof Certain Beneficial Owners and Management and Related Shareholder Matters,15 Item 13_,Certain Relationships and Related Transactions_and Director_Independence,15 14. Item,Principal Accountant Fees and Services,15\\n\\nItem 15 Exhibits_Financial Statement Schedules,16 Item 16 Form 10-K_Summary,16 Signatures,78\\n\\n\\nTable of Contents\\nAMAZON.COM, INC.\\n\\nItem 1. Business\\nThis Annual Report on Form 10-K and the documents incorporated herein by reference contain forward-looking statements based on expectations, estimates, and projections as of the date of this filing. Actual results may differ materially from those expressed in forward-looking statements. See Item 1A of Part I—“Risk Factors.”\", 'type': 'Section', 'doc_id': 'ae932264-1feb-4fc7-8d20-34fd88662746', 'properties': {'score': 0.3628275692462921, 'path': 'financebenchdoc.pdf', 'page_number': 1, 'page_numbers': [1, 2, 3], 'columns': None, 'title': None, 'rows': None}}, {'parent_id': '17196066-55c2-11ef-aec0-0e0308f3cbb1', 'elements': [], 'bbox': [0.027785119449391084, 0.02932635567405007, 0.9709616268382353, 0.7745093328302557], 'shingles': None, 'text_representation': \"As of December 31, 2017 , our recorded value in equity and equity warrant investments in public and private companies was $737 million. We record our equity and equity warrant investments in publicly traded companies at fair value, which is subject to market price volatility, and represents $415 million of our investments as of December 31, 2017 . We evaluate our equity and equity warrant investments in private companies for impairment when events and circumstances indicate that the decline in fair value of such assets below the carrying value is other-than-temporary. Our analysis includes a review of recent operating results and trends, recent sales/acquisitions of the investee securities, and other publicly available data. The current global economic climate provides additional uncertainty. Valuations of private companies are inherently more complex due to the lack of readily available market data. As such, we believe that market sensitivities are not practicable.\\n34\\nTable of Contents\\nItem 8. Financial Statements and Supplementary Data\\nEMENTS\\n,Page Report of Ernst & Young LLP_Independent Registered Public Accounting Firm,36 Consolidated Statements of Cash Flows,37 Consolidated Statements of Operations,38 Consolidated Statements_of Comprehensive Income,39 Consolidated Balance_Sheets,40 Consolidated Statements_of Stockholders' Equity,41 Notes to Consolidated Financial Statements,42\\n35\\nTable of Contents\\nReport of Independent Registered Public Accounting Firm\\nThe Board of Directors and Shareholders Amazon.com, Inc.\\nOpinion on the Financial Statements\\nWe have audited the accompanying consolidated balance sheets of Amazon.com, Inc. as of December 31, 2017 and 2016 , and the related consolidated statements of operations, comprehensive income, stockholders’ equity, and cash flows for each of the three years in the period ended December 31, 2017 and the related notes (collectively referred to as the ‘financial statements’). In our opinion, the financial statements referred to above present fairly, in all material respects, the consolidated financial position of Amazon.com, Inc. at December 31, 2017 and 2016 , and the consolidated results of its operations and its cash flows for each of the three years in the period ended December 31, 2017 , in conformity with U.S. generally accepted accounting principles.\", 'type': 'Section', 'doc_id': '58dea5f8-8b78-4619-ab32-81aab2afcd38', 'properties': {'score': 0.9433302879333496, 'path': 'financebenchdoc.pdf', 'page_number': 34, 'page_numbers': [34, 35, 36], 'columns': None, 'title': None, 'rows': None}}, {'parent_id': '17196066-55c2-11ef-aec0-0e0308f3cbb1', 'elements': [], 'bbox': [0.02778176924761604, 0.029552858526056464, 0.9675781968060662, 0.734361405806108], 'shingles': None, 'text_representation': 'Included in “Accrued expenses and other” on our consolidated balance sheets are liabilities primarily related to unredeemed gift cards, leases and asset retirement obligations, current debt, acquired digital media content, and other operating expenses.\\nAs of December 31, 2016 and 2017 , our liabilities for unredeemed gift cards was $2.4 billion and $3.0 billion . We reduce the liability for a gift card when redeemed by a customer. If a gift card is not redeemed, we recognize revenue when it expires or when the likelihood of its redemption becomes remote, generally two years from the date of issuance.\\nUnearned Revenue\\nUnearned revenue is recorded when payments are received in advance of performing our service obligations and is recognized over the service period. Unearned revenue primarily relates to prepayments of Amazon Prime memberships and AWS services. Included in “Other long-term liabilities” on our consolidated balance sheets was $499 million and $1.0 billion of\\n48\\nTable of Contents\\nunearned revenue as of December 31, 2016 and 2017 . The amortization of previously unearned revenue was approximately $10.0 billion and $14.3 billion in 2016 and 2017 .\\nForeign Currency', 'type': 'Section', 'doc_id': '945d8680-5cd4-41f5-9336-71011f2109c9', 'properties': {'score': 0.9406800270080566, 'path': 'financebenchdoc.pdf', 'page_number': 48, 'page_numbers': [48, 49]}}, {'parent_id': '17196066-55c2-11ef-aec0-0e0308f3cbb1', 'elements': [], 'bbox': [0.027855330074534695, 0.05119068839333274, 0.970012637867647, 0.3310262229225852], 'shingles': None, 'text_representation': 'Jetirey PF. bezos Chairman and Chief Executive Officer (Principal Executive Officer)\\nCertification Pursuant to 15 U. 1350\\nIn connection with the Annual Report of Amazon.com, Inc. (the “Company”) on Form 10-K for the year ended December 31, 2017, as filed with the Securities and Exchange Commission (the “SEC”) on or about the date hereof (the “Report”), I, Brian T. Olsavsky, Senior Vice President and Chief Financial Officer of the Company, certify, pursuant to 18 U.S.C. Section 1350, as adopted pursuant to Section 906 of the Sarbanes-Oxley Act of 2002, that:\\n(1) The Report fully complies with the requirements of Section 13(a) or 15(d) of the Securities Exchange Act of 1934; and\\n(1) The Report fully complies with the requirements of Section 13(a) or 15(d) of the Securities Exchange Act of 1934; and\\n(2) [he information contained 1n the Keport fairly presents, 1n all material respects, the financial condition and results of operations of the Company.\\n(2) [he information contained 1n the Keport fairly presents, 1n all material respects, the financial condition and results of operations of the Company.\\nA signed original of this written statement has been provided to the Company and will be retained by the Company and furnished to the SEC or tts staff upon request.\\nDate: February |, 2018\\nExhibit 32.2\\n/s/ Brian |. Olsavsky\\nbrian 1. Olsavsky Senior Vice President and Chief Financial Officer (Principal Financial Officer)', 'type': 'Section', 'doc_id': '5eef84f0-1916-4119-8398-dd76a8f33d14', 'properties': {'score': 0.8111469745635986, 'path': 'financebenchdoc.pdf', 'page_number': 84, 'page_numbers': [84, 85]}}, {'parent_id': '17196066-55c2-11ef-aec0-0e0308f3cbb1', 'elements': [], 'bbox': [0.027745567770565256, 0.029616595181551846, 0.9650559369255515, 0.5473282137784091], 'shingles': None, 'text_representation': 'We also have audited, in accordance with the standards of the Public Company Accounting Oversight Board (United States) (PCAOB), Amazon.com, Inc.’s internal control over financial reporting as of December 31, 2017 , based on criteria established in Internal Control—Integrated Framework issued by the Committee of Sponsoring Organizations of the Treadway Commission (2013 framework) and our report dated February 1, 2018 expressed an unqualified opinion thereon.\\nBasis for Opinion\\nThese financial statements are the responsibility of the Company’s management. Our responsibility is to express an opinion on these financial statements based on our audits. We are a public accounting firm registered with the PCAOB and required to be independent with respect to the Company in accordance with the U.S. federal securities laws and the applicable rules and regulations of the Securities and Exchange Commission and the PCAOB.\\nWe conducted our audits in accordance with the standards of the PCAOB. Those standards require that we plan and perform the audit to obtain reasonable assurance about whether the financial statements are free of material misstatement, whether due to error or fraud. Our audit included performing procedures to assess the risks of material misstatement of the financial statements, whether due to error or fraud, and performing procedures that respond to those risks. Such procedures included examining, on a test basis, evidence regarding the amounts and disclosures in the financial statements. Our audits also included evaluating the accounting principles used and significant estimates made by management, as well as evaluating the overall presentation of the financial statements. We believe that our audits provide a reasonable basis for our opinion.\\n/s/ Ernst & Young LLP\\nWe have served as the Company’s auditor since 1996. Seattle, Washington February 1, 2018\\n36\\nTable of Contents\\nAMAZON.COM, INC.\\nCONSOLIDATED STATEMENTS OF CASH FLOWS\\n(in millions)', 'type': 'Section', 'doc_id': 'd94cdcae-1e13-423b-80b5-e3307e634729', 'properties': {'score': 0.9398034811019897, 'path': 'financebenchdoc.pdf', 'page_number': 36, 'page_numbers': [36, 37]}}, {'parent_id': '17196066-55c2-11ef-aec0-0e0308f3cbb1', 'elements': [], 'bbox': [0.027889036290785846, 0.028674767234108663, 0.9603980928308824, 0.9001171320134943], 'shingles': None, 'text_representation': '32.1 Certification of Jeffrey P. Bezos, Chairman and Chief Executive Officer of Amazon.com, Inc., pursuant to 18 U.S.C. Section 1350.\\n32.2 Certification of Brian T. Olsavsky, Senior Vice President and Chief Financial Officer of Amazon.com, Inc., pursuant to 18 U.S.C. Section 1350.\\n101 The following financial statements from the Company’s Annual Report on Form 10-K for the year ended December 31, 2017, formatted in XBRL: (i) Consolidated Statements of Cash Flows, (ii) Consolidated Statements of Operations, (iii) Consolidated Statements of Comprehensive Income, (iv) Consolidated Balance Sheets, (v) Consolidated Statements of Stockholders’ Equity, and (vi) Notes to Consolidated Financial Statements, tagged as blocks of text and including detailed tags.\\nCertain schedules and exhibits to this agreement have been omitted pursuant to Item 601(b)(2) of Regulation S-K and the Company agrees to furnish supplementally to the Securities and Exchange Commission a copy of any omitted schedule and/or exhibit upon request.\\n+ Executive Compensation Plan or Agreement.\\n+ Portions of this exhibit have been omitted and filed separately with the Securities and Exchange Commission pursuant to a request for confidential treatment.\\nItem 16. Form 10-K Summary\\nNone.\\n\\nTable of Contents\\nSIGNATURES\\nPursuant to the requirements of Section 13 or 15(d) of the Securities Exchange Act of 1934, the registrant has duly caused this Report to be signed on its behalf by the undersigned, thereunto duly authorized, as of February 1, 2018 .\\nPursuant to the requirements of the Securities Exchange Act of 1934, this Report has been signed below by the following persons on behalf of the registrant and in the capacities indicated as of February 1, 2018 .', 'type': 'Section', 'doc_id': 'cc1cf3ea-9e6c-4c90-9f09-960231ee759a', 'properties': {'score': 0.4806867241859436, 'path': 'financebenchdoc.pdf', 'page_number': 77, 'page_numbers': [77, 78]}}], 'generated_answer': \"To calculate Amazon's FY2017 Days Payable Outstanding (DPO), we need the following information:\\n\\n1. **Accounts Payable (AP) for FY2016 and FY2017**:\\n   - AP for FY2016: $16,459 million\\n   - AP for FY2017: $22,481 million\\n\\n2. **Cost of Goods Sold (COGS) for FY2017**:\\n   - COGS for FY2017: $118,573 million\\n\\n3. **Inventory for FY2016 and FY2017**:\\n   - Inventory for FY2016: $11,461 million\\n   - Inventory for FY2017: $16,047 million\\n\\n4. **Change in Inventory**:\\n   - Change in Inventory = Inventory for FY2017 - Inventory for FY2016\\n   - Change in Inventory = $16,047 million - $11,461 million = $4,586 million\\n\\n5. **Average Accounts Payable**:\\n   - Average AP = (AP for FY2016 + AP for FY2017) / 2\\n   - Average AP = ($16,459 million + $22,481 million) / 2 = $19,470 million\\n\\n6. **Total COGS + Change in Inventory**:\\n   - Total = COGS for FY2017 + Change in Inventory\\n   - Total = $118,573 million + $4,586 million = $123,159 million\\n\\n7. **DPO Calculation**:\\n   - DPO = 365 * (Average AP / Total COGS + Change in Inventory)\\n   - DPO = 365 * ($19,470 million / $123,159 million)\\n   - DPO ≈ 57.70 days\\n\\nTherefore, Amazon's FY2017 Days Payable Outstanding (DPO) is approximately 57.70 days.\", 'generated_source_documents': [{'parent_id': '17196066-55c2-11ef-aec0-0e0308f3cbb1', 'elements': [], 'bbox': [0.02812799790326287, 0.12998905528675425, 0.9659321145450368, 0.42417768998579547], 'shingles': None, 'text_representation': 'As part of entering into commercial agreements, we often obtain equity warrant assets giving us the right to acquire stock of other companies. As of December 31, 2016 and 2017 , these warrants had a fair value of $223 million and $441 million , and are recorded within “Other assets” on our consolidated balance sheets. The related gain (loss) recorded in “Other income (expense), net” was $0 million , $67 million , and $109 million in 2015 , 2016 , and 2017 . These assets are primarily classified as Level 2 assets.\\nCash and Cash Equivalents\\nWe classify all highly liquid instruments with an original maturity of three months or less as cash equivalents.\\nInventories\\nInventories, consisting of products available for sale, are primarily accounted for using the first-in, first-out method, and are valued at the lower of cost and net realizable value. This valuation requires us to make judgments, based on currently available information, about the likely method of disposition, such as through sales to individual customers, returns to product vendors, or liquidations, and expected recoverable values of each disposition category.\\nWe provide Fulfillment by Amazon services in connection with certain of our sellers’ programs. Third-party sellers maintain ownership of their inventory, regardless of whether fulfillment is provided by us or the third-party sellers, and therefore these products are not included in our inventories.\\nWe also purchase electronic device components from a variety of suppliers and use several contract manufacturers to provide manufacturing services for our products. During the normal course of business, in order to manage manufacturing lead times and help ensure adequate supply, we enter into agreements with contract manufacturers and suppliers for certain electronic device components. A portion of our reported purchase commitments arising from these agreements consists of firm, non-cancellable commitments. These commitments are based on forecasted customer demand. If we reduce these commitments, we may incur additional costs. We also have firm, non-cancellable commitments for certain products offered in our Whole Foods Market stores.\\nAccounts Receivable, Net and Other', 'type': 'Section', 'doc_id': 'e45b508b-cd6e-495d-a444-c23ae1c46efa', 'properties': {'score': 0.9436399340629578, 'path': 'financebenchdoc.pdf', 'page_number': 46, 'page_numbers': [46]}}, {'parent_id': '17196066-55c2-11ef-aec0-0e0308f3cbb1', 'elements': [], 'bbox': [0.026603490044088924, 0.05093983043323864, 0.9711819996553309, 0.3775959361683239], 'shingles': None, 'text_representation': '(1) Includes amortization of debt-related expenses plus interest capitalized during the period.\\n(2) In 2014, our earnings were insufficient to cover fixed charges by $117 million.\\nExhibit 12.1\\nAMAZON.COM, INC. LIST OF SIGNIFICANT SUBSIDIARIES\\nLegal Name,Jurisdiction,Percent Owned Amazon Services LLC,Nevada,100% Amazon Digital Services LLC,Delaware,100% \"Amazon Web Services, Inc_\",Delaware,100% Amazon EU Sa r.l.,Luxembourg,100% \"Amazon Fulfillment Services, Inc_\",Delaware,100% \"Amazon Services International, Inc.\",Delaware,100% Amazon Corporate LLC,Delaware,100% \"Amazon Technologies, Inc_\",Nevada,100% \"Amazon.com Int\\'] Sales, Inc_\",Delaware,100% Amazon.com LLC,Delaware,100%\\nExhibit 21.1\\nConsent of Independent Registered Public Accounting Firm\\nWe consent to the incorporation by reference in the following Registration Statements:\\n(a) Registration Statement (Form S-4 No. 333-55943), as amended, pertaining to the acquisition shelf-registration of up to 30 million shares of common stock,\\n(b) Registration Statement (Form S-8 No. 333-287/63), as amended, pertaining to the Amazon.com, Inc. 1997 Stock Incentive Plan (formerly the “1997 Stock Option Plan”) and the Amended and Restated 1994 Stock Option Plan of Amazon.com, Inc.,\\n(c) Registration Statement (Form S-8 No. 333-74419) pertaining to the Amazon.com, Inc. 1999 Nonofficer Employee Stock Option Plan,\\n(d) Registration Statement (Form S-8 POS No. 333-160831) pertaining to the Zappos.com, Inc. 2009 Stock Plan,\\n(ec) Registration Statement (Form S-8 No. 333-169470) pertaining to 25,000,000 shares of Common Stock, par value $0.01 per share, to be issued pursuant to the Company’s 1997 Stock Incentive Plan,\\n({) Registration Statement (Form 8-8 No. 333-173054), pertaining to the Quids1, Inc. (f{kal 80QDu1apers, Inc.) 2006 Stock Option/Stock Issuance Plan,', 'type': 'Section', 'doc_id': 'ebf49c3e-ea88-492a-a325-6db9686327aa', 'properties': {'score': 0.5106915235519409, 'path': 'financebenchdoc.pdf', 'page_number': 79, 'page_numbers': [80, 81, 79], 'columns': None, 'title': None, 'rows': None}}, {'parent_id': '17196066-55c2-11ef-aec0-0e0308f3cbb1', 'elements': [], 'bbox': [0.0277413132611443, 0.02979201923717152, 0.9698706772748161, 0.6813799493963069], 'shingles': None, 'text_representation': 'See accompanying notes to consolidated financial statements.\\n\\nTable of Contents\\nAMAZON.COM, INC.\\nNOTES TO CONSOLIDATED FINANCIAL STATEMENTS\\nNote I—DESCRIPTION OF BUSINESS AND ACCOUNTING POLICIES\\nDescription of Business\\nAmazon.com opened its virtual doors on the World Wide Web in July 1995. We seek to be Earth’s most customer-centric company. In each of our segments, we serve our primary customer sets, consisting of consumers, sellers, developers, enterprises, and content creators. We serve consumers through our retail websites and physical stores and focus on selection, price, and convenience. We also manufacture and sell electronic devices. We offer programs that enable sellers to sell their products on our websites and their own branded websites and to fulfill orders through us, and programs that allow authors, musicians, filmmakers, app developers, and others to publish and sell content. We serve developers and enterprises of all sizes through our AWS segment, which offers a broad set of global compute, storage, database, and other service offerings. In addition, we provide services, such as fulfillment, publishing, certain digital content subscriptions, advertising, and co-branded credit cards.\\nWe have organized our operations into three segments: North America, International, and AWS. See “Note | 1—Segment Information.”\\nPrior Period Reclassifications\\nCertain prior period amounts have been reclassified to conform to the current period presentation, including the expanded presentation of “Net cash provided by (used in) investing activities” on our consolidated statements of cash flows and the allocation of stock-based compensation to “Other operating expense, net” in the segment results within “Note 11 - Segment Information.” These revised segment results reflect the way our chief operating decision maker evaluates the Company’s business performance and manages its operations. In addition, excess tax benefits from stock-based compensation were reclassified from “Net cash provided by (used in) financing activities” to “Net cash provided by (used in) operating activities” on our consolidated statements of cash flows as a result of the adoption of new accounting guidance.\\nPrinciples of Consolidation', 'type': 'Section', 'doc_id': 'e8c794e2-1463-44ec-b76f-dcabc3c321f5', 'properties': {'score': 0.8248727917671204, 'path': 'financebenchdoc.pdf', 'page_number': 41, 'page_numbers': [41, 42]}}, {'parent_id': '17196066-55c2-11ef-aec0-0e0308f3cbb1', 'elements': [], 'bbox': [0.027208283368278952, 0.028547578291459517, 0.9583942009420956, 0.9016218150745738], 'shingles': None, 'text_representation': '76\\nTable of Contents\\nTable of Contents\\n10.27 1999 Nonofficer Employee Stock Option Plan (amended and restated) (incorporated by reference to the Company’s Quarterly Report on Form 10- O for the Quarter ended March 31, 2013).\\n10.37 Form of Indemnification Agreement between the Company and each of its Directors (incorporated by reference to Exhibit 10.1 to the Company’s Registration Statement on Form S-1 (Registration No. 333-23795) filed March 24, 1997, as amended on April 21, 1997).\\n10.4¢ Form of Restricted Stock Unit Agreement for Officers and Employees (incorporated by reference to the Company’s Annual Report on Form 10-K for the Year ended December 31, 2002).\\n10.5+ Form of Restricted Stock Unit Agreement for Directors (incorporated by reference to the Company’s Annual Report on Form 10-K for the Year ended December 31, 2002).\\n10.67 Form of Restricted Stock Agreement (incorporated by reference to the Company’s Annual Report on Form 10-K for the Year ended December 31 2001).\\n10.77 Form of Global Restricted Stock Unit Award Agreement for Executive Officers (incorporated by reference to the Company’s Quarterly Report on Form 10-O for the Quarter ended June 30, 2017).\\n10.8 Credit Agreement, dated as of May 20, 2016, among Amazon.com, Inc., Bank of America, N.A., as administrative agent, and the other lenders party thereto (incorporated by reference to the Company’s Quarterly Report on Form 10-QO for the Quarter ended June 30, 2016).\\n10.9+ Independent Contractor Agreement, dated as of March 15, 2017, between Amazon Corporate LLC and William B. Gordon (incorporated by reference to the Company’s Quarterly Report on Form 10-O for the Quarter ended March 31, 2017).\\n12.1 Computation of Ratio of Earnings to Fixed Charges.\\n23.1 Consent of Independent Registered Public Accounting Firm.\\n31.1 Certification of Jeffrey P. Bezos, Chairman and Chief Executive Officer of Amazon.com, Inc., pursuant to Rule 13a-14(a) under the Securities Exchange Act of 1934.\\n31.2 Certification of Brian T. Olsavsky, Senior Vice President and Chief Financial Officer of Amazon.com, Inc., pursuant to Rule 13a-14(a) under the Securities Exchange Act of 1934.', 'type': 'Section', 'doc_id': '48d9d1a0-cbf7-4898-a73c-bf94f29e4377', 'properties': {'score': 0.8886417746543884, 'path': 'financebenchdoc.pdf', 'page_number': 76, 'page_numbers': [76, 77]}}, {'parent_id': '17196066-55c2-11ef-aec0-0e0308f3cbb1', 'elements': [], 'bbox': [0.027804605820599723, 0.029815299294211648, 0.9679335650275736, 0.8361640514026989], 'shingles': None, 'text_representation': \"The information required by Part III of this Report, to the extent not set forth herein, is incorporated herein by reference from the registrant’s definitive proxy statement relating to the Annual Meeting of Shareholders to be held in 2018 , which definitive proxy statement shall be filed with the Securities and Exchange Commission within 120 days after the end of the fiscal year to which this Report relates.\\nAMAZON.COM, INC. FORM 10-K For the Fiscal Year Ended December 31, 2017\\nDEX\\nItem,PART [ | Business,3 Item IA_,Risk Factors,6 IB_ Item,Unresolved Staff Comments,14 Item 2.,Properties, Item 3_,Legal Proceedings,1 Item 4.,Mine Safety Disclosures,16\\n\\nItem 5.,Market for the Registrant 's Common StockRelated Shareholder Matters and Issuer_Purchases of Equity_Securities,12 Item 6.,Selected Consolidated Financial Data,18 Item 7.,Management_s Discussion and Analysis_of Financial Condition and Results_of Operations,12 Item 7A_,Quantitative and Qualitative Disclosures About Market Risk,33 8 Item,Financial Statements and Supplementary Data,35 Item 9.,Changes _in and Disagreements_with Accountants_on Accounting and Financial Disclosure,73 Item 9A_,Controls Procedures and,73 9B_ Item,Other Information,15\\nPART III\\nItem 10.,Directors_Executive Qfficers_and Corporate Governance,15 11_ Item,Executive Compensation,15 Item 12.,Security Ownershipof Certain Beneficial Owners and Management and Related Shareholder Matters,15 Item 13_,Certain Relationships and Related Transactions_and Director_Independence,15 14. Item,Principal Accountant Fees and Services,15\\n\\nItem 15 Exhibits_Financial Statement Schedules,16 Item 16 Form 10-K_Summary,16 Signatures,78\\n\\n\\nTable of Contents\\nAMAZON.COM, INC.\\n\\nItem 1. Business\\nThis Annual Report on Form 10-K and the documents incorporated herein by reference contain forward-looking statements based on expectations, estimates, and projections as of the date of this filing. Actual results may differ materially from those expressed in forward-looking statements. See Item 1A of Part I—“Risk Factors.”\", 'type': 'Section', 'doc_id': 'ae932264-1feb-4fc7-8d20-34fd88662746', 'properties': {'score': 0.3628275692462921, 'path': 'financebenchdoc.pdf', 'page_number': 1, 'page_numbers': [1, 2, 3], 'columns': None, 'title': None, 'rows': None}}, {'parent_id': '17196066-55c2-11ef-aec0-0e0308f3cbb1', 'elements': [], 'bbox': [0.027785119449391084, 0.02932635567405007, 0.9709616268382353, 0.7745093328302557], 'shingles': None, 'text_representation': \"As of December 31, 2017 , our recorded value in equity and equity warrant investments in public and private companies was $737 million. We record our equity and equity warrant investments in publicly traded companies at fair value, which is subject to market price volatility, and represents $415 million of our investments as of December 31, 2017 . We evaluate our equity and equity warrant investments in private companies for impairment when events and circumstances indicate that the decline in fair value of such assets below the carrying value is other-than-temporary. Our analysis includes a review of recent operating results and trends, recent sales/acquisitions of the investee securities, and other publicly available data. The current global economic climate provides additional uncertainty. Valuations of private companies are inherently more complex due to the lack of readily available market data. As such, we believe that market sensitivities are not practicable.\\n34\\nTable of Contents\\nItem 8. Financial Statements and Supplementary Data\\nEMENTS\\n,Page Report of Ernst & Young LLP_Independent Registered Public Accounting Firm,36 Consolidated Statements of Cash Flows,37 Consolidated Statements of Operations,38 Consolidated Statements_of Comprehensive Income,39 Consolidated Balance_Sheets,40 Consolidated Statements_of Stockholders' Equity,41 Notes to Consolidated Financial Statements,42\\n35\\nTable of Contents\\nReport of Independent Registered Public Accounting Firm\\nThe Board of Directors and Shareholders Amazon.com, Inc.\\nOpinion on the Financial Statements\\nWe have audited the accompanying consolidated balance sheets of Amazon.com, Inc. as of December 31, 2017 and 2016 , and the related consolidated statements of operations, comprehensive income, stockholders’ equity, and cash flows for each of the three years in the period ended December 31, 2017 and the related notes (collectively referred to as the ‘financial statements’). In our opinion, the financial statements referred to above present fairly, in all material respects, the consolidated financial position of Amazon.com, Inc. at December 31, 2017 and 2016 , and the consolidated results of its operations and its cash flows for each of the three years in the period ended December 31, 2017 , in conformity with U.S. generally accepted accounting principles.\", 'type': 'Section', 'doc_id': '58dea5f8-8b78-4619-ab32-81aab2afcd38', 'properties': {'score': 0.9433302879333496, 'path': 'financebenchdoc.pdf', 'page_number': 34, 'page_numbers': [34, 35, 36], 'columns': None, 'title': None, 'rows': None}}, {'parent_id': '17196066-55c2-11ef-aec0-0e0308f3cbb1', 'elements': [], 'bbox': [0.02778176924761604, 0.029552858526056464, 0.9675781968060662, 0.734361405806108], 'shingles': None, 'text_representation': 'Included in “Accrued expenses and other” on our consolidated balance sheets are liabilities primarily related to unredeemed gift cards, leases and asset retirement obligations, current debt, acquired digital media content, and other operating expenses.\\nAs of December 31, 2016 and 2017 , our liabilities for unredeemed gift cards was $2.4 billion and $3.0 billion . We reduce the liability for a gift card when redeemed by a customer. If a gift card is not redeemed, we recognize revenue when it expires or when the likelihood of its redemption becomes remote, generally two years from the date of issuance.\\nUnearned Revenue\\nUnearned revenue is recorded when payments are received in advance of performing our service obligations and is recognized over the service period. Unearned revenue primarily relates to prepayments of Amazon Prime memberships and AWS services. Included in “Other long-term liabilities” on our consolidated balance sheets was $499 million and $1.0 billion of\\n48\\nTable of Contents\\nunearned revenue as of December 31, 2016 and 2017 . The amortization of previously unearned revenue was approximately $10.0 billion and $14.3 billion in 2016 and 2017 .\\nForeign Currency', 'type': 'Section', 'doc_id': '945d8680-5cd4-41f5-9336-71011f2109c9', 'properties': {'score': 0.9406800270080566, 'path': 'financebenchdoc.pdf', 'page_number': 48, 'page_numbers': [48, 49]}}, {'parent_id': '17196066-55c2-11ef-aec0-0e0308f3cbb1', 'elements': [], 'bbox': [0.027855330074534695, 0.05119068839333274, 0.970012637867647, 0.3310262229225852], 'shingles': None, 'text_representation': 'Jetirey PF. bezos Chairman and Chief Executive Officer (Principal Executive Officer)\\nCertification Pursuant to 15 U. 1350\\nIn connection with the Annual Report of Amazon.com, Inc. (the “Company”) on Form 10-K for the year ended December 31, 2017, as filed with the Securities and Exchange Commission (the “SEC”) on or about the date hereof (the “Report”), I, Brian T. Olsavsky, Senior Vice President and Chief Financial Officer of the Company, certify, pursuant to 18 U.S.C. Section 1350, as adopted pursuant to Section 906 of the Sarbanes-Oxley Act of 2002, that:\\n(1) The Report fully complies with the requirements of Section 13(a) or 15(d) of the Securities Exchange Act of 1934; and\\n(1) The Report fully complies with the requirements of Section 13(a) or 15(d) of the Securities Exchange Act of 1934; and\\n(2) [he information contained 1n the Keport fairly presents, 1n all material respects, the financial condition and results of operations of the Company.\\n(2) [he information contained 1n the Keport fairly presents, 1n all material respects, the financial condition and results of operations of the Company.\\nA signed original of this written statement has been provided to the Company and will be retained by the Company and furnished to the SEC or tts staff upon request.\\nDate: February |, 2018\\nExhibit 32.2\\n/s/ Brian |. Olsavsky\\nbrian 1. Olsavsky Senior Vice President and Chief Financial Officer (Principal Financial Officer)', 'type': 'Section', 'doc_id': '5eef84f0-1916-4119-8398-dd76a8f33d14', 'properties': {'score': 0.8111469745635986, 'path': 'financebenchdoc.pdf', 'page_number': 84, 'page_numbers': [84, 85]}}, {'parent_id': '17196066-55c2-11ef-aec0-0e0308f3cbb1', 'elements': [], 'bbox': [0.027745567770565256, 0.029616595181551846, 0.9650559369255515, 0.5473282137784091], 'shingles': None, 'text_representation': 'We also have audited, in accordance with the standards of the Public Company Accounting Oversight Board (United States) (PCAOB), Amazon.com, Inc.’s internal control over financial reporting as of December 31, 2017 , based on criteria established in Internal Control—Integrated Framework issued by the Committee of Sponsoring Organizations of the Treadway Commission (2013 framework) and our report dated February 1, 2018 expressed an unqualified opinion thereon.\\nBasis for Opinion\\nThese financial statements are the responsibility of the Company’s management. Our responsibility is to express an opinion on these financial statements based on our audits. We are a public accounting firm registered with the PCAOB and required to be independent with respect to the Company in accordance with the U.S. federal securities laws and the applicable rules and regulations of the Securities and Exchange Commission and the PCAOB.\\nWe conducted our audits in accordance with the standards of the PCAOB. Those standards require that we plan and perform the audit to obtain reasonable assurance about whether the financial statements are free of material misstatement, whether due to error or fraud. Our audit included performing procedures to assess the risks of material misstatement of the financial statements, whether due to error or fraud, and performing procedures that respond to those risks. Such procedures included examining, on a test basis, evidence regarding the amounts and disclosures in the financial statements. Our audits also included evaluating the accounting principles used and significant estimates made by management, as well as evaluating the overall presentation of the financial statements. We believe that our audits provide a reasonable basis for our opinion.\\n/s/ Ernst & Young LLP\\nWe have served as the Company’s auditor since 1996. Seattle, Washington February 1, 2018\\n36\\nTable of Contents\\nAMAZON.COM, INC.\\nCONSOLIDATED STATEMENTS OF CASH FLOWS\\n(in millions)', 'type': 'Section', 'doc_id': 'd94cdcae-1e13-423b-80b5-e3307e634729', 'properties': {'score': 0.9398034811019897, 'path': 'financebenchdoc.pdf', 'page_number': 36, 'page_numbers': [36, 37]}}, {'parent_id': '17196066-55c2-11ef-aec0-0e0308f3cbb1', 'elements': [], 'bbox': [0.027889036290785846, 0.028674767234108663, 0.9603980928308824, 0.9001171320134943], 'shingles': None, 'text_representation': '32.1 Certification of Jeffrey P. Bezos, Chairman and Chief Executive Officer of Amazon.com, Inc., pursuant to 18 U.S.C. Section 1350.\\n32.2 Certification of Brian T. Olsavsky, Senior Vice President and Chief Financial Officer of Amazon.com, Inc., pursuant to 18 U.S.C. Section 1350.\\n101 The following financial statements from the Company’s Annual Report on Form 10-K for the year ended December 31, 2017, formatted in XBRL: (i) Consolidated Statements of Cash Flows, (ii) Consolidated Statements of Operations, (iii) Consolidated Statements of Comprehensive Income, (iv) Consolidated Balance Sheets, (v) Consolidated Statements of Stockholders’ Equity, and (vi) Notes to Consolidated Financial Statements, tagged as blocks of text and including detailed tags.\\nCertain schedules and exhibits to this agreement have been omitted pursuant to Item 601(b)(2) of Regulation S-K and the Company agrees to furnish supplementally to the Securities and Exchange Commission a copy of any omitted schedule and/or exhibit upon request.\\n+ Executive Compensation Plan or Agreement.\\n+ Portions of this exhibit have been omitted and filed separately with the Securities and Exchange Commission pursuant to a request for confidential treatment.\\nItem 16. Form 10-K Summary\\nNone.\\n\\nTable of Contents\\nSIGNATURES\\nPursuant to the requirements of Section 13 or 15(d) of the Securities Exchange Act of 1934, the registrant has duly caused this Report to be signed on its behalf by the undersigned, thereunto duly authorized, as of February 1, 2018 .\\nPursuant to the requirements of the Securities Exchange Act of 1934, this Report has been signed below by the following persons on behalf of the registrant and in the capacities indicated as of February 1, 2018 .', 'type': 'Section', 'doc_id': 'cc1cf3ea-9e6c-4c90-9f09-960231ee759a', 'properties': {'score': 0.4806867241859436, 'path': 'financebenchdoc.pdf', 'page_number': 77, 'page_numbers': [77, 78]}}], 'metrics': {}}]"
      ]
     },
     "execution_count": 30,
     "metadata": {},
     "output_type": "execute_result"
    }
   ],
   "source": [
    "os_config = {\n",
    "    \"size\": 10,\n",
    "    \"neural_search_k\": 200,\n",
    "    \"embedding_model_id\": \"hlAX5Y8BnK-z0ftijBv_\",\n",
    "    \"search_pipeline\": \"hybrid_rag_pipeline\",\n",
    "    \"llm\": \"gpt-4o\",\n",
    "    \"context_window\": \"10\",\n",
    "}\n",
    "\n",
    "data = {\n",
    "    \"experiment_name\": \"sample subtask test\",\n",
    "    \"description\": \"gpt-4o\",\n",
    "    \"created_by\": \"aanyapratapneni\",\n",
    "    \"index\": index,\n",
    "    \"os_client_args\": os_client_args,\n",
    "    \"os_config\": os_config,\n",
    "}\n",
    "\n",
    "pipeline = EvaluationPipeline(\n",
    "    index=index,\n",
    "    os_config=os_config,\n",
    "    metrics=[],\n",
    "    query_executor=OpenSearchQueryExecutor(os_client_args),\n",
    "    embedder=embedder,\n",
    "    knn_query=True,\n",
    ")\n",
    "\n",
    "query_level_metrics = pipeline.execute(input_docset)[0]\n",
    "data[\"query_level_data\"] = query_level_metrics.take_all()"
   ]
  },
  {
   "cell_type": "code",
   "execution_count": 32,
   "metadata": {},
   "outputs": [
    {
     "name": "stdout",
     "output_type": "stream",
     "text": [
      "To calculate Amazon's FY2017 Days Payable Outstanding (DPO), we need the following information:\n",
      "\n",
      "1. **Accounts Payable (AP) for FY2016 and FY2017**:\n",
      "   - AP for FY2016: $16,459 million\n",
      "   - AP for FY2017: $22,481 million\n",
      "\n",
      "2. **Cost of Goods Sold (COGS) for FY2017**:\n",
      "   - COGS for FY2017: $118,573 million\n",
      "\n",
      "3. **Inventory for FY2016 and FY2017**:\n",
      "   - Inventory for FY2016: $11,461 million\n",
      "   - Inventory for FY2017: $16,047 million\n",
      "\n",
      "4. **Change in Inventory**:\n",
      "   - Change in Inventory = Inventory for FY2017 - Inventory for FY2016\n",
      "   - Change in Inventory = $16,047 million - $11,461 million = $4,586 million\n",
      "\n",
      "5. **Average Accounts Payable**:\n",
      "   - Average AP = (AP for FY2016 + AP for FY2017) / 2\n",
      "   - Average AP = ($16,459 million + $22,481 million) / 2 = $19,470 million\n",
      "\n",
      "6. **Total COGS + Change in Inventory**:\n",
      "   - Total = COGS for FY2017 + Change in Inventory\n",
      "   - Total = $118,573 million + $4,586 million = $123,159 million\n",
      "\n",
      "7. **DPO Calculation**:\n",
      "   - DPO = 365 * (Average AP / Total COGS + Change in Inventory)\n",
      "   - DPO = 365 * ($19,470 million / $123,159 million)\n",
      "   - DPO ≈ 57.70 days\n",
      "\n",
      "Therefore, Amazon's FY2017 Days Payable Outstanding (DPO) is approximately 57.70 days.\n"
     ]
    }
   ],
   "source": [
    "print (data[\"query_level_data\"][0][\"generated_answer\"])"
   ]
  },
  {
   "cell_type": "markdown",
   "metadata": {},
   "source": [
    "#### With Subtasks"
   ]
  },
  {
   "cell_type": "code",
   "execution_count": 33,
   "metadata": {},
   "outputs": [],
   "source": [
    "year = 2017\n",
    "\n",
    "document = EvaluationDataPoint()\n",
    "document.question = \"What is Amazon's FY2017 days payable outstanding (DPO)? DPO is defined as: 365 * (average accounts payable between FY2016 and FY2017) / (FY2017 COGS + change in inventory between FY2016 and FY2017). Round your answer to two decimal places. Address the question by using the line items and information shown within the balance sheet and the P&L statement.\"\n",
    "document.ground_truth_answer = \"93.86\"\n",
    "document.doc_id = \"demo_subtask\"\n",
    "document.properties[\"subtasks_reqd\"] = True\n",
    "document.properties[\"subtask_filters\"] = {\"company\": \"Amazon\", \"year\": year, \"year1\": year - 1, \"year2\": year - 2}\n",
    "\n",
    "input_docset = DocSet(context, DocScan([document]))"
   ]
  },
  {
   "cell_type": "code",
   "execution_count": 34,
   "metadata": {},
   "outputs": [],
   "source": [
    "subtask_info = {\n",
    "    \"task_descriptions\": {\n",
    "        \"INVENTORY_TURNOVER\": \"Questions about inventory turnover ratio\",\n",
    "        \"DAYS_PAYABLE\": \"Questions about days payable outstanding\",\n",
    "        \"2YR_GROSS_MARG\": \"Questions about gross margin profile relative to the previous year\",\n",
    "        \"CASH_CONV_CYCLE\": \"Questions about cash conversion cycle\",\n",
    "        \"FREE_CASH_FLOW\": \"Questions about free cash flow\",\n",
    "        \"CAPEX\": \"Questions about only the capital expenditure of a company and no additional information or metrics\",\n",
    "    },\n",
    "\n",
    "    \"task_formulas\": {\n",
    "        \"INVENTORY_TURNOVER\": {\n",
    "            \"formulas\": [\"COGS0/INV0\"]\n",
    "        },\n",
    "        \"DAYS_PAYABLE\": {\n",
    "            \"formulas\": [\"365*AVERAGE(ACCPAY0, ACCPAY1)/(COGS0+INV0-INV1)\"]\n",
    "        },\n",
    "        \"2YR_GROSS_MARG\": {\n",
    "            \"formulas\": [\"CURRENT YEAR GROSS MARGIN = ((REV0-COGS0)/REV0)\", \"PREVIOUS YEAR GROSS MARGIN = ((REV1-COGS1)/REV1)\"],\n",
    "            \"instructions\": \"Use these values to answer the following question.\"\n",
    "        },\n",
    "        \"CASH_CONV_CYCLE\": {\n",
    "            \"formulas\": [\"[365*(AVERAGE(INV0, INV1)/(COGS0))] + [365*(AVERAGE(TRADEREC0, TRADEREC1)/(REV0))] - [365*(AVERAGE(ACCPAY0, ACCPAY1)/(COGS0+INV0-INV1))]\"]\n",
    "        },\n",
    "        \"FREE_CASH_FLOW\": {\n",
    "            \"formulas\": [\"CASHOPS-CAPEX0\"]\n",
    "        },\n",
    "        \"CAPEX\": {\n",
    "            \"instructions\": \"Synonyms for capital expenditure are: capital spending; purchases of property, plant, and equipment (PP&E); acquisition expenses.\"\n",
    "        }\n",
    "    },\n",
    "\n",
    "    \"subtask_instructions\": {\n",
    "        \"REV0\": \" What is the total revenue of {company} in {year}? This value can be found on the income statement.\",\n",
    "        \"REV1\": \" What is the total revenue of {company} in {year1}? This value can be found on the income statement.\",\n",
    "        \"REV2\": \" What is the total revenue of {company} in {year2}? This value can be found on the income statement.\",\n",
    "        \"CAPEX0\": \"What is the capital expenditure of {company} in {year}? This value can be found in the cash flow statement. Synonyms for capital expenditure are: capital spending; purchases of property, plant, and equipment (PP&E); acquisition expenses.\",\n",
    "        \"INV0\": \"What is the total inventories of {company} in {year}? This value can be found on the consolidated balance sheet.\",\n",
    "        \"INV1\": \"What is the total inventories of {company} in {year1}? This value can be found on the consolidated balance sheet.\",\n",
    "        \"COGS0\": \"What is the total cost of goods sold of {company} for {year}? This value can be found on the income statements. Cost of goods sold is also referred to as 'total cost of revenue' or 'cost of sales'.\",\n",
    "        \"COGS1\": \"What is the total cost of goods sold of {company} for {year1}? This value can be found on the income statements. Cost of goods sold is also referred to as 'total cost of revenue' or 'cost of sales'.\",\n",
    "        \"ACCPAY0\": \"What is the accounts payable for {company} in {year}? This value can be found on the balance sheet.\",\n",
    "        \"ACCPAY1\": \"What is the accounts payable for {company} in {year1}? This value can be found on the balance sheet.\",\n",
    "        \"TRADEREC0\": \"What is the trade receivables for {company} in {year}? This value can be found on the balance sheet.\",\n",
    "        \"TRADEREC1\": \"What is the trade receivables for {company} in {year1}? This value can be found on the balance sheet.\",\n",
    "        \"CASHOPS\": \"What is the cash from operations for {company} in {year}? This value can be found on the cash flow statement.\",\n",
    "    }\n",
    "}"
   ]
  },
  {
   "cell_type": "code",
   "execution_count": 35,
   "metadata": {},
   "outputs": [
    {
     "name": "stderr",
     "output_type": "stream",
     "text": [
      "2024-08-08 20:59:20,539\tINFO streaming_executor.py:112 -- Starting execution of Dataset. Full logs are in /tmp/ray/session_2024-08-08_20-37-25_809660_203369/logs/ray-data\n",
      "2024-08-08 20:59:20,539\tINFO streaming_executor.py:113 -- Execution plan of Dataset: InputDataBuffer[Input] -> TaskPoolMapOperator[MapBatches(_get_formulas)->MapBatches(_get_subtasks)->MapBatches(process_doc)]\n"
     ]
    },
    {
     "data": {
      "application/vnd.jupyter.widget-view+json": {
       "model_id": "03f78b6dc7c64bf998c2a6ae0a2710f7",
       "version_major": 2,
       "version_minor": 0
      },
      "text/plain": [
       "- MapBatches(_get_formulas)->MapBatches(_get_subtasks)->MapBatches(process_doc) 1:   0%|          | 0/1 [00:00…"
      ]
     },
     "metadata": {},
     "output_type": "display_data"
    },
    {
     "data": {
      "application/vnd.jupyter.widget-view+json": {
       "model_id": "3e81d49c5f64482e8651c7dceda619ff",
       "version_major": 2,
       "version_minor": 0
      },
      "text/plain": [
       "Running 0:   0%|          | 0/1 [00:00<?, ?it/s]"
      ]
     },
     "metadata": {},
     "output_type": "display_data"
    },
    {
     "name": "stdout",
     "output_type": "stream",
     "text": [
      "<IPython.core.display.HTML object>ches(_get_subtasks)->MapBatches(process_doc) pid=204151) \n",
      "<IPython.core.display.HTML object>ches(_get_subtasks)->MapBatches(process_doc) pid=204151) \n"
     ]
    },
    {
     "name": "stderr",
     "output_type": "stream",
     "text": [
      "(MapBatches(_get_formulas)->MapBatches(_get_subtasks)->MapBatches(process_doc) pid=204151) INFO:httpx:HTTP Request: POST https://api.openai.com/v1/completions \"HTTP/1.1 200 OK\"\n"
     ]
    },
    {
     "name": "stdout",
     "output_type": "stream",
     "text": [
      "<IPython.core.display.HTML object>ches(_get_subtasks)->MapBatches(process_doc) pid=204151) \n",
      "<IPython.core.display.HTML object>ches(_get_subtasks)->MapBatches(process_doc) pid=204151) \n"
     ]
    },
    {
     "name": "stderr",
     "output_type": "stream",
     "text": [
      "(MapBatches(_get_formulas)->MapBatches(_get_subtasks)->MapBatches(process_doc) pid=204151) INFO:sentence_transformers.SentenceTransformer:Use pytorch device_name: cpu\n",
      "(MapBatches(_get_formulas)->MapBatches(_get_subtasks)->MapBatches(process_doc) pid=204151) INFO:sentence_transformers.SentenceTransformer:Load pretrained SentenceTransformer: sentence-transformers/all-mpnet-base-v2\n",
      "(MapBatches(_get_formulas)->MapBatches(_get_subtasks)->MapBatches(process_doc) pid=204151) /home/admin/.cache/pypoetry/virtualenvs/sycamore-monorepo-RdRTS9RD-py3.11/lib/python3.11/site-packages/transformers/tokenization_utils_base.py:1601: FutureWarning: `clean_up_tokenization_spaces` was not set. It will be set to `True` by default. This behavior will be depracted in transformers v4.45, and will be then set to `False` by default. For more details check this issue: https://github.com/huggingface/transformers/issues/31884\n",
      "(MapBatches(_get_formulas)->MapBatches(_get_subtasks)->MapBatches(process_doc) pid=204151)   warnings.warn(\n",
      "Batches: 100%|██████████| 1/1 [00:00<00:00, 18.15it/s]>MapBatches(process_doc) pid=204151) \n",
      "(MapBatches(_get_formulas)->MapBatches(_get_subtasks)->MapBatches(process_doc) pid=204151) INFO:opensearch:POST https://localhost:9200/sample0/_search?search_pipeline=hybrid_rag_pipeline [status:200 request:0.690s]\n",
      "Batches:   0%|          | 0/1 [00:00<?, ?it/s]btasks)->MapBatches(process_doc) pid=204151) \n",
      "Batches: 100%|██████████| 1/1 [00:00<00:00, 19.27it/s]>MapBatches(process_doc) pid=204151) \n",
      "(MapBatches(_get_formulas)->MapBatches(_get_subtasks)->MapBatches(process_doc) pid=204151) INFO:opensearch:POST https://localhost:9200/sample0/_search?search_pipeline=hybrid_rag_pipeline [status:200 request:0.604s]\n",
      "Batches: 100%|██████████| 1/1 [00:00<00:00, 17.28it/s]>MapBatches(process_doc) pid=204151) \n",
      "(MapBatches(_get_formulas)->MapBatches(_get_subtasks)->MapBatches(process_doc) pid=204151) INFO:opensearch:POST https://localhost:9200/sample0/_search?search_pipeline=hybrid_rag_pipeline [status:200 request:0.710s]\n",
      "Batches:   0%|          | 0/1 [00:00<?, ?it/s]btasks)->MapBatches(process_doc) pid=204151) \n",
      "Batches: 100%|██████████| 1/1 [00:00<00:00, 19.55it/s]>MapBatches(process_doc) pid=204151) \n",
      "(MapBatches(_get_formulas)->MapBatches(_get_subtasks)->MapBatches(process_doc) pid=204151) INFO:opensearch:POST https://localhost:9200/sample0/_search?search_pipeline=hybrid_rag_pipeline [status:200 request:0.583s]\n",
      "Batches: 100%|██████████| 1/1 [00:00<00:00, 24.58it/s]>MapBatches(process_doc) pid=204151) \n",
      "(MapBatches(_get_formulas)->MapBatches(_get_subtasks)->MapBatches(process_doc) pid=204151) INFO:opensearch:POST https://localhost:9200/sample0/_search?search_pipeline=hybrid_rag_pipeline [status:200 request:0.615s]\n",
      "(MapBatches(_build_opensearch_query) pid=204151) INFO:sentence_transformers.SentenceTransformer:Use pytorch device_name: cpu\n",
      "(MapBatches(_build_opensearch_query) pid=204151) INFO:sentence_transformers.SentenceTransformer:Load pretrained SentenceTransformer: sentence-transformers/all-mpnet-base-v2\n",
      "(MapBatches(_build_opensearch_query) pid=204151) /home/admin/.cache/pypoetry/virtualenvs/sycamore-monorepo-RdRTS9RD-py3.11/lib/python3.11/site-packages/transformers/tokenization_utils_base.py:1601: FutureWarning: `clean_up_tokenization_spaces` was not set. It will be set to `True` by default. This behavior will be depracted in transformers v4.45, and will be then set to `False` by default. For more details check this issue: https://github.com/huggingface/transformers/issues/31884\n",
      "(MapBatches(_build_opensearch_query) pid=204151)   warnings.warn(\n",
      "Batches:   0%|          | 0/1 [00:00<?, ?it/s]1) \n",
      "Batches: 100%|██████████| 1/1 [00:00<00:00,  6.69it/s]\n",
      "(MapBatches(query) pid=204151) INFO:opensearch:POST https://localhost:9200/sample0/_search?search_pipeline=hybrid_rag_pipeline [status:200 request:5.796s]\n"
     ]
    },
    {
     "name": "stderr",
     "output_type": "stream",
     "text": [
      "2024-08-08 20:59:24,896\tINFO streaming_executor.py:112 -- Starting execution of Dataset. Full logs are in /tmp/ray/session_2024-08-08_20-37-25_809660_203369/logs/ray-data\n",
      "2024-08-08 20:59:24,896\tINFO streaming_executor.py:113 -- Execution plan of Dataset: InputDataBuffer[Input] -> TaskPoolMapOperator[MapBatches(_build_opensearch_query)] -> TaskPoolMapOperator[MapBatches(query)] -> TaskPoolMapOperator[MapBatches(_process_queries)]\n"
     ]
    },
    {
     "data": {
      "application/vnd.jupyter.widget-view+json": {
       "model_id": "2de3a2bee67f44709660877a96e3936d",
       "version_major": 2,
       "version_minor": 0
      },
      "text/plain": [
       "- MapBatches(_build_opensearch_query) 1:   0%|          | 0/1 [00:00<?, ?it/s]"
      ]
     },
     "metadata": {},
     "output_type": "display_data"
    },
    {
     "data": {
      "application/vnd.jupyter.widget-view+json": {
       "model_id": "99087d2e75d6496d831e3e32863d340d",
       "version_major": 2,
       "version_minor": 0
      },
      "text/plain": [
       "- MapBatches(query) 2:   0%|          | 0/1 [00:00<?, ?it/s]"
      ]
     },
     "metadata": {},
     "output_type": "display_data"
    },
    {
     "data": {
      "application/vnd.jupyter.widget-view+json": {
       "model_id": "13fd9e5086b4473a88f6b94685c1bc2d",
       "version_major": 2,
       "version_minor": 0
      },
      "text/plain": [
       "- MapBatches(_process_queries) 3:   0%|          | 0/1 [00:00<?, ?it/s]"
      ]
     },
     "metadata": {},
     "output_type": "display_data"
    },
    {
     "data": {
      "application/vnd.jupyter.widget-view+json": {
       "model_id": "85ff8d0557b44886bf9fb751452f3c9d",
       "version_major": 2,
       "version_minor": 0
      },
      "text/plain": [
       "Running 0:   0%|          | 0/1 [00:00<?, ?it/s]"
      ]
     },
     "metadata": {},
     "output_type": "display_data"
    },
    {
     "name": "stdout",
     "output_type": "stream",
     "text": [
      "COMPLETE\n",
      "FINAL_DUMPED\n"
     ]
    }
   ],
   "source": [
    "subtask_exec = SubtaskExecutor(\n",
    "    None, subtask_info, index, os_config, query_executor=OpenSearchQueryExecutor(os_client_args), embedder=embedder, knn_query=True, llm=openai_llm\n",
    ")\n",
    "\n",
    "subtask_docs = subtask_exec.execute(input_docset)\n",
    "subtask_docs\n",
    "\n",
    "pipeline = EvaluationPipeline(\n",
    "    index=index,\n",
    "    os_config=os_config,\n",
    "    metrics=[],\n",
    "    query_executor=OpenSearchQueryExecutor(os_client_args),\n",
    "    embedder=embedder,\n",
    "    knn_query=True,\n",
    "    subtask_docs=subtask_docs\n",
    ")\n",
    "\n",
    "query_level_metrics = pipeline.execute(input_docset)[0]\n",
    "data[\"query_level_data\"] = query_level_metrics.take_all()"
   ]
  },
  {
   "cell_type": "code",
   "execution_count": 36,
   "metadata": {},
   "outputs": [
    {
     "name": "stdout",
     "output_type": "stream",
     "text": [
      "To calculate Amazon's FY2017 Days Payable Outstanding (DPO), follow these steps:\n",
      "\n",
      "1. **Calculate the average accounts payable:**\n",
      "   \\[\n",
      "   \\text{Average Accounts Payable} = \\frac{\\text{ACCPAY0} + \\text{ACCPAY1}}{2} = \\frac{34,616 + 25,309}{2} = 29,962.5 \\text{ million}\n",
      "   \\]\n",
      "\n",
      "2. **Calculate the change in inventory:**\n",
      "   \\[\n",
      "   \\text{Change in Inventory} = \\text{INV0} - \\text{INV1} = 16,047 - 11,461 = 4,586 \\text{ million}\n",
      "   \\]\n",
      "\n",
      "3. **Calculate the denominator (COGS + change in inventory):**\n",
      "   \\[\n",
      "   \\text{Denominator} = \\text{COGS0} + \\text{Change in Inventory} = 111,934 + 4,586 = 116,520 \\text{ million}\n",
      "   \\]\n",
      "\n",
      "4. **Calculate the DPO:**\n",
      "   \\[\n",
      "   \\text{DPO} = 365 \\times \\frac{\\text{Average Accounts Payable}}{\\text{Denominator}} = 365 \\times \\frac{29,962.5}{116,520} \\approx 93.79 \\text{ days}\n",
      "   \\]\n",
      "\n",
      "Therefore, Amazon's FY2017 Days Payable Outstanding (DPO) is approximately **93.79 days**.\n"
     ]
    }
   ],
   "source": [
    "print (data[\"query_level_data\"][0][\"generated_answer\"])"
   ]
  }
 ],
 "metadata": {
  "kernelspec": {
   "display_name": "sycamore-monorepo-RdRTS9RD-py3.11",
   "language": "python",
   "name": "python3"
  },
  "language_info": {
   "codemirror_mode": {
    "name": "ipython",
    "version": 3
   },
   "file_extension": ".py",
   "mimetype": "text/x-python",
   "name": "python",
   "nbconvert_exporter": "python",
   "pygments_lexer": "ipython3",
   "version": "3.11.2"
  }
 },
 "nbformat": 4,
 "nbformat_minor": 2
}
