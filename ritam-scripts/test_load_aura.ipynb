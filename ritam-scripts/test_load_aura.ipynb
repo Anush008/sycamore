{
 "cells": [
  {
   "cell_type": "code",
   "execution_count": 1,
   "metadata": {},
   "outputs": [],
   "source": [
    "%load_ext autoreload\n",
    "%autoreload 2"
   ]
  },
  {
   "cell_type": "code",
   "execution_count": 2,
   "metadata": {},
   "outputs": [],
   "source": [
    "from sycamore.data import Document, HierarchicalDocument\n",
    "from sycamore.llms import OpenAI, OpenAIModels\n",
    "from sycamore.connectors.file.file_scan import JsonManifestMetadataProvider\n",
    "from sycamore.transforms.partition import ArynPartitioner\n",
    "from sycamore.utils.time_trace import timetrace\n",
    "\n",
    "import sycamore\n",
    "import pickle\n",
    "import json\n",
    "import sys\n",
    "import pandas as pd\n",
    "import csv\n",
    "import os\n",
    "from pathlib import Path\n",
    "\n",
    "from sycamore.utils.cache import DiskCache\n",
    "ctx = sycamore.init() \n",
    "llm = OpenAI(OpenAIModels.GPT_4O, cache=DiskCache(\"/home/eric/sycamore-ritam/ritam-scripts/llm_cache\"))\n",
    "\n"
   ]
  },
  {
   "cell_type": "code",
   "execution_count": 3,
   "metadata": {},
   "outputs": [],
   "source": [
    "def unpickle_doc(pdoc: Document) -> list[Document]:\n",
    "    doc = pickle.loads(pdoc.binary_representation)\n",
    "    return [doc]\n",
    "\n",
    "path = Path('ntsb_parsed_1').resolve()\n",
    "pickled_docset = ctx.read.binary(str(path), binary_format=\"pickle\")\n",
    "ds = pickled_docset.flat_map(unpickle_doc)"
   ]
  },
  {
   "cell_type": "code",
   "execution_count": 4,
   "metadata": {},
   "outputs": [
    {
     "name": "stderr",
     "output_type": "stream",
     "text": [
      "2024-09-08 15:58:48,233\tINFO worker.py:1740 -- Started a local Ray instance. View the dashboard at \u001b[1m\u001b[32mhttp://127.0.0.1:8265 \u001b[39m\u001b[22m\n",
      "2024-09-08 15:58:49,866\tINFO streaming_executor.py:112 -- Starting execution of Dataset. Full logs are in /tmp/ray/session_2024-09-08_15-58-44_811123_1962887/logs/ray-data\n",
      "2024-09-08 15:58:49,867\tINFO streaming_executor.py:113 -- Execution plan of Dataset: InputDataBuffer[Input] -> TaskPoolMapOperator[ReadBinary] -> TaskPoolMapOperator[Map(BinaryScan._to_document)->MapBatches(unpickle_doc)->MapBatches(extract)->MapBatches(extract)->MapBatches(extract)->MapBatches(materialize)->MapBatches(_aggregate_section_nodes)]\n"
     ]
    },
    {
     "data": {
      "application/vnd.jupyter.widget-view+json": {
       "model_id": "",
       "version_major": 2,
       "version_minor": 0
      },
      "text/plain": [
       "- ReadBinary->SplitBlocks(32) 1:   0%|                                                               | 0/1 [00…"
      ]
     },
     "metadata": {},
     "output_type": "display_data"
    },
    {
     "data": {
      "application/vnd.jupyter.widget-view+json": {
       "model_id": "7c2bbac4df10460eae19d491a561feca",
       "version_major": 2,
       "version_minor": 0
      },
      "text/plain": [
       "- Map(BinaryScan._to_document)->MapBatches(unpickle_doc)->MapBatches(extract)->MapBatches(extract)->MapBatches…"
      ]
     },
     "metadata": {},
     "output_type": "display_data"
    },
    {
     "data": {
      "application/vnd.jupyter.widget-view+json": {
       "model_id": "2b050536d848483db42583f1ac9e8eac",
       "version_major": 2,
       "version_minor": 0
      },
      "text/plain": [
       "Running 0:   0%|                                                                                     | 0/1 [00…"
      ]
     },
     "metadata": {},
     "output_type": "display_data"
    },
    {
     "name": "stderr",
     "output_type": "stream",
     "text": [
      "(Map(BinaryScan._to_document)->MapBatches(unpickle_doc)->MapBatches(extract)->MapBatches(extract)->MapBatches(extract)->MapBatches(materialize)->MapBatches(_aggregate_section_nodes) pid=1963156) Unrecognized extenstion pickle; using application/pickle\n",
      "WARNING: All log messages before absl::InitializeLog() is called are written to STDERR\n",
      "I0000 00:00:1725836336.470664 1962887 config.cc:230] gRPC experiments enabled: call_status_override_on_cancellation, event_engine_dns, event_engine_listener, http2_stats_fix, monitoring_experiment, pick_first_new, trace_record_callops, work_serializer_clears_time_cache\n",
      "2024-09-08 15:58:56,518\tINFO dataset.py:2370 -- Tip: Use `take_batch()` instead of `take() / show()` to return records in pandas or numpy batch format.\n",
      "2024-09-08 15:58:56,525\tINFO streaming_executor.py:112 -- Starting execution of Dataset. Full logs are in /tmp/ray/session_2024-09-08_15-58-44_811123_1962887/logs/ray-data\n",
      "2024-09-08 15:58:56,526\tINFO streaming_executor.py:113 -- Execution plan of Dataset: InputDataBuffer[Input] -> AllToAllOperator[Aggregate] -> LimitOperator[limit=1]\n"
     ]
    },
    {
     "data": {
      "application/vnd.jupyter.widget-view+json": {
       "model_id": "6a0086a6fb6d46e9b08ea06253e4bca3",
       "version_major": 2,
       "version_minor": 0
      },
      "text/plain": [
       "- Aggregate 1:   0%|                                                                                | 0/32 [00…"
      ]
     },
     "metadata": {},
     "output_type": "display_data"
    },
    {
     "data": {
      "application/vnd.jupyter.widget-view+json": {
       "model_id": "a9487ab8abb3456f99178cc8233a5b5a",
       "version_major": 2,
       "version_minor": 0
      },
      "text/plain": [
       "Shuffle Map 2:   0%|                                                                                | 0/32 [00…"
      ]
     },
     "metadata": {},
     "output_type": "display_data"
    },
    {
     "data": {
      "application/vnd.jupyter.widget-view+json": {
       "model_id": "bd49d3da90274b639149f9708e6d90cd",
       "version_major": 2,
       "version_minor": 0
      },
      "text/plain": [
       "Shuffle Reduce 3:   0%|                                                                             | 0/32 [00…"
      ]
     },
     "metadata": {},
     "output_type": "display_data"
    },
    {
     "data": {
      "application/vnd.jupyter.widget-view+json": {
       "model_id": "afd6aaedb25d4fdb95ce8c6d0a9a404f",
       "version_major": 2,
       "version_minor": 0
      },
      "text/plain": [
       "- limit=1 4:   0%|                                                                                  | 0/32 [00…"
      ]
     },
     "metadata": {},
     "output_type": "display_data"
    },
    {
     "data": {
      "application/vnd.jupyter.widget-view+json": {
       "model_id": "dc8c6063a07643c0bb5dfe98b66e34d7",
       "version_major": 2,
       "version_minor": 0
      },
      "text/plain": [
       "Running 0:   0%|                                                                                    | 0/32 [00…"
      ]
     },
     "metadata": {},
     "output_type": "display_data"
    },
    {
     "name": "stderr",
     "output_type": "stream",
     "text": [
      "(map pid=1963152) ERROR:root:ERIC CHECK IF BAD\n",
      "(map pid=1963152) ERROR:root:ERIC CHECK IF BAD\n",
      "(map pid=1963152) ERROR:root:ERIC CHECK IF BAD\n",
      "(map pid=1963152) ERROR:root:ERIC CHECK IF BAD\n",
      "(map pid=1963152) ERROR:root:ERIC CHECK IF BAD\n",
      "(map pid=1963152) ERROR:root:ERIC CHECK IF BAD\n",
      "(map pid=1963152) ERROR:root:ERIC CHECK IF BAD\n",
      "(map pid=1963152) ERROR:root:ERIC CHECK IF BAD\n",
      "(map pid=1963152) ERROR:root:ERIC CHECK IF BAD\n",
      "(map pid=1963152) ERROR:root:ERIC CHECK IF BAD\n",
      "(map pid=1963152) ERROR:root:ERIC CHECK IF BAD\n",
      "2024-09-08 15:58:56,786\tINFO streaming_executor.py:112 -- Starting execution of Dataset. Full logs are in /tmp/ray/session_2024-09-08_15-58-44_811123_1962887/logs/ray-data\n",
      "2024-09-08 15:58:56,790\tINFO streaming_executor.py:113 -- Execution plan of Dataset: InputDataBuffer[Input], InputDataBuffer[Input] -> UnionOperator[UnionOperator(Input, Input)] -> TaskPoolMapOperator[MapBatches(_clean_temp_nodes)->MapBatches(materialize)]\n",
      "(map pid=1963152) ERROR:root:ERIC CHECK IF BAD"
     ]
    },
    {
     "data": {
      "application/vnd.jupyter.widget-view+json": {
       "model_id": "755b7c0e478d4691a9740148288399bc",
       "version_major": 2,
       "version_minor": 0
      },
      "text/plain": [
       "- UnionOperator(Input, Input) 1:   0%|                                                              | 0/33 [00…"
      ]
     },
     "metadata": {},
     "output_type": "display_data"
    },
    {
     "data": {
      "application/vnd.jupyter.widget-view+json": {
       "model_id": "0b840d1e3f834d67be73f0bb51c9598c",
       "version_major": 2,
       "version_minor": 0
      },
      "text/plain": [
       "- MapBatches(_clean_temp_nodes)->MapBatches(materialize) 2:   0%|                                   | 0/33 [00…"
      ]
     },
     "metadata": {},
     "output_type": "display_data"
    },
    {
     "name": "stderr",
     "output_type": "stream",
     "text": [
      "\n"
     ]
    },
    {
     "data": {
      "application/vnd.jupyter.widget-view+json": {
       "model_id": "ee21af289ae949d4acd63041723e4a8e",
       "version_major": 2,
       "version_minor": 0
      },
      "text/plain": [
       "Running 0:   0%|                                                                                    | 0/33 [00…"
      ]
     },
     "metadata": {},
     "output_type": "display_data"
    },
    {
     "name": "stderr",
     "output_type": "stream",
     "text": [
      "(map pid=1963152) ERROR:root:ERIC CHECK IF BAD\n",
      "(map pid=1963152) ERROR:root:ERIC CHECK IF BAD\n",
      "(map pid=1963152) ERROR:root:ERIC CHECK IF BAD\n",
      "(map pid=1963152) ERROR:root:ERIC CHECK IF BAD\n",
      "(map pid=1963152) ERROR:root:ERIC CHECK IF BAD\n",
      "(map pid=1963152) ERROR:root:ERIC CHECK IF BAD\n",
      "(reduce pid=1963152) ERROR:root:ERIC CHECK IF BAD\n",
      "(reduce pid=1963152) ERROR:root:ERIC CHECK IF BAD\n",
      "(reduce pid=1963152) ERROR:root:ERIC CHECK IF BAD\n",
      "(reduce pid=1963152) ERROR:root:ERIC CHECK IF BAD\n",
      "(reduce pid=1963152) ERROR:root:ERIC CHECK IF BAD\n",
      "(reduce pid=1963152) ERROR:root:ERIC CHECK IF BAD\n",
      "(reduce pid=1963152) ERROR:root:ERIC CHECK IF BAD\n",
      "(reduce pid=1963152) ERROR:root:ERIC CHECK IF BAD\n",
      "(reduce pid=1963152) ERROR:root:ERIC CHECK IF BAD\n",
      "(reduce pid=1963152) ERROR:root:ERIC CHECK IF BAD\n",
      "(reduce pid=1963152) ERROR:root:ERIC CHECK IF BAD\n",
      "(reduce pid=1963152) ERROR:root:ERIC CHECK IF BAD\n",
      "(reduce pid=1963152) ERROR:root:ERIC CHECK IF BAD\n",
      "(reduce pid=1963152) ERROR:root:ERIC CHECK IF BAD\n",
      "(reduce pid=1963152) ERROR:root:ERIC CHECK IF BAD\n",
      "(reduce pid=1963152) ERROR:root:ERIC CHECK IF BAD\n",
      "(reduce pid=1963152) ERROR:root:ERIC CHECK IF BAD\n",
      "(reduce pid=1963152) ERROR:root:ERIC CHECK IF BAD\n",
      "(reduce pid=1963152) ERROR:root:ERIC CHECK IF BAD\n",
      "(reduce pid=1963152) ERROR:root:ERIC CHECK IF BAD\n",
      "(reduce pid=1963152) ERROR:root:ERIC CHECK IF BAD\n",
      "(reduce pid=1963152) ERROR:root:ERIC CHECK IF BAD\n",
      "(reduce pid=1963152) ERROR:root:ERIC CHECK IF BAD\n",
      "(reduce pid=1963152) ERROR:root:ERIC CHECK IF BAD\n",
      "(reduce pid=1963152) ERROR:root:ERIC CHECK IF BAD\n",
      "(reduce pid=1963152) ERROR:root:ERIC CHECK IF BAD\n",
      "(reduce pid=1963152) ERROR:root:ERIC CHECK IF BAD\n",
      "(reduce pid=1963152) ERROR:root:ERIC CHECK IF BAD\n",
      "(reduce pid=1963152) ERROR:root:ERIC CHECK IF BAD\n",
      "(reduce pid=1963152) ERROR:root:ERIC CHECK IF BAD\n",
      "(reduce pid=1963152) ERROR:root:ERIC CHECK IF BAD\n",
      "(reduce pid=1963152) ERROR:root:ERIC CHECK IF BAD\n",
      "(reduce pid=1963152) ERROR:root:ERIC CHECK IF BAD\n",
      "(reduce pid=1963152) ERROR:root:ERIC CHECK IF BAD\n",
      "(reduce pid=1963152) ERROR:root:ERIC CHECK IF BAD\n",
      "(reduce pid=1963152) ERROR:root:ERIC CHECK IF BAD\n",
      "(reduce pid=1963152) ERROR:root:ERIC CHECK IF BAD\n",
      "(reduce pid=1963152) ERROR:root:ERIC CHECK IF BAD\n",
      "(reduce pid=1963152) ERROR:root:ERIC CHECK IF BAD\n",
      "(reduce pid=1963152) ERROR:root:ERIC CHECK IF BAD\n",
      "(reduce pid=1963152) ERROR:root:ERIC CHECK IF BAD\n",
      "(reduce pid=1963152) ERROR:root:ERIC CHECK IF BAD\n",
      "(reduce pid=1963152) ERROR:root:ERIC CHECK IF BAD\n",
      "(reduce pid=1963152) ERROR:root:ERIC CHECK IF BAD\n",
      "(reduce pid=1963152) ERROR:root:ERIC CHECK IF BAD\n",
      "(reduce pid=1963152) ERROR:root:ERIC CHECK IF BAD\n",
      "(reduce pid=1963152) ERROR:root:ERIC CHECK IF BAD\n",
      "(reduce pid=1963152) ERROR:root:ERIC CHECK IF BAD\n",
      "(reduce pid=1963152) ERROR:root:ERIC CHECK IF BAD\n",
      "(reduce pid=1963152) ERROR:root:ERIC CHECK IF BAD\n",
      "(reduce pid=1963152) ERROR:root:ERIC CHECK IF BAD\n",
      "(reduce pid=1963152) ERROR:root:ERIC CHECK IF BAD\n",
      "(reduce pid=1963152) ERROR:root:ERIC CHECK IF BAD\n",
      "(reduce pid=1963152) ERROR:root:ERIC CHECK IF BAD\n",
      "(reduce pid=1963152) ERROR:root:ERIC CHECK IF BAD\n",
      "(reduce pid=1963152) ERROR:root:ERIC CHECK IF BAD\n",
      "(reduce pid=1963152) ERROR:root:ERIC CHECK IF BAD\n",
      "(reduce pid=1963152) ERROR:root:ERIC CHECK IF BAD\n",
      "(reduce pid=1963152) ERROR:root:ERIC CHECK IF BAD\n",
      "(reduce pid=1963152) ERROR:root:ERIC CHECK IF BAD\n",
      "(reduce pid=1963152) ERROR:root:ERIC CHECK IF BAD\n",
      "(reduce pid=1963152) ERROR:root:ERIC CHECK IF BAD\n",
      "(reduce pid=1963152) ERROR:root:ERIC CHECK IF BAD\n",
      "(reduce pid=1963152) ERROR:root:ERIC CHECK IF BAD\n",
      "(reduce pid=1963152) ERROR:root:ERIC CHECK IF BAD\n",
      "(reduce pid=1963152) ERROR:root:ERIC CHECK IF BAD\n",
      "(reduce pid=1963152) ERROR:root:ERIC CHECK IF BAD\n",
      "(reduce pid=1963152) ERROR:root:ERIC CHECK IF BAD\n",
      "(reduce pid=1963152) ERROR:root:ERIC CHECK IF BAD\n",
      "(reduce pid=1963152) ERROR:root:ERIC CHECK IF BAD\n",
      "(reduce pid=1963152) ERROR:root:ERIC CHECK IF BAD\n",
      "(reduce pid=1963152) ERROR:root:ERIC CHECK IF BAD\n",
      "(reduce pid=1963152) ERROR:root:ERIC CHECK IF BAD\n",
      "(reduce pid=1963152) ERROR:root:ERIC CHECK IF BAD\n",
      "(reduce pid=1963152) ERROR:root:ERIC CHECK IF BAD\n",
      "(reduce pid=1963152) ERROR:root:ERIC CHECK IF BAD\n",
      "(reduce pid=1963152) ERROR:root:ERIC CHECK IF BAD\n",
      "(reduce pid=1963152) ERROR:root:ERIC CHECK IF BAD\n",
      "(reduce pid=1963152) ERROR:root:ERIC CHECK IF BAD\n",
      "(reduce pid=1963152) ERROR:root:ERIC CHECK IF BAD\n",
      "(reduce pid=1963152) ERROR:root:ERIC CHECK IF BAD\n",
      "(reduce pid=1963152) ERROR:root:ERIC CHECK IF BAD\n",
      "(reduce pid=1963152) ERROR:root:ERIC CHECK IF BAD\n",
      "(reduce pid=1963152) ERROR:root:ERIC CHECK IF BAD\n",
      "(reduce pid=1963152) ERROR:root:ERIC CHECK IF BAD\n",
      "(reduce pid=1963152) ERROR:root:ERIC CHECK IF BAD\n",
      "(reduce pid=1963152) ERROR:root:ERIC CHECK IF BAD\n",
      "(reduce pid=1963152) ERROR:root:ERIC CHECK IF BAD\n",
      "(reduce pid=1963152) ERROR:root:ERIC CHECK IF BAD\n",
      "(reduce pid=1963152) ERROR:root:ERIC CHECK IF BAD\n",
      "(reduce pid=1963152) ERROR:root:ERIC CHECK IF BAD\n",
      "(reduce pid=1963152) ERROR:root:ERIC CHECK IF BAD\n",
      "(reduce pid=1963152) ERROR:root:ERIC CHECK IF BAD\n",
      "(reduce pid=1963152) ERROR:root:ERIC CHECK IF BAD\n"
     ]
    }
   ],
   "source": [
    "from sycamore.transforms.extract_document_structure import StructureBySection, StructureByDocument\n",
    "from sycamore.transforms.extract_graph_entities import EntityExtractor\n",
    "from sycamore.transforms.extract_graph_relationships import RelationshipExtractor\n",
    "from pydantic import BaseModel, Field\n",
    "import boto3\n",
    "\n",
    "\n",
    "class Report(BaseModel):\n",
    "    ID: str = Field(description=\"This ID can be found under either Accident Number, Incident Number, or Occurance Number\")\n",
    "\n",
    "class Aircraft(BaseModel):\n",
    "    registration: str\n",
    "    make: str\n",
    "    model: str\n",
    "\n",
    "class INVOLVED_AIRCRAFT(BaseModel):\n",
    "    start: Report\n",
    "    end: Aircraft\n",
    "\n",
    "ENTITY_DEFAULT_PROMPT = \"\"\"\n",
    "    -Instructions-\n",
    "    You are a information extraction system.\n",
    "\n",
    "    You will be given a sequence of data in different formats(text, table, Section-header) in order.\n",
    "    Your job is to extract entities from the text input that match the entity schemas provided. Each entity\n",
    "    and property extracted should directly reference part of the text input provided.\n",
    "\n",
    "    \"\"\"\n",
    "\n",
    "RELATIONSHIP_DEFAULT_PROMPT = \"\"\"\n",
    "    -Goal-\n",
    "    You are a helpful information extraction system.\n",
    "\n",
    "    You will be given a sequence of data in different formats(text, table, Section-header) in order.\n",
    "    Your job is to extract relationships that map between entities that have already been extracted from this text.\n",
    "\n",
    "    \"\"\"\n",
    "\n",
    "\n",
    "ds_resolved = (\n",
    "    ds.extract_document_structure(StructureBySection)\n",
    "    .extract_graph_entities([EntityExtractor(llm=llm, entities=[Report, Aircraft], prompt=ENTITY_DEFAULT_PROMPT)])\n",
    "    .extract_graph_relationships([RelationshipExtractor(llm=llm, relationships=[INVOLVED_AIRCRAFT], prompt=RELATIONSHIP_DEFAULT_PROMPT)])\n",
    "    .materialize(path=\"/tmp/extract_graph\", source_mode=sycamore.MATERIALIZE_USE_STORED)\n",
    "    .resolve_graph_entities(resolvers=[], resolve_duplicates=False)\n",
    "    .materialize(path=\"/tmp/resolve_entities\")\n",
    "    #.explode()\n",
    ")\n",
    "\n",
    "docs = ds_resolved.take_all()\n",
    "\n",
    "#URI = \"bolt://localhost:11001\"\n",
    "#AUTH = (\"neo4j\", \"koala-stereo-comedy-spray-figure-6974\")\n",
    "\n",
    "\n",
    "# URI = 'neo4j+s://adc13803.databases.neo4j.io'\n",
    "# AUTH = ('neo4j', 'bbOoM_jRSl9bfiN5EfRTam4QeJFTAWU34Jvv-6soQfM')\n",
    "# DATABASE = \"neo4j\"\n",
    "# IMPORT_DIR = \"/home/ritam/neo4j/import\"\n",
    "# s3_session = boto3.session.Session()\n",
    "\n",
    "# ds.write.neo4j(uri=URI,auth=AUTH,database=DATABASE,import_dir=IMPORT_DIR, use_auradb=True, s3_session=s3_session)"
   ]
  },
  {
   "cell_type": "code",
   "execution_count": 5,
   "metadata": {},
   "outputs": [
    {
     "name": "stdout",
     "output_type": "stream",
     "text": [
      "{\n",
      "  \"doc_id\": \"ce46b2f0-664f-11ef-aab9-0698d584093b\",\n",
      "  \"lineage_id\": \"27dd396b-4bec-4c56-859f-a08ec9bb31bf\",\n",
      "  \"type\": \"pdf\",\n",
      "  \"text_representation\": null,\n",
      "  \"binary_representation\": \"<3281439 bytes>\",\n",
      "  \"children\": [\n",
      "    \"{\\n  \\\"doc_id\\\": \\\"edac3606-5960-4c47-8411-c33100ea31ff\\\",\\n  \\\"lineage_id\\\": \\\"f8b2aabe-9986-41a1-9f7b-b768851857c3\\\",\\n  \\\"type\\\": \\\"Section-header\\\",\\n  \\\"text_representation\\\": \\\"Front Page...\\\",\\n  \\\"binary_representation\\\": \\\"<10 bytes>\\\",\\n  \\\"children\\\": [\\n    \\\"{\\\\n  \\\\\\\"doc_id\\\\\\\": \\\\\\\"076164b3-86d2-4a61-afee-a15582d4704b\\\\\\\",\\\\n  \\\\\\\"lineage_id\\\\\\\": \\\\\\\"e0d71820-ed3a-4d4f-bd1e-c9503f3691cb\\\\\\\",\\\\n  \\\\\\\"type\\\\\\\": \\\\\\\"Image\\\\\\\",\\\\n  \\\\\\\"text_representation\\\\\\\": \\\\\\\"AVIATION HIGHWAY MARINE PIPELINE\\\\\\\\n\\\\\\\\n...\\\\\\\",\\\\n  \\\\\\\"binary_representation\\\\\\\": \\\\\\\"<1340160 bytes>\\\\\\\",\\\\n  \\\\\\\"children\\\\\\\": [],\\\\n  \\\\\\\"embedding\\\\\\\": null,\\\\n  \\\\\\\"shingles\\\\\\\": null,\\\\n  \\\\\\\"parent_id\\\\\\\": null,\\\\n  \\\\\\\"bbox\\\\\\\": \\\\\\\"BoundingBox(0.07904860552619486, 0.00103982535275546, 0.8883779009650735, 0.1372220264781605)\\\\\\\",\\\\n  \\\\\\\"properties\\\\\\\": {\\\\n    \\\\\\\"score\\\\\\\": 0.8049386143684387,\\\\n    \\\\\\\"image_size\\\\\\\": [\\\\n      1396,\\\\n      320\\\\n    ],\\\\n    \\\\\\\"image_mode\\\\\\\": \\\\\\\"RGB\\\\\\\",\\\\n    \\\\\\\"image_format\\\\\\\": null,\\\\n    \\\\\\\"page_number\\\\\\\": 1\\\\n  }\\\\n}\\\"\\n  ],\\n  \\\"embedding\\\": null,\\n  \\\"shingles\\\": null,\\n  \\\"parent_id\\\": null,\\n  \\\"bbox\\\": \\\"BoundingBox(0, 0, 0, 0)\\\",\\n  \\\"properties\\\": {\\n    \\\"score\\\": 1,\\n    \\\"page_number\\\": 1\\n  }\\n}\",\n",
      "    \"{\\n  \\\"doc_id\\\": \\\"a00f70b4-e5fc-4df1-8a83-af5a1082814e\\\",\\n  \\\"lineage_id\\\": \\\"a92bb097-e389-40ec-89b9-16b9d77aca4a\\\",\\n  \\\"type\\\": \\\"Section-header\\\",\\n  \\\"text_representation\\\": \\\"Aviation Investigation Final Report\\\\n...\\\",\\n  \\\"binary_representation\\\": null,\\n  \\\"children\\\": [\\n    \\\"{\\\\n  \\\\\\\"doc_id\\\\\\\": \\\\\\\"7e8c372d-f66c-48b4-a904-50c5eb039f3a\\\\\\\",\\\\n  \\\\\\\"lineage_id\\\\\\\": \\\\\\\"96872ff1-d745-48b0-9216-a6765752a707\\\\\\\",\\\\n  \\\\\\\"type\\\\\\\": \\\\\\\"table\\\\\\\",\\\\n  \\\\\\\"text_representation\\\\\\\": \\\\\\\"\\\\\\\\n{\\\\\\\\n    \\\\\\\\\\\\\\\"location\\\\\\\\\\\\\\\": \\\\\\\\\\\\\\\"Hillsborough Townshi...\\\\\\\",\\\\n  \\\\\\\"binary_representation\\\\\\\": null,\\\\n  \\\\\\\"children\\\\\\\": [],\\\\n  \\\\\\\"embedding\\\\\\\": null,\\\\n  \\\\\\\"shingles\\\\\\\": null,\\\\n  \\\\\\\"parent_id\\\\\\\": null,\\\\n  \\\\\\\"bbox\\\\\\\": \\\\\\\"BoundingBox(0.09249577241785387, 0.21012714732776988, 0.8428900505514706, 0.3545450383966619)\\\\\\\",\\\\n  \\\\\\\"properties\\\\\\\": {\\\\n    \\\\\\\"score\\\\\\\": 0.5843388438224792,\\\\n    \\\\\\\"title\\\\\\\": null,\\\\n    \\\\\\\"columns\\\\\\\": null,\\\\n    \\\\\\\"rows\\\\\\\": null,\\\\n    \\\\\\\"page_number\\\\\\\": 1\\\\n  }\\\\n}\\\"\\n  ],\\n  \\\"embedding\\\": null,\\n  \\\"shingles\\\": null,\\n  \\\"parent_id\\\": null,\\n  \\\"bbox\\\": \\\"BoundingBox(0.2331671142578125, 0.14207905162464488, 0.7698866900275735, 0.17329323508522726)\\\",\\n  \\\"properties\\\": {\\n    \\\"score\\\": 0.5259662866592407,\\n    \\\"page_number\\\": 1\\n  }\\n}\",\n",
      "    \"{\\n  \\\"doc_id\\\": \\\"3beff522-9474-4ff3-bc14-2020ed6ad8b6\\\",\\n  \\\"lineage_id\\\": \\\"45b9198c-7fc6-4802-8049-d44123231743\\\",\\n  \\\"type\\\": \\\"Section-header\\\",\\n  \\\"text_representation\\\": \\\"Analysis\\\\n...\\\",\\n  \\\"binary_representation\\\": null,\\n  \\\"children\\\": [\\n    \\\"{\\\\n  \\\\\\\"doc_id\\\\\\\": \\\\\\\"65783033-8dcd-4551-a2f4-3fbd893ad0d3\\\\\\\",\\\\n  \\\\\\\"lineage_id\\\\\\\": \\\\\\\"3f4d6f95-30bd-4549-a92a-bb38f6413d96\\\\\\\",\\\\n  \\\\\\\"type\\\\\\\": \\\\\\\"Text\\\\\\\",\\\\n  \\\\\\\"text_representation\\\\\\\": \\\\\\\"The pilot reported that the first leg of...\\\\\\\",\\\\n  \\\\\\\"binary_representation\\\\\\\": null,\\\\n  \\\\\\\"children\\\\\\\": [],\\\\n  \\\\\\\"embedding\\\\\\\": null,\\\\n  \\\\\\\"shingles\\\\\\\": null,\\\\n  \\\\\\\"parent_id\\\\\\\": null,\\\\n  \\\\\\\"bbox\\\\\\\": \\\\\\\"BoundingBox(0.08884015251608456, 0.44776899857954544, 0.9156792135799632, 0.6233830122514205)\\\\\\\",\\\\n  \\\\\\\"properties\\\\\\\": {\\\\n    \\\\\\\"score\\\\\\\": 0.928635835647583,\\\\n    \\\\\\\"page_number\\\\\\\": 1\\\\n  }\\\\n}\\\",\\n    \\\"{\\\\n  \\\\\\\"doc_id\\\\\\\": \\\\\\\"6b1d0913-32ac-4ad2-831e-fd83ad6d9863\\\\\\\",\\\\n  \\\\\\\"lineage_id\\\\\\\": \\\\\\\"b03ed4db-9368-4e66-bf08-356eaa1131d4\\\\\\\",\\\\n  \\\\\\\"type\\\\\\\": \\\\\\\"Text\\\\\\\",\\\\n  \\\\\\\"text_representation\\\\\\\": \\\\\\\"Postaccident examination of engine found...\\\\\\\",\\\\n  \\\\\\\"binary_representation\\\\\\\": null,\\\\n  \\\\\\\"children\\\\\\\": [],\\\\n  \\\\\\\"embedding\\\\\\\": null,\\\\n  \\\\\\\"shingles\\\\\\\": null,\\\\n  \\\\\\\"parent_id\\\\\\\": null,\\\\n  \\\\\\\"bbox\\\\\\\": \\\\\\\"BoundingBox(0.08833346198586857, 0.6347908713600853, 0.9139138614430147, 0.7511947354403409)\\\\\\\",\\\\n  \\\\\\\"properties\\\\\\\": {\\\\n    \\\\\\\"score\\\\\\\": 0.9125781059265137,\\\\n    \\\\\\\"page_number\\\\\\\": 1\\\\n  }\\\\n}\\\",\\n    \\\"{\\\\n  \\\\\\\"doc_id\\\\\\\": \\\\\\\"67fecb15-b021-4361-9ce6-3b60730d093b\\\\\\\",\\\\n  \\\\\\\"lineage_id\\\\\\\": \\\\\\\"b9f07143-a6bb-4a3f-ab53-7e9ea41236ec\\\\\\\",\\\\n  \\\\\\\"type\\\\\\\": \\\\\\\"Text\\\\\\\",\\\\n  \\\\\\\"text_representation\\\\\\\": \\\\\\\"The airplane had undergone maintenance a...\\\\\\\",\\\\n  \\\\\\\"binary_representation\\\\\\\": null,\\\\n  \\\\\\\"children\\\\\\\": [],\\\\n  \\\\\\\"embedding\\\\\\\": null,\\\\n  \\\\\\\"shingles\\\\\\\": null,\\\\n  \\\\\\\"parent_id\\\\\\\": null,\\\\n  \\\\\\\"bbox\\\\\\\": \\\\\\\"BoundingBox(0.08801278507008273, 0.7622698419744318, 0.9151477768841911, 0.879027266068892)\\\\\\\",\\\\n  \\\\\\\"properties\\\\\\\": {\\\\n    \\\\\\\"score\\\\\\\": 0.9124054312705994,\\\\n    \\\\\\\"page_number\\\\\\\": 1\\\\n  }\\\\n}\\\",\\n    \\\"{\\\\n  \\\\\\\"doc_id\\\\\\\": \\\\\\\"dc4048f5-c5dc-47fe-ab0d-010ca9c29d3a\\\\\\\",\\\\n  \\\\\\\"lineage_id\\\\\\\": \\\\\\\"56e185b6-9424-4b3d-ad53-c5079c4535fa\\\\\\\",\\\\n  \\\\\\\"type\\\\\\\": \\\\\\\"Page-footer\\\\\\\",\\\\n  \\\\\\\"text_representation\\\\\\\": \\\\\\\"Page 1 of 8\\\\\\\\n...\\\\\\\",\\\\n  \\\\\\\"binary_representation\\\\\\\": null,\\\\n  \\\\\\\"children\\\\\\\": [],\\\\n  \\\\\\\"embedding\\\\\\\": null,\\\\n  \\\\\\\"shingles\\\\\\\": null,\\\\n  \\\\\\\"parent_id\\\\\\\": null,\\\\n  \\\\\\\"bbox\\\\\\\": \\\\\\\"BoundingBox(0.08839236091164981, 0.9482826926491478, 0.1717654598460478, 0.9620871803977272)\\\\\\\",\\\\n  \\\\\\\"properties\\\\\\\": {\\\\n    \\\\\\\"score\\\\\\\": 0.8889307975769043,\\\\n    \\\\\\\"page_number\\\\\\\": 1\\\\n  }\\\\n}\\\"\\n  ],\\n  \\\"embedding\\\": null,\\n  \\\"shingles\\\": null,\\n  \\\"parent_id\\\": null,\\n  \\\"bbox\\\": \\\"BoundingBox(0.08853857601390165, 0.39241138805042614, 0.18375434426700368, 0.4155523404208097)\\\",\\n  \\\"properties\\\": {\\n    \\\"score\\\": 0.8909091353416443,\\n    \\\"page_number\\\": 1\\n  }\\n}\",\n",
      "    \"{\\n  \\\"doc_id\\\": \\\"7c586a1d-505a-4e30-a114-75224c67d286\\\",\\n  \\\"lineage_id\\\": \\\"bc13c015-c261-4385-9412-678fe9091bdf\\\",\\n  \\\"type\\\": \\\"Section-header\\\",\\n  \\\"text_representation\\\": \\\"Probable Cause and Findings\\\\n...\\\",\\n  \\\"binary_representation\\\": null,\\n  \\\"children\\\": [\\n    \\\"{\\\\n  \\\\\\\"doc_id\\\\\\\": \\\\\\\"22f3b7d4-81d2-47b1-9068-3f5d9f9290d8\\\\\\\",\\\\n  \\\\\\\"lineage_id\\\\\\\": \\\\\\\"b0848782-50e8-41d3-9d3b-a131e911485c\\\\\\\",\\\\n  \\\\\\\"type\\\\\\\": \\\\\\\"Text\\\\\\\",\\\\n  \\\\\\\"text_representation\\\\\\\": \\\\\\\"The National Transportation Safety Board...\\\\\\\",\\\\n  \\\\\\\"binary_representation\\\\\\\": null,\\\\n  \\\\\\\"children\\\\\\\": [],\\\\n  \\\\\\\"embedding\\\\\\\": null,\\\\n  \\\\\\\"shingles\\\\\\\": null,\\\\n  \\\\\\\"parent_id\\\\\\\": null,\\\\n  \\\\\\\"bbox\\\\\\\": \\\\\\\"BoundingBox(0.08900883394129136, 0.1699690662730824, 0.9128560862821691, 0.18759841918945314)\\\\\\\",\\\\n  \\\\\\\"properties\\\\\\\": {\\\\n    \\\\\\\"score\\\\\\\": 0.6857958436012268,\\\\n    \\\\\\\"page_number\\\\\\\": 2\\\\n  }\\\\n}\\\",\\n    \\\"{\\\\n  \\\\\\\"doc_id\\\\\\\": \\\\\\\"8ee2ef69-076d-410c-aa5e-2d1f8ceb1694\\\\\\\",\\\\n  \\\\\\\"lineage_id\\\\\\\": \\\\\\\"1c950e8e-316c-4716-aef5-de668eda67d5\\\\\\\",\\\\n  \\\\\\\"type\\\\\\\": \\\\\\\"Text\\\\\\\",\\\\n  \\\\\\\"text_representation\\\\\\\": \\\\\\\"The partial loss of engine power due to ...\\\\\\\",\\\\n  \\\\\\\"binary_representation\\\\\\\": null,\\\\n  \\\\\\\"children\\\\\\\": [],\\\\n  \\\\\\\"embedding\\\\\\\": null,\\\\n  \\\\\\\"shingles\\\\\\\": null,\\\\n  \\\\\\\"parent_id\\\\\\\": null,\\\\n  \\\\\\\"bbox\\\\\\\": \\\\\\\"BoundingBox(0.0877339262120864, 0.21395556363192472, 0.898866397633272, 0.29056746049360793)\\\\\\\",\\\\n  \\\\\\\"properties\\\\\\\": {\\\\n    \\\\\\\"score\\\\\\\": 0.8943065404891968,\\\\n    \\\\\\\"page_number\\\\\\\": 2\\\\n  }\\\\n}\\\"\\n  ],\\n  \\\"embedding\\\": null,\\n  \\\"shingles\\\": null,\\n  \\\"parent_id\\\": null,\\n  \\\"bbox\\\": \\\"BoundingBox(0.08792682423311121, 0.13130135276100852, 0.4117935719209559, 0.1545484785600142)\\\",\\n  \\\"properties\\\": {\\n    \\\"score\\\": 0.8430342674255371,\\n    \\\"page_number\\\": 2\\n  }\\n}\",\n",
      "    \"{\\n  \\\"doc_id\\\": \\\"25a52284-99dd-46c1-bb83-5b58b364d184\\\",\\n  \\\"lineage_id\\\": \\\"16f77c75-38fb-4c44-b728-10af8f08cf6a\\\",\\n  \\\"type\\\": \\\"Section-header\\\",\\n  \\\"text_representation\\\": \\\"Findings\\\\n...\\\",\\n  \\\"binary_representation\\\": null,\\n  \\\"children\\\": [\\n    \\\"{\\\\n  \\\\\\\"doc_id\\\\\\\": \\\\\\\"9577603c-8acf-4f25-a882-6dadfb6b01bf\\\\\\\",\\\\n  \\\\\\\"lineage_id\\\\\\\": \\\\\\\"78e98668-bd24-480d-9799-248ff2856c96\\\\\\\",\\\\n  \\\\\\\"type\\\\\\\": \\\\\\\"table\\\\\\\",\\\\n  \\\\\\\"text_representation\\\\\\\": \\\\\\\"{\\\\\\\\n    \\\\\\\\\\\\\\\"personnelIssues\\\\\\\\\\\\\\\": [\\\\\\\\n        \\\\\\\\\\\\\\\"Post...\\\\\\\",\\\\n  \\\\\\\"binary_representation\\\\\\\": null,\\\\n  \\\\\\\"children\\\\\\\": [],\\\\n  \\\\\\\"embedding\\\\\\\": null,\\\\n  \\\\\\\"shingles\\\\\\\": null,\\\\n  \\\\\\\"parent_id\\\\\\\": null,\\\\n  \\\\\\\"bbox\\\\\\\": \\\\\\\"BoundingBox(0.09201205085305607, 0.38783952192826704, 0.9149195053998161, 0.5018397105823864)\\\\\\\",\\\\n  \\\\\\\"properties\\\\\\\": {\\\\n    \\\\\\\"score\\\\\\\": 0.5389849543571472,\\\\n    \\\\\\\"title\\\\\\\": null,\\\\n    \\\\\\\"columns\\\\\\\": null,\\\\n    \\\\\\\"rows\\\\\\\": null,\\\\n    \\\\\\\"page_number\\\\\\\": 2\\\\n  }\\\\n}\\\",\\n    \\\"{\\\\n  \\\\\\\"doc_id\\\\\\\": \\\\\\\"0c9bd6fa-6e53-422b-a40c-8ec02a023b3b\\\\\\\",\\\\n  \\\\\\\"lineage_id\\\\\\\": \\\\\\\"0eed9f96-aba2-4a8f-812c-b8271b099740\\\\\\\",\\\\n  \\\\\\\"type\\\\\\\": \\\\\\\"Page-footer\\\\\\\",\\\\n  \\\\\\\"text_representation\\\\\\\": \\\\\\\"Page 2 of 8\\\\\\\\n...\\\\\\\",\\\\n  \\\\\\\"binary_representation\\\\\\\": null,\\\\n  \\\\\\\"children\\\\\\\": [],\\\\n  \\\\\\\"embedding\\\\\\\": null,\\\\n  \\\\\\\"shingles\\\\\\\": null,\\\\n  \\\\\\\"parent_id\\\\\\\": null,\\\\n  \\\\\\\"bbox\\\\\\\": \\\\\\\"BoundingBox(0.08782196942497703, 0.9501845481178978, 0.17185878978056066, 0.9633591530539772)\\\\\\\",\\\\n  \\\\\\\"properties\\\\\\\": {\\\\n    \\\\\\\"score\\\\\\\": 0.8892329931259155,\\\\n    \\\\\\\"page_number\\\\\\\": 2\\\\n  }\\\\n}\\\",\\n    \\\"{\\\\n  \\\\\\\"doc_id\\\\\\\": \\\\\\\"c3d4d8a8-00f6-49a7-8d5d-e441013ca957\\\\\\\",\\\\n  \\\\\\\"lineage_id\\\\\\\": \\\\\\\"71597488-4a5a-420b-9e43-22bdf0ab0d96\\\\\\\",\\\\n  \\\\\\\"type\\\\\\\": \\\\\\\"Page-footer\\\\\\\",\\\\n  \\\\\\\"text_representation\\\\\\\": \\\\\\\"ERA23LA225\\\\\\\\n...\\\\\\\",\\\\n  \\\\\\\"binary_representation\\\\\\\": null,\\\\n  \\\\\\\"children\\\\\\\": [],\\\\n  \\\\\\\"embedding\\\\\\\": null,\\\\n  \\\\\\\"shingles\\\\\\\": null,\\\\n  \\\\\\\"parent_id\\\\\\\": null,\\\\n  \\\\\\\"bbox\\\\\\\": \\\\\\\"BoundingBox(0.8151703239889706, 0.9506524103338068, 0.9130124080882352, 0.9635270552201705)\\\\\\\",\\\\n  \\\\\\\"properties\\\\\\\": {\\\\n    \\\\\\\"score\\\\\\\": 0.8884193897247314,\\\\n    \\\\\\\"page_number\\\\\\\": 2\\\\n  }\\\\n}\\\"\\n  ],\\n  \\\"embedding\\\": null,\\n  \\\"shingles\\\": null,\\n  \\\"parent_id\\\": null,\\n  \\\"bbox\\\": \\\"BoundingBox(0.09611741907456342, 0.36665821422230116, 0.17422681023092831, 0.3850760997425426)\\\",\\n  \\\"properties\\\": {\\n    \\\"score\\\": 0.6317196488380432,\\n    \\\"page_number\\\": 2\\n  }\\n}\",\n",
      "    \"{\\n  \\\"doc_id\\\": \\\"091c1b65-eb4b-45db-a833-223c278fb2d5\\\",\\n  \\\"lineage_id\\\": \\\"99cb2ba7-9743-4fad-8d19-555c3c338e51\\\",\\n  \\\"type\\\": \\\"Section-header\\\",\\n  \\\"text_representation\\\": \\\"Factual Information\\\\n...\\\",\\n  \\\"binary_representation\\\": null,\\n  \\\"children\\\": [],\\n  \\\"embedding\\\": null,\\n  \\\"shingles\\\": null,\\n  \\\"parent_id\\\": null,\\n  \\\"bbox\\\": \\\"BoundingBox(0.08871812708237592, 0.09139314131303267, 0.30632062126608456, 0.11336237127130681)\\\",\\n  \\\"properties\\\": {\\n    \\\"score\\\": 0.5573962926864624,\\n    \\\"page_number\\\": 3\\n  }\\n}\",\n",
      "    \"{\\n  \\\"doc_id\\\": \\\"947af6e4-9c57-499f-b465-ec5ffab64a36\\\",\\n  \\\"lineage_id\\\": \\\"e728107f-4769-4339-9dfc-f6b6c7e1f17f\\\",\\n  \\\"type\\\": \\\"Section-header\\\",\\n  \\\"text_representation\\\": \\\"History of Flight\\\\n...\\\",\\n  \\\"binary_representation\\\": null,\\n  \\\"children\\\": [\\n    \\\"{\\\\n  \\\\\\\"doc_id\\\\\\\": \\\\\\\"0d001e10-a043-480d-b512-142ef216a363\\\\\\\",\\\\n  \\\\\\\"lineage_id\\\\\\\": \\\\\\\"b06fae41-38b3-45fd-92b2-fe3c9867d797\\\\\\\",\\\\n  \\\\\\\"type\\\\\\\": \\\\\\\"table\\\\\\\",\\\\n  \\\\\\\"text_representation\\\\\\\": \\\\\\\"{\\\\\\\\n    \\\\\\\\\\\\\\\"priorToFlight\\\\\\\\\\\\\\\": \\\\\\\\\\\\\\\"Aircraft mainten...\\\\\\\",\\\\n  \\\\\\\"binary_representation\\\\\\\": null,\\\\n  \\\\\\\"children\\\\\\\": [],\\\\n  \\\\\\\"embedding\\\\\\\": null,\\\\n  \\\\\\\"shingles\\\\\\\": null,\\\\n  \\\\\\\"parent_id\\\\\\\": null,\\\\n  \\\\\\\"bbox\\\\\\\": \\\\\\\"BoundingBox(0.09104106229894302, 0.16109344482421875, 0.9141943359375, 0.2674838534268466)\\\\\\\",\\\\n  \\\\\\\"properties\\\\\\\": {\\\\n    \\\\\\\"score\\\\\\\": 0.5187869071960449,\\\\n    \\\\\\\"title\\\\\\\": null,\\\\n    \\\\\\\"columns\\\\\\\": null,\\\\n    \\\\\\\"rows\\\\\\\": null,\\\\n    \\\\\\\"page_number\\\\\\\": 3\\\\n  }\\\\n}\\\",\\n    \\\"{\\\\n  \\\\\\\"doc_id\\\\\\\": \\\\\\\"30ba31c0-51ab-4de0-a92e-f304f06d6165\\\\\\\",\\\\n  \\\\\\\"lineage_id\\\\\\\": \\\\\\\"4ba73524-d1fe-4071-b888-e8a8f3db6cf0\\\\\\\",\\\\n  \\\\\\\"type\\\\\\\": \\\\\\\"Text\\\\\\\",\\\\n  \\\\\\\"text_representation\\\\\\\": \\\\\\\"On May 6, 2023, about 1255 eastern dayli...\\\\\\\",\\\\n  \\\\\\\"binary_representation\\\\\\\": null,\\\\n  \\\\\\\"children\\\\\\\": [],\\\\n  \\\\\\\"embedding\\\\\\\": null,\\\\n  \\\\\\\"shingles\\\\\\\": null,\\\\n  \\\\\\\"parent_id\\\\\\\": null,\\\\n  \\\\\\\"bbox\\\\\\\": \\\\\\\"BoundingBox(0.08829308004940258, 0.32358281915838066, 0.8780443617876839, 0.39967404452237215)\\\\\\\",\\\\n  \\\\\\\"properties\\\\\\\": {\\\\n    \\\\\\\"score\\\\\\\": 0.8882012963294983,\\\\n    \\\\\\\"page_number\\\\\\\": 3\\\\n  }\\\\n}\\\",\\n    \\\"{\\\\n  \\\\\\\"doc_id\\\\\\\": \\\\\\\"4f2edc10-9cdc-480a-89f1-bc13626ad4cc\\\\\\\",\\\\n  \\\\\\\"lineage_id\\\\\\\": \\\\\\\"f4c2493d-bdcf-4175-b4cf-8e5e583ffee4\\\\\\\",\\\\n  \\\\\\\"type\\\\\\\": \\\\\\\"Text\\\\\\\",\\\\n  \\\\\\\"text_representation\\\\\\\": \\\\\\\"The pilot reported that he departed Broo...\\\\\\\",\\\\n  \\\\\\\"binary_representation\\\\\\\": null,\\\\n  \\\\\\\"children\\\\\\\": [],\\\\n  \\\\\\\"embedding\\\\\\\": null,\\\\n  \\\\\\\"shingles\\\\\\\": null,\\\\n  \\\\\\\"parent_id\\\\\\\": null,\\\\n  \\\\\\\"bbox\\\\\\\": \\\\\\\"BoundingBox(0.08823469274184283, 0.41160858154296875, 0.9131189682904411, 0.4883255282315341)\\\\\\\",\\\\n  \\\\\\\"properties\\\\\\\": {\\\\n    \\\\\\\"score\\\\\\\": 0.9138508439064026,\\\\n    \\\\\\\"page_number\\\\\\\": 3\\\\n  }\\\\n}\\\",\\n    \\\"{\\\\n  \\\\\\\"doc_id\\\\\\\": \\\\\\\"3af39500-32c3-45d5-927d-58411daf986f\\\\\\\",\\\\n  \\\\\\\"lineage_id\\\\\\\": \\\\\\\"ff0fd24f-db24-46ab-a02a-c9429946182a\\\\\\\",\\\\n  \\\\\\\"type\\\\\\\": \\\\\\\"Text\\\\\\\",\\\\n  \\\\\\\"text_representation\\\\\\\": \\\\\\\"The pilot reported that after adding abo...\\\\\\\",\\\\n  \\\\\\\"binary_representation\\\\\\\": null,\\\\n  \\\\\\\"children\\\\\\\": [],\\\\n  \\\\\\\"embedding\\\\\\\": null,\\\\n  \\\\\\\"shingles\\\\\\\": null,\\\\n  \\\\\\\"parent_id\\\\\\\": null,\\\\n  \\\\\\\"bbox\\\\\\\": \\\\\\\"BoundingBox(0.08844962624942555, 0.49999750310724433, 0.9167762666590074, 0.6557658802379261)\\\\\\\",\\\\n  \\\\\\\"properties\\\\\\\": {\\\\n    \\\\\\\"score\\\\\\\": 0.9208568334579468,\\\\n    \\\\\\\"page_number\\\\\\\": 3\\\\n  }\\\\n}\\\",\\n    \\\"{\\\\n  \\\\\\\"doc_id\\\\\\\": \\\\\\\"19cb19a7-2ee1-4332-9cb7-56e1bf991cf5\\\\\\\",\\\\n  \\\\\\\"lineage_id\\\\\\\": \\\\\\\"d7454dc7-7c1c-482e-86bd-cbf8a70beb76\\\\\\\",\\\\n  \\\\\\\"type\\\\\\\": \\\\\\\"Text\\\\\\\",\\\\n  \\\\\\\"text_representation\\\\\\\": \\\\\\\"Airport surveillance video captured the ...\\\\\\\",\\\\n  \\\\\\\"binary_representation\\\\\\\": null,\\\\n  \\\\\\\"children\\\\\\\": [],\\\\n  \\\\\\\"embedding\\\\\\\": null,\\\\n  \\\\\\\"shingles\\\\\\\": null,\\\\n  \\\\\\\"parent_id\\\\\\\": null,\\\\n  \\\\\\\"bbox\\\\\\\": \\\\\\\"BoundingBox(0.08837199491613051, 0.6678764759410512, 0.914563778147978, 0.7836977317116477)\\\\\\\",\\\\n  \\\\\\\"properties\\\\\\\": {\\\\n    \\\\\\\"score\\\\\\\": 0.9182138442993164,\\\\n    \\\\\\\"page_number\\\\\\\": 3\\\\n  }\\\\n}\\\",\\n    \\\"{\\\\n  \\\\\\\"doc_id\\\\\\\": \\\\\\\"1ca59000-cb08-4480-b934-70c6d6cf69f1\\\\\\\",\\\\n  \\\\\\\"lineage_id\\\\\\\": \\\\\\\"221c7757-2960-45e5-b880-88e86ab6adbf\\\\\\\",\\\\n  \\\\\\\"type\\\\\\\": \\\\\\\"Text\\\\\\\",\\\\n  \\\\\\\"text_representation\\\\\\\": \\\\\\\"Examination of the airplane revealed sub...\\\\\\\",\\\\n  \\\\\\\"binary_representation\\\\\\\": null,\\\\n  \\\\\\\"children\\\\\\\": [],\\\\n  \\\\\\\"embedding\\\\\\\": null,\\\\n  \\\\\\\"shingles\\\\\\\": null,\\\\n  \\\\\\\"parent_id\\\\\\\": null,\\\\n  \\\\\\\"bbox\\\\\\\": \\\\\\\"BoundingBox(0.08824577780330882, 0.7957966197620738, 0.9017107795266545, 0.8925451105291193)\\\\\\\",\\\\n  \\\\\\\"properties\\\\\\\": {\\\\n    \\\\\\\"score\\\\\\\": 0.9113240838050842,\\\\n    \\\\\\\"page_number\\\\\\\": 3\\\\n  }\\\\n}\\\",\\n    \\\"{\\\\n  \\\\\\\"doc_id\\\\\\\": \\\\\\\"921db1bf-c144-42fc-8003-3a087c340fc3\\\\\\\",\\\\n  \\\\\\\"lineage_id\\\\\\\": \\\\\\\"cad17067-5cc4-4dad-9597-7897387cc6ad\\\\\\\",\\\\n  \\\\\\\"type\\\\\\\": \\\\\\\"Page-footer\\\\\\\",\\\\n  \\\\\\\"text_representation\\\\\\\": \\\\\\\"Page 3 of 8\\\\\\\\n...\\\\\\\",\\\\n  \\\\\\\"binary_representation\\\\\\\": null,\\\\n  \\\\\\\"children\\\\\\\": [],\\\\n  \\\\\\\"embedding\\\\\\\": null,\\\\n  \\\\\\\"shingles\\\\\\\": null,\\\\n  \\\\\\\"parent_id\\\\\\\": null,\\\\n  \\\\\\\"bbox\\\\\\\": \\\\\\\"BoundingBox(0.08841921638039982, 0.9499715909090909, 0.17139939252068015, 0.9637248091264204)\\\\\\\",\\\\n  \\\\\\\"properties\\\\\\\": {\\\\n    \\\\\\\"score\\\\\\\": 0.8893985748291016,\\\\n    \\\\\\\"page_number\\\\\\\": 3\\\\n  }\\\\n}\\\",\\n    \\\"{\\\\n  \\\\\\\"doc_id\\\\\\\": \\\\\\\"d02e4337-bfa8-4746-b03e-afd4a4191f72\\\\\\\",\\\\n  \\\\\\\"lineage_id\\\\\\\": \\\\\\\"f954d84e-a68c-47d5-88ee-113b1ebdcd99\\\\\\\",\\\\n  \\\\\\\"type\\\\\\\": \\\\\\\"Page-footer\\\\\\\",\\\\n  \\\\\\\"text_representation\\\\\\\": \\\\\\\"ERA23LA225\\\\\\\\n...\\\\\\\",\\\\n  \\\\\\\"binary_representation\\\\\\\": null,\\\\n  \\\\\\\"children\\\\\\\": [],\\\\n  \\\\\\\"embedding\\\\\\\": null,\\\\n  \\\\\\\"shingles\\\\\\\": null,\\\\n  \\\\\\\"parent_id\\\\\\\": null,\\\\n  \\\\\\\"bbox\\\\\\\": \\\\\\\"BoundingBox(0.8153425149356618, 0.95007568359375, 0.9137869801240809, 0.9634217418323864)\\\\\\\",\\\\n  \\\\\\\"properties\\\\\\\": {\\\\n    \\\\\\\"score\\\\\\\": 0.8910474181175232,\\\\n    \\\\\\\"page_number\\\\\\\": 3\\\\n  }\\\\n}\\\",\\n    \\\"{\\\\n  \\\\\\\"doc_id\\\\\\\": \\\\\\\"f864f2aa-f89d-4c26-8c63-b31aea4918e3\\\\\\\",\\\\n  \\\\\\\"lineage_id\\\\\\\": \\\\\\\"7280a04e-a927-4375-b5ce-9972f8237c56\\\\\\\",\\\\n  \\\\\\\"type\\\\\\\": \\\\\\\"Text\\\\\\\",\\\\n  \\\\\\\"text_representation\\\\\\\": \\\\\\\"The Nos. 1 and 5 cylinder top spark plug...\\\\\\\",\\\\n  \\\\\\\"binary_representation\\\\\\\": null,\\\\n  \\\\\\\"children\\\\\\\": [],\\\\n  \\\\\\\"embedding\\\\\\\": null,\\\\n  \\\\\\\"shingles\\\\\\\": null,\\\\n  \\\\\\\"parent_id\\\\\\\": null,\\\\n  \\\\\\\"bbox\\\\\\\": \\\\\\\"BoundingBox(0.08764517391429227, 0.09071450666947799, 0.9014621151194853, 0.18729395086115055)\\\\\\\",\\\\n  \\\\\\\"properties\\\\\\\": {\\\\n    \\\\\\\"score\\\\\\\": 0.9163799285888672,\\\\n    \\\\\\\"page_number\\\\\\\": 4\\\\n  }\\\\n}\\\",\\n    \\\"{\\\\n  \\\\\\\"doc_id\\\\\\\": \\\\\\\"38efc051-c10a-469a-a47b-ac7712d31e11\\\\\\\",\\\\n  \\\\\\\"lineage_id\\\\\\\": \\\\\\\"4cb8ae66-11bc-4d05-a852-bd17d7d48d6d\\\\\\\",\\\\n  \\\\\\\"type\\\\\\\": \\\\\\\"Image\\\\\\\",\\\\n  \\\\\\\"text_representation\\\\\\\": null,\\\\n  \\\\\\\"binary_representation\\\\\\\": \\\\\\\"<4102494 bytes>\\\\\\\",\\\\n  \\\\\\\"children\\\\\\\": [],\\\\n  \\\\\\\"embedding\\\\\\\": null,\\\\n  \\\\\\\"shingles\\\\\\\": null,\\\\n  \\\\\\\"parent_id\\\\\\\": null,\\\\n  \\\\\\\"bbox\\\\\\\": \\\\\\\"BoundingBox(0.11103362139533547, 0.1989322315562855, 0.8887162511488971, 0.6530680153586648)\\\\\\\",\\\\n  \\\\\\\"properties\\\\\\\": {\\\\n    \\\\\\\"score\\\\\\\": 0.8956394791603088,\\\\n    \\\\\\\"image_size\\\\\\\": [\\\\n      1342,\\\\n      1019\\\\n    ],\\\\n    \\\\\\\"image_mode\\\\\\\": \\\\\\\"RGB\\\\\\\",\\\\n    \\\\\\\"image_format\\\\\\\": null,\\\\n    \\\\\\\"page_number\\\\\\\": 4\\\\n  }\\\\n}\\\",\\n    \\\"{\\\\n  \\\\\\\"doc_id\\\\\\\": \\\\\\\"b0d62337-83cc-4394-a014-3beaa25ce809\\\\\\\",\\\\n  \\\\\\\"lineage_id\\\\\\\": \\\\\\\"821b3039-40d1-4aab-b074-dd17e347f7bf\\\\\\\",\\\\n  \\\\\\\"type\\\\\\\": \\\\\\\"Text\\\\\\\",\\\\n  \\\\\\\"text_representation\\\\\\\": \\\\\\\"Figure 1: View of the Nos. 1, 3, and 5 c...\\\\\\\",\\\\n  \\\\\\\"binary_representation\\\\\\\": null,\\\\n  \\\\\\\"children\\\\\\\": [],\\\\n  \\\\\\\"embedding\\\\\\\": null,\\\\n  \\\\\\\"shingles\\\\\\\": null,\\\\n  \\\\\\\"parent_id\\\\\\\": null,\\\\n  \\\\\\\"bbox\\\\\\\": \\\\\\\"BoundingBox(0.09208694458007813, 0.6629761297052557, 0.9075877470128676, 0.7084343372691762)\\\\\\\",\\\\n  \\\\\\\"properties\\\\\\\": {\\\\n    \\\\\\\"score\\\\\\\": 0.578454315662384,\\\\n    \\\\\\\"page_number\\\\\\\": 4\\\\n  }\\\\n}\\\",\\n    \\\"{\\\\n  \\\\\\\"doc_id\\\\\\\": \\\\\\\"db493bb0-2a5d-4951-85ca-2b1df773e7f8\\\\\\\",\\\\n  \\\\\\\"lineage_id\\\\\\\": \\\\\\\"281d13df-8750-4d53-9a49-f439521cf44e\\\\\\\",\\\\n  \\\\\\\"type\\\\\\\": \\\\\\\"Text\\\\\\\",\\\\n  \\\\\\\"text_representation\\\\\\\": \\\\\\\"The Nos. 2, 4, and 6 cylinder ignition h...\\\\\\\",\\\\n  \\\\\\\"binary_representation\\\\\\\": null,\\\\n  \\\\\\\"children\\\\\\\": [],\\\\n  \\\\\\\"embedding\\\\\\\": null,\\\\n  \\\\\\\"shingles\\\\\\\": null,\\\\n  \\\\\\\"parent_id\\\\\\\": null,\\\\n  \\\\\\\"bbox\\\\\\\": \\\\\\\"BoundingBox(0.08765485875746783, 0.7215783136541193, 0.903384578929228, 0.7780802778764204)\\\\\\\",\\\\n  \\\\\\\"properties\\\\\\\": {\\\\n    \\\\\\\"score\\\\\\\": 0.9134508967399597,\\\\n    \\\\\\\"page_number\\\\\\\": 4\\\\n  }\\\\n}\\\",\\n    \\\"{\\\\n  \\\\\\\"doc_id\\\\\\\": \\\\\\\"ddc1c1aa-5983-44bc-81d1-ac0d1af719b8\\\\\\\",\\\\n  \\\\\\\"lineage_id\\\\\\\": \\\\\\\"ae35dc06-365d-446f-9190-17e6400a4a63\\\\\\\",\\\\n  \\\\\\\"type\\\\\\\": \\\\\\\"Text\\\\\\\",\\\\n  \\\\\\\"text_representation\\\\\\\": \\\\\\\"The crankshaft was rotated by hand. Thum...\\\\\\\",\\\\n  \\\\\\\"binary_representation\\\\\\\": null,\\\\n  \\\\\\\"children\\\\\\\": [],\\\\n  \\\\\\\"embedding\\\\\\\": null,\\\\n  \\\\\\\"shingles\\\\\\\": null,\\\\n  \\\\\\\"parent_id\\\\\\\": null,\\\\n  \\\\\\\"bbox\\\\\\\": \\\\\\\"BoundingBox(0.08757859173943015, 0.7910812655362216, 0.8988944738051471, 0.88693603515625)\\\\\\\",\\\\n  \\\\\\\"properties\\\\\\\": {\\\\n    \\\\\\\"score\\\\\\\": 0.8947044014930725,\\\\n    \\\\\\\"page_number\\\\\\\": 4\\\\n  }\\\\n}\\\",\\n    \\\"{\\\\n  \\\\\\\"doc_id\\\\\\\": \\\\\\\"685e9531-26a2-4a92-bdda-5b9dbd62cf60\\\\\\\",\\\\n  \\\\\\\"lineage_id\\\\\\\": \\\\\\\"19fdef7f-167c-408d-9843-b434d718c7fb\\\\\\\",\\\\n  \\\\\\\"type\\\\\\\": \\\\\\\"Page-footer\\\\\\\",\\\\n  \\\\\\\"text_representation\\\\\\\": \\\\\\\"Page 4 of 8\\\\\\\\n...\\\\\\\",\\\\n  \\\\\\\"binary_representation\\\\\\\": null,\\\\n  \\\\\\\"children\\\\\\\": [],\\\\n  \\\\\\\"embedding\\\\\\\": null,\\\\n  \\\\\\\"shingles\\\\\\\": null,\\\\n  \\\\\\\"parent_id\\\\\\\": null,\\\\n  \\\\\\\"bbox\\\\\\\": \\\\\\\"BoundingBox(0.08793926463407628, 0.9497709517045455, 0.17164864932789523, 0.963299893465909)\\\\\\\",\\\\n  \\\\\\\"properties\\\\\\\": {\\\\n    \\\\\\\"score\\\\\\\": 0.87557452917099,\\\\n    \\\\\\\"page_number\\\\\\\": 4\\\\n  }\\\\n}\\\",\\n    \\\"{\\\\n  \\\\\\\"doc_id\\\\\\\": \\\\\\\"c3d72b08-7fd8-4dea-a3a0-d5daf8e4b8b2\\\\\\\",\\\\n  \\\\\\\"lineage_id\\\\\\\": \\\\\\\"8c9b578c-42bf-4fef-96cc-cfdb142a2d1f\\\\\\\",\\\\n  \\\\\\\"type\\\\\\\": \\\\\\\"Page-footer\\\\\\\",\\\\n  \\\\\\\"text_representation\\\\\\\": \\\\\\\"ERA23LA225\\\\\\\\n...\\\\\\\",\\\\n  \\\\\\\"binary_representation\\\\\\\": null,\\\\n  \\\\\\\"children\\\\\\\": [],\\\\n  \\\\\\\"embedding\\\\\\\": null,\\\\n  \\\\\\\"shingles\\\\\\\": null,\\\\n  \\\\\\\"parent_id\\\\\\\": null,\\\\n  \\\\\\\"bbox\\\\\\\": \\\\\\\"BoundingBox(0.8149910960477941, 0.9498484108664773, 0.914434814453125, 0.9634438254616478)\\\\\\\",\\\\n  \\\\\\\"properties\\\\\\\": {\\\\n    \\\\\\\"score\\\\\\\": 0.8784664869308472,\\\\n    \\\\\\\"page_number\\\\\\\": 4\\\\n  }\\\\n}\\\",\\n    \\\"{\\\\n  \\\\\\\"doc_id\\\\\\\": \\\\\\\"5800ce52-3030-43ec-bcf1-e38fb7e9c7b9\\\\\\\",\\\\n  \\\\\\\"lineage_id\\\\\\\": \\\\\\\"6eb9e882-ab8b-48c8-b726-20840e63c1c6\\\\\\\",\\\\n  \\\\\\\"type\\\\\\\": \\\\\\\"Text\\\\\\\",\\\\n  \\\\\\\"text_representation\\\\\\\": \\\\\\\"The fuel manifold valve was intact and i...\\\\\\\",\\\\n  \\\\\\\"binary_representation\\\\\\\": null,\\\\n  \\\\\\\"children\\\\\\\": [],\\\\n  \\\\\\\"embedding\\\\\\\": null,\\\\n  \\\\\\\"shingles\\\\\\\": null,\\\\n  \\\\\\\"parent_id\\\\\\\": null,\\\\n  \\\\\\\"bbox\\\\\\\": \\\\\\\"BoundingBox(0.08878767125746784, 0.0907116074995561, 0.8999095243566176, 0.16773401433771307)\\\\\\\",\\\\n  \\\\\\\"properties\\\\\\\": {\\\\n    \\\\\\\"score\\\\\\\": 0.9266534447669983,\\\\n    \\\\\\\"page_number\\\\\\\": 5\\\\n  }\\\\n}\\\",\\n    \\\"{\\\\n  \\\\\\\"doc_id\\\\\\\": \\\\\\\"c2f5ec73-04be-40b1-bab5-10fefb79168c\\\\\\\",\\\\n  \\\\\\\"lineage_id\\\\\\\": \\\\\\\"a2f39656-b547-4441-a06a-48b1e28ef8b3\\\\\\\",\\\\n  \\\\\\\"type\\\\\\\": \\\\\\\"Text\\\\\\\",\\\\n  \\\\\\\"text_representation\\\\\\\": \\\\\\\"On April 16, 2023, a maintenance endorse...\\\\\\\",\\\\n  \\\\\\\"binary_representation\\\\\\\": null,\\\\n  \\\\\\\"children\\\\\\\": [],\\\\n  \\\\\\\"embedding\\\\\\\": null,\\\\n  \\\\\\\"shingles\\\\\\\": null,\\\\n  \\\\\\\"parent_id\\\\\\\": null,\\\\n  \\\\\\\"bbox\\\\\\\": \\\\\\\"BoundingBox(0.08859717873965993, 0.17969166148792615, 0.9141634593290441, 0.23618724476207387)\\\\\\\",\\\\n  \\\\\\\"properties\\\\\\\": {\\\\n    \\\\\\\"score\\\\\\\": 0.9230054616928101,\\\\n    \\\\\\\"page_number\\\\\\\": 5\\\\n  }\\\\n}\\\",\\n    \\\"{\\\\n  \\\\\\\"doc_id\\\\\\\": \\\\\\\"2814e49c-940e-49e9-b134-dab3a9433d3d\\\\\\\",\\\\n  \\\\\\\"lineage_id\\\\\\\": \\\\\\\"36a85c1d-aad4-4365-be55-e420e33a753d\\\\\\\",\\\\n  \\\\\\\"type\\\\\\\": \\\\\\\"Text\\\\\\\",\\\\n  \\\\\\\"text_representation\\\\\\\": \\\\\\\"The pilot reported that after the mainte...\\\\\\\",\\\\n  \\\\\\\"binary_representation\\\\\\\": null,\\\\n  \\\\\\\"children\\\\\\\": [],\\\\n  \\\\\\\"embedding\\\\\\\": null,\\\\n  \\\\\\\"shingles\\\\\\\": null,\\\\n  \\\\\\\"parent_id\\\\\\\": null,\\\\n  \\\\\\\"bbox\\\\\\\": \\\\\\\"BoundingBox(0.08809119729434743, 0.24867598100142047, 0.9127436379825368, 0.3250801780007102)\\\\\\\",\\\\n  \\\\\\\"properties\\\\\\\": {\\\\n    \\\\\\\"score\\\\\\\": 0.9309544563293457,\\\\n    \\\\\\\"page_number\\\\\\\": 5\\\\n  }\\\\n}\\\",\\n    \\\"{\\\\n  \\\\\\\"doc_id\\\\\\\": \\\\\\\"63e0640a-7884-436b-b865-cf064017b7b1\\\\\\\",\\\\n  \\\\\\\"lineage_id\\\\\\\": \\\\\\\"5c42bb32-009a-401c-b706-3b4c2c86a98e\\\\\\\",\\\\n  \\\\\\\"type\\\\\\\": \\\\\\\"Text\\\\\\\",\\\\n  \\\\\\\"text_representation\\\\\\\": \\\\\\\"The mechanic who performed the maintenan...\\\\\\\",\\\\n  \\\\\\\"binary_representation\\\\\\\": null,\\\\n  \\\\\\\"children\\\\\\\": [],\\\\n  \\\\\\\"embedding\\\\\\\": null,\\\\n  \\\\\\\"shingles\\\\\\\": null,\\\\n  \\\\\\\"parent_id\\\\\\\": null,\\\\n  \\\\\\\"bbox\\\\\\\": \\\\\\\"BoundingBox(0.088021338967716, 0.33692579789595173, 0.9061776912913603, 0.4732045676491477)\\\\\\\",\\\\n  \\\\\\\"properties\\\\\\\": {\\\\n    \\\\\\\"score\\\\\\\": 0.9357432723045349,\\\\n    \\\\\\\"page_number\\\\\\\": 5\\\\n  }\\\\n}\\\",\\n    \\\"{\\\\n  \\\\\\\"doc_id\\\\\\\": \\\\\\\"d2b73dd7-5b28-44a8-8892-b5f056cd6456\\\\\\\",\\\\n  \\\\\\\"lineage_id\\\\\\\": \\\\\\\"eb8f8d28-ac91-4b1c-93a0-9608e3da9e83\\\\\\\",\\\\n  \\\\\\\"type\\\\\\\": \\\\\\\"Text\\\\\\\",\\\\n  \\\\\\\"text_representation\\\\\\\": \\\\\\\"The mechanic reported that he did not re...\\\\\\\",\\\\n  \\\\\\\"binary_representation\\\\\\\": null,\\\\n  \\\\\\\"children\\\\\\\": [],\\\\n  \\\\\\\"embedding\\\\\\\": null,\\\\n  \\\\\\\"shingles\\\\\\\": null,\\\\n  \\\\\\\"parent_id\\\\\\\": null,\\\\n  \\\\\\\"bbox\\\\\\\": \\\\\\\"BoundingBox(0.08811983893899357, 0.4844742653586648, 0.9089746811810662, 0.5421310147372159)\\\\\\\",\\\\n  \\\\\\\"properties\\\\\\\": {\\\\n    \\\\\\\"score\\\\\\\": 0.9217127561569214,\\\\n    \\\\\\\"page_number\\\\\\\": 5\\\\n  }\\\\n}\\\"\\n  ],\\n  \\\"embedding\\\": null,\\n  \\\"shingles\\\": null,\\n  \\\"parent_id\\\": null,\\n  \\\"bbox\\\": \\\"BoundingBox(0.09493052763097426, 0.15423812866210937, 0.2410492302389706, 0.17332977294921875)\\\",\\n  \\\"properties\\\": {\\n    \\\"score\\\": 0.42407727241516113,\\n    \\\"page_number\\\": 3\\n  }\\n}\",\n",
      "    \"{\\n  \\\"doc_id\\\": \\\"b233325b-5037-4e10-a02f-c3e31d443b5c\\\",\\n  \\\"lineage_id\\\": \\\"06068663-005b-44dc-8f69-0e6f5672fac6\\\",\\n  \\\"type\\\": \\\"Section-header\\\",\\n  \\\"text_representation\\\": \\\"Pilot Information\\\\n...\\\",\\n  \\\"binary_representation\\\": null,\\n  \\\"children\\\": [\\n    \\\"{\\\\n  \\\\\\\"doc_id\\\\\\\": \\\\\\\"daa9a7a8-0a75-4344-8374-330964c6de4c\\\\\\\",\\\\n  \\\\\\\"lineage_id\\\\\\\": \\\\\\\"ab3a2ae2-2df5-4141-b2aa-ffcd548b2a62\\\\\\\",\\\\n  \\\\\\\"type\\\\\\\": \\\\\\\"table\\\\\\\",\\\\n  \\\\\\\"text_representation\\\\\\\": \\\\\\\"{\\\\\\\\n  \\\\\\\\\\\\\\\"certificate\\\\\\\\\\\\\\\": \\\\\\\\\\\\\\\"Private\\\\\\\\\\\\\\\",\\\\\\\\n  \\\\\\\\\\\\\\\"age\\\\\\\\\\\\\\\": 6...\\\\\\\",\\\\n  \\\\\\\"binary_representation\\\\\\\": null,\\\\n  \\\\\\\"children\\\\\\\": [],\\\\n  \\\\\\\"embedding\\\\\\\": null,\\\\n  \\\\\\\"shingles\\\\\\\": null,\\\\n  \\\\\\\"parent_id\\\\\\\": null,\\\\n  \\\\\\\"bbox\\\\\\\": \\\\\\\"BoundingBox(0.08883642757640166, 0.6311236572265625, 0.9135454963235294, 0.8435467529296875)\\\\\\\",\\\\n  \\\\\\\"properties\\\\\\\": {\\\\n    \\\\\\\"score\\\\\\\": 0.8799341917037964,\\\\n    \\\\\\\"title\\\\\\\": null,\\\\n    \\\\\\\"columns\\\\\\\": null,\\\\n    \\\\\\\"rows\\\\\\\": null,\\\\n    \\\\\\\"page_number\\\\\\\": 5\\\\n  }\\\\n}\\\",\\n    \\\"{\\\\n  \\\\\\\"doc_id\\\\\\\": \\\\\\\"4e4422e3-a664-45d3-979a-8dafae9d6cdd\\\\\\\",\\\\n  \\\\\\\"lineage_id\\\\\\\": \\\\\\\"54e15b02-2758-4030-876c-68a347bdf057\\\\\\\",\\\\n  \\\\\\\"type\\\\\\\": \\\\\\\"Page-footer\\\\\\\",\\\\n  \\\\\\\"text_representation\\\\\\\": \\\\\\\"Page 5 of 8\\\\\\\\n...\\\\\\\",\\\\n  \\\\\\\"binary_representation\\\\\\\": null,\\\\n  \\\\\\\"children\\\\\\\": [],\\\\n  \\\\\\\"embedding\\\\\\\": null,\\\\n  \\\\\\\"shingles\\\\\\\": null,\\\\n  \\\\\\\"parent_id\\\\\\\": null,\\\\n  \\\\\\\"bbox\\\\\\\": \\\\\\\"BoundingBox(0.0881276658002068, 0.9499229847301136, 0.17165541704963236, 0.9634508167613637)\\\\\\\",\\\\n  \\\\\\\"properties\\\\\\\": {\\\\n    \\\\\\\"score\\\\\\\": 0.8959534764289856,\\\\n    \\\\\\\"page_number\\\\\\\": 5\\\\n  }\\\\n}\\\",\\n    \\\"{\\\\n  \\\\\\\"doc_id\\\\\\\": \\\\\\\"db497d69-54b0-4cdd-9eee-2bc2fb577a45\\\\\\\",\\\\n  \\\\\\\"lineage_id\\\\\\\": \\\\\\\"4f74dbc8-5261-498d-9333-99ad7d18a850\\\\\\\",\\\\n  \\\\\\\"type\\\\\\\": \\\\\\\"Page-footer\\\\\\\",\\\\n  \\\\\\\"text_representation\\\\\\\": \\\\\\\"ERA23LA225\\\\\\\\n...\\\\\\\",\\\\n  \\\\\\\"binary_representation\\\\\\\": null,\\\\n  \\\\\\\"children\\\\\\\": [],\\\\n  \\\\\\\"embedding\\\\\\\": null,\\\\n  \\\\\\\"shingles\\\\\\\": null,\\\\n  \\\\\\\"parent_id\\\\\\\": null,\\\\n  \\\\\\\"bbox\\\\\\\": \\\\\\\"BoundingBox(0.8150111299402574, 0.9502122913707386, 0.9142701631433824, 0.9634264026988636)\\\\\\\",\\\\n  \\\\\\\"properties\\\\\\\": {\\\\n    \\\\\\\"score\\\\\\\": 0.8954670429229736,\\\\n    \\\\\\\"page_number\\\\\\\": 5\\\\n  }\\\\n}\\\"\\n  ],\\n  \\\"embedding\\\": null,\\n  \\\"shingles\\\": null,\\n  \\\"parent_id\\\": null,\\n  \\\"bbox\\\": \\\"BoundingBox(0.09394115672392003, 0.6139076371626421, 0.24732064639820772, 0.6327067982066762)\\\",\\n  \\\"properties\\\": {\\n    \\\"score\\\": 0.5869738459587097,\\n    \\\"page_number\\\": 5\\n  }\\n}\",\n",
      "    \"{\\n  \\\"doc_id\\\": \\\"40afbe5d-8dbb-4e09-b5e5-1f9a8a19c5b4\\\",\\n  \\\"lineage_id\\\": \\\"f278ce4b-f64e-4f00-a6fa-ca1de02171d6\\\",\\n  \\\"type\\\": \\\"Section-header\\\",\\n  \\\"text_representation\\\": \\\"Aircraft and Owner/Operator Information\\\\n...\\\",\\n  \\\"binary_representation\\\": null,\\n  \\\"children\\\": [\\n    \\\"{\\\\n  \\\\\\\"doc_id\\\\\\\": \\\\\\\"740e36d2-3fd2-48c8-8785-ba510e561afb\\\\\\\",\\\\n  \\\\\\\"lineage_id\\\\\\\": \\\\\\\"bdca2ce2-f30d-4ad3-8892-7a13d66d782d\\\\\\\",\\\\n  \\\\\\\"type\\\\\\\": \\\\\\\"table\\\\\\\",\\\\n  \\\\\\\"text_representation\\\\\\\": \\\\\\\"{\\\\\\\\n  \\\\\\\\\\\\\\\"aircraftMake\\\\\\\\\\\\\\\": \\\\\\\\\\\\\\\"MOONEY AIRCRAFT COR...\\\\\\\",\\\\n  \\\\\\\"binary_representation\\\\\\\": null,\\\\n  \\\\\\\"children\\\\\\\": [],\\\\n  \\\\\\\"embedding\\\\\\\": null,\\\\n  \\\\\\\"shingles\\\\\\\": null,\\\\n  \\\\\\\"parent_id\\\\\\\": null,\\\\n  \\\\\\\"bbox\\\\\\\": \\\\\\\"BoundingBox(0.0896086659150965, 0.10840436762029475, 0.9130394789751838, 0.38896018288352274)\\\\\\\",\\\\n  \\\\\\\"properties\\\\\\\": {\\\\n    \\\\\\\"score\\\\\\\": 0.8850500583648682,\\\\n    \\\\\\\"title\\\\\\\": null,\\\\n    \\\\\\\"columns\\\\\\\": null,\\\\n    \\\\\\\"rows\\\\\\\": null,\\\\n    \\\\\\\"page_number\\\\\\\": 6\\\\n  }\\\\n}\\\"\\n  ],\\n  \\\"embedding\\\": null,\\n  \\\"shingles\\\": null,\\n  \\\"parent_id\\\": null,\\n  \\\"bbox\\\": \\\"BoundingBox(0.09343098359949449, 0.09059801968661221, 0.45800368365119487, 0.10878671819513494)\\\",\\n  \\\"properties\\\": {\\n    \\\"score\\\": 0.6817519068717957,\\n    \\\"page_number\\\": 6\\n  }\\n}\",\n",
      "    \"{\\n  \\\"doc_id\\\": \\\"b528fa55-499e-4e01-bf7a-46fec9b70779\\\",\\n  \\\"lineage_id\\\": \\\"62683562-37f3-45d6-b328-fd070f8c096e\\\",\\n  \\\"type\\\": \\\"Section-header\\\",\\n  \\\"text_representation\\\": \\\"Meteorological Information and Flight Pl...\\\",\\n  \\\"binary_representation\\\": null,\\n  \\\"children\\\": [\\n    \\\"{\\\\n  \\\\\\\"doc_id\\\\\\\": \\\\\\\"8d35e176-a2cc-4b28-8d8b-252cc0fa0e5b\\\\\\\",\\\\n  \\\\\\\"lineage_id\\\\\\\": \\\\\\\"59e1d061-a70d-4060-8bd7-505a3fe669ca\\\\\\\",\\\\n  \\\\\\\"type\\\\\\\": \\\\\\\"table\\\\\\\",\\\\n  \\\\\\\"text_representation\\\\\\\": \\\\\\\"{\\\\\\\\n  \\\\\\\\\\\\\\\"conditionsAtAccidentSite\\\\\\\\\\\\\\\": \\\\\\\\\\\\\\\"Visual ...\\\\\\\",\\\\n  \\\\\\\"binary_representation\\\\\\\": null,\\\\n  \\\\\\\"children\\\\\\\": [],\\\\n  \\\\\\\"embedding\\\\\\\": null,\\\\n  \\\\\\\"shingles\\\\\\\": null,\\\\n  \\\\\\\"parent_id\\\\\\\": null,\\\\n  \\\\\\\"bbox\\\\\\\": \\\\\\\"BoundingBox(0.08999487484202666, 0.46094554554332384, 0.931370849609375, 0.7627505770596591)\\\\\\\",\\\\n  \\\\\\\"properties\\\\\\\": {\\\\n    \\\\\\\"score\\\\\\\": 0.900675892829895,\\\\n    \\\\\\\"title\\\\\\\": null,\\\\n    \\\\\\\"columns\\\\\\\": null,\\\\n    \\\\\\\"rows\\\\\\\": null,\\\\n    \\\\\\\"page_number\\\\\\\": 6\\\\n  }\\\\n}\\\",\\n    \\\"{\\\\n  \\\\\\\"doc_id\\\\\\\": \\\\\\\"5cd9da79-a2e2-483e-842d-2e99008b2d49\\\\\\\",\\\\n  \\\\\\\"lineage_id\\\\\\\": \\\\\\\"e6ea44e2-1519-4a5a-8acb-98fdbd70f367\\\\\\\",\\\\n  \\\\\\\"type\\\\\\\": \\\\\\\"Page-footer\\\\\\\",\\\\n  \\\\\\\"text_representation\\\\\\\": \\\\\\\"Page 6 of 8\\\\\\\\n...\\\\\\\",\\\\n  \\\\\\\"binary_representation\\\\\\\": null,\\\\n  \\\\\\\"children\\\\\\\": [],\\\\n  \\\\\\\"embedding\\\\\\\": null,\\\\n  \\\\\\\"shingles\\\\\\\": null,\\\\n  \\\\\\\"parent_id\\\\\\\": null,\\\\n  \\\\\\\"bbox\\\\\\\": \\\\\\\"BoundingBox(0.08784748750574449, 0.9497671786221591, 0.17128435920266544, 0.9633753551136364)\\\\\\\",\\\\n  \\\\\\\"properties\\\\\\\": {\\\\n    \\\\\\\"score\\\\\\\": 0.8937628865242004,\\\\n    \\\\\\\"page_number\\\\\\\": 6\\\\n  }\\\\n}\\\",\\n    \\\"{\\\\n  \\\\\\\"doc_id\\\\\\\": \\\\\\\"b9cf187d-a8c1-4e3a-9afa-4511087752f3\\\\\\\",\\\\n  \\\\\\\"lineage_id\\\\\\\": \\\\\\\"a6465432-8f75-4c31-81b6-1b2604343322\\\\\\\",\\\\n  \\\\\\\"type\\\\\\\": \\\\\\\"Page-footer\\\\\\\",\\\\n  \\\\\\\"text_representation\\\\\\\": \\\\\\\"ERA23LA225\\\\\\\\n...\\\\\\\",\\\\n  \\\\\\\"binary_representation\\\\\\\": null,\\\\n  \\\\\\\"children\\\\\\\": [],\\\\n  \\\\\\\"embedding\\\\\\\": null,\\\\n  \\\\\\\"shingles\\\\\\\": null,\\\\n  \\\\\\\"parent_id\\\\\\\": null,\\\\n  \\\\\\\"bbox\\\\\\\": \\\\\\\"BoundingBox(0.8160355152803309, 0.9499766956676137, 0.9138833438648897, 0.9637126020951704)\\\\\\\",\\\\n  \\\\\\\"properties\\\\\\\": {\\\\n    \\\\\\\"score\\\\\\\": 0.8942499160766602,\\\\n    \\\\\\\"page_number\\\\\\\": 6\\\\n  }\\\\n}\\\"\\n  ],\\n  \\\"embedding\\\": null,\\n  \\\"shingles\\\": null,\\n  \\\"parent_id\\\": null,\\n  \\\"bbox\\\": \\\"BoundingBox(0.09227572272805606, 0.4424628240411932, 0.47720379997702206, 0.46088817249644887)\\\",\\n  \\\"properties\\\": {\\n    \\\"score\\\": 0.6478152871131897,\\n    \\\"page_number\\\": 6\\n  }\\n}\",\n",
      "    \"{\\n  \\\"doc_id\\\": \\\"6147e933-3744-4bab-a2cd-a235711f3cd8\\\",\\n  \\\"lineage_id\\\": \\\"6353f1cc-f755-460e-be43-f268465b1a54\\\",\\n  \\\"type\\\": \\\"Section-header\\\",\\n  \\\"text_representation\\\": \\\"Airport Information\\\\n...\\\",\\n  \\\"binary_representation\\\": null,\\n  \\\"children\\\": [\\n    \\\"{\\\\n  \\\\\\\"doc_id\\\\\\\": \\\\\\\"74f2ad8e-4172-45c2-ab17-9fbfe2a40074\\\\\\\",\\\\n  \\\\\\\"lineage_id\\\\\\\": \\\\\\\"698d8c1d-9075-4321-95ca-f6b78400715d\\\\\\\",\\\\n  \\\\\\\"type\\\\\\\": \\\\\\\"table\\\\\\\",\\\\n  \\\\\\\"text_representation\\\\\\\": \\\\\\\"{\\\\\\\\n    \\\\\\\\\\\\\\\"airport\\\\\\\\\\\\\\\": \\\\\\\\\\\\\\\"Central Jersey Regiona...\\\\\\\",\\\\n  \\\\\\\"binary_representation\\\\\\\": null,\\\\n  \\\\\\\"children\\\\\\\": [],\\\\n  \\\\\\\"embedding\\\\\\\": null,\\\\n  \\\\\\\"shingles\\\\\\\": null,\\\\n  \\\\\\\"parent_id\\\\\\\": null,\\\\n  \\\\\\\"bbox\\\\\\\": \\\\\\\"BoundingBox(0.08845702227424172, 0.10886736089533025, 0.913368709788603, 0.20831932761452415)\\\\\\\",\\\\n  \\\\\\\"properties\\\\\\\": {\\\\n    \\\\\\\"score\\\\\\\": 0.8595935702323914,\\\\n    \\\\\\\"title\\\\\\\": null,\\\\n    \\\\\\\"columns\\\\\\\": null,\\\\n    \\\\\\\"rows\\\\\\\": null,\\\\n    \\\\\\\"page_number\\\\\\\": 7\\\\n  }\\\\n}\\\"\\n  ],\\n  \\\"embedding\\\": null,\\n  \\\"shingles\\\": null,\\n  \\\"parent_id\\\": null,\\n  \\\"bbox\\\": \\\"BoundingBox(0.09333720487706801, 0.09049742958762429, 0.2684676944508272, 0.10864392367276278)\\\",\\n  \\\"properties\\\": {\\n    \\\"score\\\": 0.7259799242019653,\\n    \\\"page_number\\\": 7\\n  }\\n}\",\n",
      "    \"{\\n  \\\"doc_id\\\": \\\"28417ade-060e-434e-833b-e0728097950c\\\",\\n  \\\"lineage_id\\\": \\\"ce41840d-c577-43ed-b3d6-1a51e936966a\\\",\\n  \\\"type\\\": \\\"Section-header\\\",\\n  \\\"text_representation\\\": \\\"Wreckage and Impact Information\\\\n...\\\",\\n  \\\"binary_representation\\\": null,\\n  \\\"children\\\": [\\n    \\\"{\\\\n  \\\\\\\"doc_id\\\\\\\": \\\\\\\"ad63bbe7-3265-45b4-b941-0d05b8456bc6\\\\\\\",\\\\n  \\\\\\\"lineage_id\\\\\\\": \\\\\\\"e69c1916-0966-42d0-a327-ec3703025e82\\\\\\\",\\\\n  \\\\\\\"type\\\\\\\": \\\\\\\"table\\\\\\\",\\\\n  \\\\\\\"text_representation\\\\\\\": \\\\\\\"\\\\\\\\n{\\\\\\\\n    \\\\\\\\\\\\\\\"crewInjuries\\\\\\\\\\\\\\\": \\\\\\\\\\\\\\\"Minor\\\\\\\\\\\\\\\",\\\\\\\\n    \\\\\\\\\\\\\\\"air...\\\\\\\",\\\\n  \\\\\\\"binary_representation\\\\\\\": null,\\\\n  \\\\\\\"children\\\\\\\": [],\\\\n  \\\\\\\"embedding\\\\\\\": null,\\\\n  \\\\\\\"shingles\\\\\\\": null,\\\\n  \\\\\\\"parent_id\\\\\\\": null,\\\\n  \\\\\\\"bbox\\\\\\\": \\\\\\\"BoundingBox(0.08880418665268842, 0.28909534801136366, 0.9130018525965073, 0.4111948741566051)\\\\\\\",\\\\n  \\\\\\\"properties\\\\\\\": {\\\\n    \\\\\\\"score\\\\\\\": 0.8193299174308777,\\\\n    \\\\\\\"title\\\\\\\": null,\\\\n    \\\\\\\"columns\\\\\\\": null,\\\\n    \\\\\\\"rows\\\\\\\": null,\\\\n    \\\\\\\"page_number\\\\\\\": 7\\\\n  }\\\\n}\\\",\\n    \\\"{\\\\n  \\\\\\\"doc_id\\\\\\\": \\\\\\\"7f75e6e5-15bd-4dce-a6b7-271f2e5fc517\\\\\\\",\\\\n  \\\\\\\"lineage_id\\\\\\\": \\\\\\\"327887ff-e761-4d03-ad42-620469d6a593\\\\\\\",\\\\n  \\\\\\\"type\\\\\\\": \\\\\\\"Page-footer\\\\\\\",\\\\n  \\\\\\\"text_representation\\\\\\\": \\\\\\\"Page 7 of 8\\\\\\\\n...\\\\\\\",\\\\n  \\\\\\\"binary_representation\\\\\\\": null,\\\\n  \\\\\\\"children\\\\\\\": [],\\\\n  \\\\\\\"embedding\\\\\\\": null,\\\\n  \\\\\\\"shingles\\\\\\\": null,\\\\n  \\\\\\\"parent_id\\\\\\\": null,\\\\n  \\\\\\\"bbox\\\\\\\": \\\\\\\"BoundingBox(0.08787849875057445, 0.9498931329900568, 0.1709204999138327, 0.9635468084161932)\\\\\\\",\\\\n  \\\\\\\"properties\\\\\\\": {\\\\n    \\\\\\\"score\\\\\\\": 0.8894453644752502,\\\\n    \\\\\\\"page_number\\\\\\\": 7\\\\n  }\\\\n}\\\",\\n    \\\"{\\\\n  \\\\\\\"doc_id\\\\\\\": \\\\\\\"13a7ba5d-39b6-43ff-a0a6-87e221fdc4e1\\\\\\\",\\\\n  \\\\\\\"lineage_id\\\\\\\": \\\\\\\"e69f158d-12ab-4b5f-a813-deb48ac0fb11\\\\\\\",\\\\n  \\\\\\\"type\\\\\\\": \\\\\\\"Page-footer\\\\\\\",\\\\n  \\\\\\\"text_representation\\\\\\\": \\\\\\\"ERA23LA225\\\\\\\\n...\\\\\\\",\\\\n  \\\\\\\"binary_representation\\\\\\\": null,\\\\n  \\\\\\\"children\\\\\\\": [],\\\\n  \\\\\\\"embedding\\\\\\\": null,\\\\n  \\\\\\\"shingles\\\\\\\": null,\\\\n  \\\\\\\"parent_id\\\\\\\": null,\\\\n  \\\\\\\"bbox\\\\\\\": \\\\\\\"BoundingBox(0.8157151884191176, 0.9505741743607955, 0.9124968405330882, 0.9636583362926137)\\\\\\\",\\\\n  \\\\\\\"properties\\\\\\\": {\\\\n    \\\\\\\"score\\\\\\\": 0.8796300888061523,\\\\n    \\\\\\\"page_number\\\\\\\": 7\\\\n  }\\\\n}\\\"\\n  ],\\n  \\\"embedding\\\": null,\\n  \\\"shingles\\\": null,\\n  \\\"parent_id\\\": null,\\n  \\\"bbox\\\": \\\"BoundingBox(0.0938860455681296, 0.2708550470525568, 0.3989151539522059, 0.28939028653231536)\\\",\\n  \\\"properties\\\": {\\n    \\\"score\\\": 0.6983193159103394,\\n    \\\"page_number\\\": 7\\n  }\\n}\",\n",
      "    \"{\\n  \\\"doc_id\\\": \\\"2ee93d12-42b6-4e71-b980-c3e9c4111973\\\",\\n  \\\"lineage_id\\\": \\\"da3cc817-0339-422b-84e3-17de68ee3132\\\",\\n  \\\"type\\\": \\\"Section-header\\\",\\n  \\\"text_representation\\\": \\\"Administrative Information\\\\n...\\\",\\n  \\\"binary_representation\\\": null,\\n  \\\"children\\\": [\\n    \\\"{\\\\n  \\\\\\\"doc_id\\\\\\\": \\\\\\\"a775cb2e-7511-4ab9-ab1f-5d64c12712da\\\\\\\",\\\\n  \\\\\\\"lineage_id\\\\\\\": \\\\\\\"8b84cad8-580a-4a32-a2c5-f2137cd600d2\\\\\\\",\\\\n  \\\\\\\"type\\\\\\\": \\\\\\\"table\\\\\\\",\\\\n  \\\\\\\"text_representation\\\\\\\": \\\\\\\"{\\\\\\\\n  \\\\\\\\\\\\\\\"investigatorInCharge\\\\\\\\\\\\\\\": \\\\\\\\\\\\\\\"Gerhardt, A...\\\\\\\",\\\\n  \\\\\\\"binary_representation\\\\\\\": null,\\\\n  \\\\\\\"children\\\\\\\": [],\\\\n  \\\\\\\"embedding\\\\\\\": null,\\\\n  \\\\\\\"shingles\\\\\\\": null,\\\\n  \\\\\\\"parent_id\\\\\\\": null,\\\\n  \\\\\\\"bbox\\\\\\\": \\\\\\\"BoundingBox(0.09230777516084558, 0.1096954969926314, 0.9123690975413603, 0.28774552778764206)\\\\\\\",\\\\n  \\\\\\\"properties\\\\\\\": {\\\\n    \\\\\\\"score\\\\\\\": 0.7911362648010254,\\\\n    \\\\\\\"title\\\\\\\": null,\\\\n    \\\\\\\"columns\\\\\\\": null,\\\\n    \\\\\\\"rows\\\\\\\": null,\\\\n    \\\\\\\"page_number\\\\\\\": 8\\\\n  }\\\\n}\\\",\\n    \\\"{\\\\n  \\\\\\\"doc_id\\\\\\\": \\\\\\\"e488d157-ad2b-40ab-9c52-0c3ada0f1199\\\\\\\",\\\\n  \\\\\\\"lineage_id\\\\\\\": \\\\\\\"92752f1a-722f-477e-b038-69c299c14638\\\\\\\",\\\\n  \\\\\\\"type\\\\\\\": \\\\\\\"Text\\\\\\\",\\\\n  \\\\\\\"text_representation\\\\\\\": \\\\\\\"The National Transportation Safety Board...\\\\\\\",\\\\n  \\\\\\\"binary_representation\\\\\\\": null,\\\\n  \\\\\\\"children\\\\\\\": [],\\\\n  \\\\\\\"embedding\\\\\\\": null,\\\\n  \\\\\\\"shingles\\\\\\\": null,\\\\n  \\\\\\\"parent_id\\\\\\\": null,\\\\n  \\\\\\\"bbox\\\\\\\": \\\\\\\"BoundingBox(0.10620331708122702, 0.31389182350852274, 0.8958731617647059, 0.4231136530095881)\\\\\\\",\\\\n  \\\\\\\"properties\\\\\\\": {\\\\n    \\\\\\\"score\\\\\\\": 0.8758268356323242,\\\\n    \\\\\\\"page_number\\\\\\\": 8\\\\n  }\\\\n}\\\",\\n    \\\"{\\\\n  \\\\\\\"doc_id\\\\\\\": \\\\\\\"f1695afd-5da8-4441-809d-71ad45f5417b\\\\\\\",\\\\n  \\\\\\\"lineage_id\\\\\\\": \\\\\\\"fecdee71-ec45-4f66-9274-48329029a589\\\\\\\",\\\\n  \\\\\\\"type\\\\\\\": \\\\\\\"Text\\\\\\\",\\\\n  \\\\\\\"text_representation\\\\\\\": \\\\\\\"The NTSB does not assign fault or blame ...\\\\\\\",\\\\n  \\\\\\\"binary_representation\\\\\\\": null,\\\\n  \\\\\\\"children\\\\\\\": [],\\\\n  \\\\\\\"embedding\\\\\\\": null,\\\\n  \\\\\\\"shingles\\\\\\\": null,\\\\n  \\\\\\\"parent_id\\\\\\\": null,\\\\n  \\\\\\\"bbox\\\\\\\": \\\\\\\"BoundingBox(0.10579344805549173, 0.43735107421875, 0.8970328297334559, 0.5464781605113637)\\\\\\\",\\\\n  \\\\\\\"properties\\\\\\\": {\\\\n    \\\\\\\"score\\\\\\\": 0.8776455521583557,\\\\n    \\\\\\\"page_number\\\\\\\": 8\\\\n  }\\\\n}\\\",\\n    \\\"{\\\\n  \\\\\\\"doc_id\\\\\\\": \\\\\\\"ca0db1fa-ef5e-4a4b-a02a-bb05bfa5255e\\\\\\\",\\\\n  \\\\\\\"lineage_id\\\\\\\": \\\\\\\"ce37354a-9d94-42a6-aee1-ee380974c282\\\\\\\",\\\\n  \\\\\\\"type\\\\\\\": \\\\\\\"Page-footer\\\\\\\",\\\\n  \\\\\\\"text_representation\\\\\\\": \\\\\\\"Page 8 of 8\\\\\\\\n...\\\\\\\",\\\\n  \\\\\\\"binary_representation\\\\\\\": null,\\\\n  \\\\\\\"children\\\\\\\": [],\\\\n  \\\\\\\"embedding\\\\\\\": null,\\\\n  \\\\\\\"shingles\\\\\\\": null,\\\\n  \\\\\\\"parent_id\\\\\\\": null,\\\\n  \\\\\\\"bbox\\\\\\\": \\\\\\\"BoundingBox(0.08810589061063878, 0.9503470126065341, 0.1715074426987592, 0.9632441850142045)\\\\\\\",\\\\n  \\\\\\\"properties\\\\\\\": {\\\\n    \\\\\\\"score\\\\\\\": 0.8884735107421875,\\\\n    \\\\\\\"page_number\\\\\\\": 8\\\\n  }\\\\n}\\\",\\n    \\\"{\\\\n  \\\\\\\"doc_id\\\\\\\": \\\\\\\"81b40808-4a8d-422e-87a7-bcd09756a929\\\\\\\",\\\\n  \\\\\\\"lineage_id\\\\\\\": \\\\\\\"a7a793ac-3f1b-4ce5-8cb9-4dc890ea58e3\\\\\\\",\\\\n  \\\\\\\"type\\\\\\\": \\\\\\\"Page-footer\\\\\\\",\\\\n  \\\\\\\"text_representation\\\\\\\": \\\\\\\"ERA23LA225\\\\\\\\n...\\\\\\\",\\\\n  \\\\\\\"binary_representation\\\\\\\": null,\\\\n  \\\\\\\"children\\\\\\\": [],\\\\n  \\\\\\\"embedding\\\\\\\": null,\\\\n  \\\\\\\"shingles\\\\\\\": null,\\\\n  \\\\\\\"parent_id\\\\\\\": null,\\\\n  \\\\\\\"bbox\\\\\\\": \\\\\\\"BoundingBox(0.8155487419577205, 0.9506429776278409, 0.9129770795036765, 0.9633965509588068)\\\\\\\",\\\\n  \\\\\\\"properties\\\\\\\": {\\\\n    \\\\\\\"score\\\\\\\": 0.8853325247764587,\\\\n    \\\\\\\"page_number\\\\\\\": 8\\\\n  }\\\\n}\\\"\\n  ],\\n  \\\"embedding\\\": null,\\n  \\\"shingles\\\": null,\\n  \\\"parent_id\\\": null,\\n  \\\"bbox\\\": \\\"BoundingBox(0.09478014777688419, 0.0907706035267223, 0.3280319034352022, 0.10857589721679688)\\\",\\n  \\\"properties\\\": {\\n    \\\"score\\\": 0.6931098699569702,\\n    \\\"page_number\\\": 8\\n  }\\n}\"\n",
      "  ],\n",
      "  \"embedding\": null,\n",
      "  \"shingles\": null,\n",
      "  \"parent_id\": null,\n",
      "  \"bbox\": \"None\",\n",
      "  \"properties\": {\n",
      "    \"path\": \"s3://aryn-datasets-us-east-1/ntsb-large/1000/130453.pdf\",\n",
      "    \"filetype\": \"application/pdf\"\n",
      "  }\n",
      "}\n",
      "ERIC: WORKED TO HERE AND PASSED ALL THE CHECK IF BAD CHECKS\n"
     ]
    }
   ],
   "source": [
    "print(docs[0])\n",
    "print(\"ERIC: WORKED TO HERE AND PASSED ALL THE CHECK IF BAD CHECKS\")"
   ]
  },
  {
   "cell_type": "code",
   "execution_count": 7,
   "metadata": {},
   "outputs": [
    {
     "ename": "AttributeError",
     "evalue": "'function' object has no attribute 'read'",
     "output_type": "error",
     "traceback": [
      "\u001b[0;31m---------------------------------------------------------------------------\u001b[0m",
      "\u001b[0;31mAttributeError\u001b[0m                            Traceback (most recent call last)",
      "Cell \u001b[0;32mIn[7], line 1\u001b[0m\n\u001b[0;32m----> 1\u001b[0m \u001b[38;5;28mprint\u001b[39m(\u001b[43msycamore\u001b[49m\u001b[38;5;241;43m.\u001b[39;49m\u001b[43minit\u001b[49m\u001b[38;5;241;43m.\u001b[39;49m\u001b[43mread\u001b[49m\u001b[38;5;241m.\u001b[39mmaterialize(\u001b[38;5;124m\"\u001b[39m\u001b[38;5;124m/tmp/resolve_entities\u001b[39m\u001b[38;5;124m\"\u001b[39m)\u001b[38;5;241m.\u001b[39mtake(\u001b[38;5;241m1\u001b[39m))\n",
      "\u001b[0;31mAttributeError\u001b[0m: 'function' object has no attribute 'read'"
     ]
    }
   ],
   "source": [
    "print(sycamore.init.read.materialize(\"/tmp/resolve_entities\").take(1))"
   ]
  },
  {
   "cell_type": "code",
   "execution_count": 7,
   "metadata": {},
   "outputs": [
    {
     "ename": "SyntaxError",
     "evalue": "invalid syntax (1744755241.py, line 5)",
     "output_type": "error",
     "traceback": [
      "\u001b[0;36m  Cell \u001b[0;32mIn[7], line 5\u001b[0;36m\u001b[0m\n\u001b[0;31m    name:\u001b[0m\n\u001b[0m         ^\u001b[0m\n\u001b[0;31mSyntaxError\u001b[0m\u001b[0;31m:\u001b[0m invalid syntax\n"
     ]
    }
   ],
   "source": [
    "class Report(BaseModel):\n",
    "    Title: str\n",
    "\n",
    "class Drug(BaseModel):\n",
    "    name:\n",
    "    chemical_compisition:\n",
    "    price:\n",
    "    time_to_develop:\n",
    "\n",
    "\n",
    "class Aircraft(BaseModel):\n",
    "    registration: str\n",
    "    make: str\n",
    "    model: str\n",
    "\n",
    "class INVOLVED_AIRCRAFT(BaseModel):\n",
    "    start: Report\n",
    "    end: Aircraft"
   ]
  },
  {
   "cell_type": "code",
   "execution_count": 5,
   "metadata": {},
   "outputs": [],
   "source": [
    "for doc in docs:\n",
    "    if \"nodes\" not in doc[\"properties\"]:\n",
    "        continue\n",
    "    print(json.dumps(doc[\"properties\"][\"nodes\"], indent=2))\n",
    "    # for label, hashes in doc[\"properties\"][\"nodes\"].items():\n",
    "    #     print(label)\n",
    "    #     for hash, node in hashes.items():\n",
    "    #         uuid = set()\n",
    "    #         rels = set()\n",
    "    #         for rel_uuid, rel in node[\"relationships\"].items():\n",
    "    #             assert rel_uuid not in uuid\n",
    "    #             assert json.dumps(rel) not in rels\n",
    "    #             uuid.add(json.dumps(rel_uuid))\n",
    "    #             rels.add(json.dumps(rel))\n",
    "    #             print(rel_uuid)"
   ]
  },
  {
   "cell_type": "code",
   "execution_count": 8,
   "metadata": {},
   "outputs": [
    {
     "ename": "KeyError",
     "evalue": "'nodes'",
     "output_type": "error",
     "traceback": [
      "\u001b[0;31m---------------------------------------------------------------------------\u001b[0m",
      "\u001b[0;31mKeyError\u001b[0m                                  Traceback (most recent call last)",
      "Cell \u001b[0;32mIn[8], line 3\u001b[0m\n\u001b[1;32m      1\u001b[0m \u001b[38;5;28;01mfor\u001b[39;00m doc \u001b[38;5;129;01min\u001b[39;00m docs:\n\u001b[1;32m      2\u001b[0m     \u001b[38;5;28;01mfor\u001b[39;00m section \u001b[38;5;129;01min\u001b[39;00m doc\u001b[38;5;241m.\u001b[39mchildren:\n\u001b[0;32m----> 3\u001b[0m         \u001b[38;5;28;01mfor\u001b[39;00m label, hashes \u001b[38;5;129;01min\u001b[39;00m \u001b[43msection\u001b[49m\u001b[43m[\u001b[49m\u001b[38;5;124;43m\"\u001b[39;49m\u001b[38;5;124;43mproperties\u001b[39;49m\u001b[38;5;124;43m\"\u001b[39;49m\u001b[43m]\u001b[49m\u001b[43m[\u001b[49m\u001b[38;5;124;43m\"\u001b[39;49m\u001b[38;5;124;43mnodes\u001b[39;49m\u001b[38;5;124;43m\"\u001b[39;49m\u001b[43m]\u001b[49m\u001b[38;5;241m.\u001b[39mitems():\n\u001b[1;32m      4\u001b[0m             \u001b[38;5;28;01mfor\u001b[39;00m \u001b[38;5;28mhash\u001b[39m, node \u001b[38;5;129;01min\u001b[39;00m hashes\u001b[38;5;241m.\u001b[39mitems():\n\u001b[1;32m      5\u001b[0m                 uuid \u001b[38;5;241m=\u001b[39m \u001b[38;5;28mset\u001b[39m()\n",
      "\u001b[0;31mKeyError\u001b[0m: 'nodes'"
     ]
    }
   ],
   "source": [
    "for doc in docs:\n",
    "    for section in doc.children:\n",
    "        for label, hashes in section[\"properties\"][\"nodes\"].items():\n",
    "            for hash, node in hashes.items():\n",
    "                uuid = set()\n",
    "                rels = set()\n",
    "                for rel_uuid, rel in node[\"relationships\"].items():\n",
    "                    assert rel_uuid not in uuid\n",
    "                    assert json.dumps(rel) not in rels\n",
    "                    uuid.add(json.dumps(rel_uuid))\n",
    "                    rels.add(json.dumps(rel))\n",
    "                    print(rel_uuid)"
   ]
  },
  {
   "cell_type": "code",
   "execution_count": null,
   "metadata": {},
   "outputs": [],
   "source": [
    "for doc in docs:\n",
    "    for section in doc.children:\n",
    "        if section.type == \"extracted\":\n",
    "            print(json.dumps(section.data[\"relationships\"], indent=2))"
   ]
  },
  {
   "cell_type": "code",
   "execution_count": 5,
   "metadata": {},
   "outputs": [
    {
     "ename": "NameError",
     "evalue": "name 'docs' is not defined",
     "output_type": "error",
     "traceback": [
      "\u001b[0;31m---------------------------------------------------------------------------\u001b[0m",
      "\u001b[0;31mNameError\u001b[0m                                 Traceback (most recent call last)",
      "Cell \u001b[0;32mIn[5], line 1\u001b[0m\n\u001b[0;32m----> 1\u001b[0m \u001b[38;5;28;01mfor\u001b[39;00m doc \u001b[38;5;129;01min\u001b[39;00m \u001b[43mdocs\u001b[49m:\n\u001b[1;32m      2\u001b[0m     \u001b[38;5;28;01mfor\u001b[39;00m section \u001b[38;5;129;01min\u001b[39;00m doc\u001b[38;5;241m.\u001b[39mchildren:\n\u001b[1;32m      3\u001b[0m         \u001b[38;5;28;01mif\u001b[39;00m section\u001b[38;5;241m.\u001b[39mtype \u001b[38;5;241m==\u001b[39m \u001b[38;5;124m\"\u001b[39m\u001b[38;5;124mextracted\u001b[39m\u001b[38;5;124m\"\u001b[39m:\n",
      "\u001b[0;31mNameError\u001b[0m: name 'docs' is not defined"
     ]
    }
   ],
   "source": [
    "for doc in docs:\n",
    "    for section in doc.children:\n",
    "        if section.type == \"extracted\":\n",
    "            print(json.dumps(section.data[\"relationships\"], indent=2))\n",
    "        #print(section)\n",
    "        # if \"EXTRACTED_NODES\" in section[\"properties\"]:\n",
    "        #     for child in section.children:\n",
    "        #         print(child)\n",
    "        #         for rel_uuid, rel in child[\"relationships\"].items():\n",
    "        #             print(rel_uuid)\n",
    "        #             print(rel)\n",
    "        # if \"nodes\" not in section[\"properties\"]:\n",
    "        #     continue\n",
    "        # for label, hashes in section[\"properties\"][\"nodes\"].items():\n",
    "        #     for hash, node in hashes.items():\n",
    "        #         for rel_uuid, rel in node[\"relationships\"].items():\n",
    "        #             print(rel_uuid)\n",
    "                    # print(rel)\n",
    "    #for section in doc.children:\n",
    "    #print(json.dumps(section[\"properties\"][\"nodes\"], indent=2))"
   ]
  }
 ],
 "metadata": {
  "kernelspec": {
   "display_name": "Python 3 (ipykernel)",
   "language": "python",
   "name": "python3"
  },
  "language_info": {
   "codemirror_mode": {
    "name": "ipython",
    "version": 3
   },
   "file_extension": ".py",
   "mimetype": "text/x-python",
   "name": "python",
   "nbconvert_exporter": "python",
   "pygments_lexer": "ipython3",
   "version": "3.11.6"
  }
 },
 "nbformat": 4,
 "nbformat_minor": 4
}
