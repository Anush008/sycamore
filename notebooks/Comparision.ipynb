{
 "cells": [
  {
   "cell_type": "code",
   "execution_count": 8,
   "id": "ac7bc73e-c32c-44be-a306-7b11b3a3fb5a",
   "metadata": {},
   "outputs": [],
   "source": [
    "import sycamore\n",
    "from sycamore.data import BoundingBox, Document, Element, TableElement\n",
    "from sycamore.functions.document import split_and_convert_to_image, DrawBoxes\n",
    "from sycamore.transforms.partition import ArynPartitioner\n",
    "from sycamore.transforms.summarize_images import SummarizeImages\n",
    "from pathlib import Path\n",
    "\n",
    "context = sycamore.init()"
   ]
  },
  {
   "cell_type": "markdown",
   "id": "d3868525-9346-4b57-910a-bd760d3b0056",
   "metadata": {},
   "source": [
    "### time taken to extract and summarize images with ArynPartitioner running remotely"
   ]
  },
  {
   "cell_type": "markdown",
   "id": "d6635dc9-96ab-49bd-bdac-cfe7e5409670",
   "metadata": {},
   "source": [
    "##### The Aryn Partitioner is configured to use the Aryn Partitioning Service to provide fast, GPU-powered performance. Go to [aryn.ai/sign-up ](aryn.ai/sign-up) to get a free API key for the service. You can also run the Aryn Partitioner locally by changing `use_partitioning_service` to `False`. Though you can use CPU to run the Aryn Partitioner, it is recommended to use an NVIDIA GPU for good performance.\n"
   ]
  },
  {
   "cell_type": "markdown",
   "id": "c44076ee-3949-4981-9c96-de74a0af6e58",
   "metadata": {},
   "source": [
    "Replace the `aryn_api_key` with your key "
   ]
  },
  {
   "cell_type": "code",
   "execution_count": 9,
   "id": "9a1eae37-a639-4d83-8174-794b324644dc",
   "metadata": {},
   "outputs": [],
   "source": [
    "aryn_api_key = 'aryn_api_key'"
   ]
  },
  {
   "cell_type": "code",
   "execution_count": 6,
   "id": "8786fb7e-f893-4284-b7b9-e4e5683ea459",
   "metadata": {},
   "outputs": [
    {
     "name": "stderr",
     "output_type": "stream",
     "text": [
      "2024-07-11 20:10:18,600\tINFO set_read_parallelism.py:115 -- Using autodetected parallelism=8 for stage ReadBinary to satisfy parallelism at least twice the available number of CPUs (4).\n",
      "2024-07-11 20:10:18,601\tINFO set_read_parallelism.py:122 -- To satisfy the requested parallelism of 8, each read task output is split into 8 smaller blocks.\n",
      "2024-07-11 20:10:18,602\tINFO streaming_executor.py:112 -- Executing DAG InputDataBuffer[Input] -> TaskPoolMapOperator[ReadBinary] -> TaskPoolMapOperator[Map(BinaryScan._to_document)->MapBatches(_wrap)->MapBatches(summarize_all_images)->MapBatches(explode)->MapBatches(<lambda>)]\n",
      "2024-07-11 20:10:18,603\tINFO streaming_executor.py:113 -- Execution config: ExecutionOptions(resource_limits=ExecutionResources(cpu=None, gpu=None, object_store_memory=None), exclude_resources=ExecutionResources(cpu=0, gpu=0, object_store_memory=0), locality_with_output=False, preserve_order=False, actor_locality_enabled=True, verbose_progress=False)\n",
      "2024-07-11 20:10:18,604\tINFO streaming_executor.py:115 -- Tip: For detailed progress reporting, run `ray.data.DataContext.get_current().execution_options.verbose_progress = True`\n"
     ]
    },
    {
     "data": {
      "application/vnd.jupyter.widget-view+json": {
       "model_id": "",
       "version_major": 2,
       "version_minor": 0
      },
      "text/plain": [
       "Running 0:   0%|          | 0/1 [00:00<?, ?it/s]"
      ]
     },
     "metadata": {},
     "output_type": "display_data"
    },
    {
     "name": "stdout",
     "output_type": "stream",
     "text": [
      "{'type': 'Image',\n",
      " 'bbox': [0.08557756311753217,\n",
      "          0.06654054121537642,\n",
      "          0.30315767176011027,\n",
      "          0.10732177040793679],\n",
      " 'properties': {'score': 0.7591715455055237,\n",
      "                'image_size': [390, 110],\n",
      "                'image_mode': 'RGB',\n",
      "                'image_format': None,\n",
      "                'page_number': 1,\n",
      "                'summary': {'is_graph': False,\n",
      "                            'summary': 'The image is a logo for the '\n",
      "                                       \"'Artificial Intelligence Index Report \"\n",
      "                                       \"2023.' It features the acronym 'AI' in \"\n",
      "                                       'a stylized design, accompanied by the '\n",
      "                                       'full title of the report. The logo is '\n",
      "                                       'likely used to brand the report and '\n",
      "                                       'indicate its focus on artificial '\n",
      "                                       'intelligence.'}},\n",
      " 'binary_representation': b'<128700 bytes>',\n",
      " 'text_representation': \"The image is a logo for the 'Artificial Intelligence \"\n",
      "                        \"Index Report 2023.' It features the acronym 'AI <163 \"\n",
      "                        'chars>',\n",
      " 'elements': [],\n",
      " 'lineage_id': '0b693b99-43b1-4d4f-8ef4-bcce881f0656',\n",
      " 'doc_id': '7b351a97-1f3f-431a-8941-30240eb15713',\n",
      " 'parent_id': '9a73b752-3fc1-11ef-ab1d-0e5394cc3e15'}\n",
      "{'type': 'Image',\n",
      " 'bbox': [0.09142360014073989,\n",
      "          0.5287951105291193,\n",
      "          0.9123049747242648,\n",
      "          0.8403813587535511],\n",
      " 'properties': {'score': 0.8223743438720703,\n",
      "                'image_size': [1416, 706],\n",
      "                'image_mode': 'RGB',\n",
      "                'image_format': None,\n",
      "                'page_number': 1,\n",
      "                'summary': {'is_graph': True,\n",
      "                            'x-axis': 'Total Investment (in Billions of U.S. '\n",
      "                                      'Dollars)',\n",
      "                            'y-axis': 'Country',\n",
      "                            'summary': 'The bar chart illustrates the total '\n",
      "                                       'investment in billions of U.S. dollars '\n",
      "                                       'across various countries. The United '\n",
      "                                       'States leads with a significant '\n",
      "                                       'margin, investing $47.36 billion. '\n",
      "                                       'China follows with $13.41 billion, and '\n",
      "                                       'the United Kingdom is third with $4.37 '\n",
      "                                       'billion. Other countries such as '\n",
      "                                       'Israel, India, and South Korea have '\n",
      "                                       'investments ranging from $3.24 billion '\n",
      "                                       'to $3.10 billion. The chart highlights '\n",
      "                                       'the substantial disparity in '\n",
      "                                       'investment amounts between the United '\n",
      "                                       'States and other countries.'}},\n",
      " 'binary_representation': b'<2999088 bytes>',\n",
      " 'text_representation': 'The bar chart illustrates the total investment in '\n",
      "                        'billions of U.S. dollars across various countries. '\n",
      "                        '<397 chars>',\n",
      " 'elements': [],\n",
      " 'lineage_id': '091b552f-7369-4446-95c1-71dfdf971b83',\n",
      " 'doc_id': '699e453c-b8c6-4d3e-be18-f2b8ed8ac30f',\n",
      " 'parent_id': '9a73b752-3fc1-11ef-ab1d-0e5394cc3e15'}\n",
      "CPU times: user 310 ms, sys: 67.7 ms, total: 378 ms\n",
      "Wall time: 17.2 s\n"
     ]
    }
   ],
   "source": [
    "%%time \n",
    "\n",
    "\n",
    "doc = (context.read.binary(paths=\"s3://aryn-public/sycamore-partitioner-examples/document-example-1.pdf\", binary_format=\"pdf\")\n",
    "                .partition(partitioner=ArynPartitioner(extract_images=True,aryn_api_key=aryn_api_key ))\n",
    "# Summarize each image element.\n",
    "                .transform(SummarizeImages)\n",
    "                .explode()\n",
    "# Filter image elements to make it easier to see the summarized results.\n",
    "                .filter(lambda d: d.type == \"Image\")\n",
    "                .show())"
   ]
  },
  {
   "cell_type": "markdown",
   "id": "75a2ca57-a10d-43b8-baa2-9dae93628938",
   "metadata": {},
   "source": [
    "### time taken to extract and summarize images with ArynPartitioner running locally\n"
   ]
  },
  {
   "cell_type": "markdown",
   "id": "12e77dbf-f0fa-46eb-bdd6-5fba78fbc471",
   "metadata": {},
   "source": [
    "\n",
    "##### The Aryn Partitioner is configured to run locally. Though you can use CPU to run the Aryn Partitioner, it is recommended to use an NVIDIA GPU for good performance. You can also choose to use the Aryn Partitioning Service, which provides fast, GPU-powered performance. Go to [aryn.ai/sign-up ](aryn.ai/sign-up) to get a free API key for the service, set the `use_partitioning_service` to `False`, and provide aryn_api_key=your-api-key as an additional option.\n",
    " "
   ]
  },
  {
   "cell_type": "code",
   "execution_count": 7,
   "id": "f011ad6a-90f7-4e12-9ce0-bf57a9e8c524",
   "metadata": {},
   "outputs": [
    {
     "name": "stderr",
     "output_type": "stream",
     "text": [
      "ERROR:root:Unable to load aryn config /home/ec2-user/.aryn/config.yaml: [Errno 2] No such file or directory: '/home/ec2-user/.aryn/config.yaml'\n",
      "2024-07-11 20:10:57,818\tWARNING util.py:546 -- The argument ``compute`` is deprecated in Ray 2.9. Please specify argument ``concurrency`` instead. For more information, see https://docs.ray.io/en/master/data/transforming-data.html#stateful-transforms.\n",
      "2024-07-11 20:10:57,824\tINFO set_read_parallelism.py:115 -- Using autodetected parallelism=8 for stage ReadBinary to satisfy parallelism at least twice the available number of CPUs (4).\n",
      "2024-07-11 20:10:57,825\tINFO set_read_parallelism.py:122 -- To satisfy the requested parallelism of 8, each read task output is split into 8 smaller blocks.\n",
      "2024-07-11 20:10:57,826\tINFO streaming_executor.py:112 -- Executing DAG InputDataBuffer[Input] -> TaskPoolMapOperator[ReadBinary] -> TaskPoolMapOperator[Map(BinaryScan._to_document)] -> ActorPoolMapOperator[MapBatches(BaseMapTransformCallable___wrap)] -> TaskPoolMapOperator[MapBatches(summarize_all_images)->MapBatches(explode)->MapBatches(<lambda>)]\n",
      "2024-07-11 20:10:57,826\tINFO streaming_executor.py:113 -- Execution config: ExecutionOptions(resource_limits=ExecutionResources(cpu=None, gpu=None, object_store_memory=None), exclude_resources=ExecutionResources(cpu=0, gpu=0, object_store_memory=0), locality_with_output=False, preserve_order=False, actor_locality_enabled=True, verbose_progress=False)\n",
      "2024-07-11 20:10:57,827\tINFO streaming_executor.py:115 -- Tip: For detailed progress reporting, run `ray.data.DataContext.get_current().execution_options.verbose_progress = True`\n",
      "2024-07-11 20:10:57,842\tINFO actor_pool_map_operator.py:114 -- MapBatches(BaseMapTransformCallable___wrap): Waiting for 1 pool actors to start...\n"
     ]
    },
    {
     "data": {
      "application/vnd.jupyter.widget-view+json": {
       "model_id": "",
       "version_major": 2,
       "version_minor": 0
      },
      "text/plain": [
       "Running 0:   0%|          | 0/1 [00:00<?, ?it/s]"
      ]
     },
     "metadata": {},
     "output_type": "display_data"
    },
    {
     "name": "stdout",
     "output_type": "stream",
     "text": [
      "{'type': 'Image',\n",
      " 'bbox': (0.08557390100815716,\n",
      "          0.06654155384410511,\n",
      "          0.3031622673483456,\n",
      "          0.10732093117453835),\n",
      " 'properties': {'score': 0.758800745010376,\n",
      "                'image_size': (390, 110),\n",
      "                'image_mode': 'RGB',\n",
      "                'image_format': None,\n",
      "                'page_number': 1,\n",
      "                'summary': {'is_graph': False,\n",
      "                            'summary': 'The image is a logo for the '\n",
      "                                       \"'Artificial Intelligence Index Report \"\n",
      "                                       \"2023'. It features the acronym 'AI' in \"\n",
      "                                       'stylized text, with the full title of '\n",
      "                                       'the report written next to it. The '\n",
      "                                       'logo is likely used to brand the '\n",
      "                                       'report and does not contain any '\n",
      "                                       'graphical data or axes.'}},\n",
      " 'text_representation': \"The image is a logo for the 'Artificial Intelligence \"\n",
      "                        \"Index Report 2023'. It features the acronym 'AI <166 \"\n",
      "                        'chars>',\n",
      " 'binary_representation': b'<128700 bytes>',\n",
      " 'elements': [],\n",
      " 'lineage_id': 'd48301f7-4d01-45a8-a55e-ad441af3835c',\n",
      " 'doc_id': '4a2e5a3b-7fe3-451c-8300-545e7c826c65',\n",
      " 'parent_id': 'b1243e0e-3fc1-11ef-89bb-0e5394cc3e15'}\n",
      "{'type': 'Image',\n",
      " 'bbox': (0.09142190372242646,\n",
      "          0.528792891068892,\n",
      "          0.912318546070772,\n",
      "          0.8403801380504261),\n",
      " 'properties': {'score': 0.8221286535263062,\n",
      "                'image_size': (1416, 706),\n",
      "                'image_mode': 'RGB',\n",
      "                'image_format': None,\n",
      "                'page_number': 1,\n",
      "                'summary': {'is_graph': True,\n",
      "                            'x-axis': 'Total Investment (in Billions of U.S. '\n",
      "                                      'Dollars)',\n",
      "                            'y-axis': 'Country',\n",
      "                            'summary': 'The bar chart shows the total '\n",
      "                                       'investment in billions of U.S. dollars '\n",
      "                                       'across various countries. The United '\n",
      "                                       'States leads with $47.36 billion, '\n",
      "                                       'followed by China with $13.41 billion, '\n",
      "                                       'and the United Kingdom with $4.37 '\n",
      "                                       'billion. Other countries such as '\n",
      "                                       'Israel, India, and South Korea have '\n",
      "                                       'investments ranging from $3.24 billion '\n",
      "                                       'to $3.10 billion. The chart highlights '\n",
      "                                       'the significant disparity in '\n",
      "                                       'investment amounts, with the United '\n",
      "                                       'States investing substantially more '\n",
      "                                       'than other countries.'}},\n",
      " 'text_representation': 'The bar chart shows the total investment in billions '\n",
      "                        'of U.S. dollars across various countries. The U <382 '\n",
      "                        'chars>',\n",
      " 'binary_representation': b'<2999088 bytes>',\n",
      " 'elements': [],\n",
      " 'lineage_id': 'faead5f5-8259-4885-b09e-be0e56d1f3e6',\n",
      " 'doc_id': '942ca305-087a-4a24-91e1-b5da868faa8a',\n",
      " 'parent_id': 'b1243e0e-3fc1-11ef-89bb-0e5394cc3e15'}\n",
      "CPU times: user 839 ms, sys: 273 ms, total: 1.11 s\n",
      "Wall time: 1min 14s\n"
     ]
    }
   ],
   "source": [
    "\n",
    "%%time \n",
    "\n",
    "\n",
    "doc = (context.read.binary(paths=\"s3://aryn-public/sycamore-partitioner-examples/document-example-1.pdf\", binary_format=\"pdf\")\n",
    "                .partition(partitioner=ArynPartitioner(extract_images=True, local=True ))\n",
    "# Summarize each image element.\n",
    "                .transform(SummarizeImages)\n",
    "                .explode()\n",
    "# Filter image elements to make it easier to see the summarized results.\n",
    "                .filter(lambda d: d.type == \"Image\")\n",
    "                .show())"
   ]
  },
  {
   "cell_type": "code",
   "execution_count": null,
   "id": "18375ac2-e4d3-4905-a590-7bb4879934d0",
   "metadata": {},
   "outputs": [],
   "source": []
  }
 ],
 "metadata": {
  "kernelspec": {
   "display_name": "Python 3 (ipykernel)",
   "language": "python",
   "name": "python3"
  },
  "language_info": {
   "codemirror_mode": {
    "name": "ipython",
    "version": 3
   },
   "file_extension": ".py",
   "mimetype": "text/x-python",
   "name": "python",
   "nbconvert_exporter": "python",
   "pygments_lexer": "ipython3",
   "version": "3.10.9"
  }
 },
 "nbformat": 4,
 "nbformat_minor": 5
}
