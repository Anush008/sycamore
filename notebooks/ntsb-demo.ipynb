{
 "cells": [
  {
   "cell_type": "markdown",
   "id": "cca08214-df54-42d3-ba80-4f73bec83ff6",
   "metadata": {},
   "source": [
    "# NTSB demo\n",
    "\n",
    "Sycamore is a **Document Processing System** = **ETL** + **Query Planning/Retrieval**.\n",
    "\n",
    "https://aryn-public.s3.amazonaws.com/ntsb/59.pdf\n",
    "\n",
    "**ETL steps**:\n",
    "- extracts Text + Structure:\n",
    "    - titles,\n",
    "    - section headers,\n",
    "    - text paragraphs,\n",
    "    - figures,\n",
    "    - tables and their cells\n",
    "    - captions\n",
    "    - page headers and footers\n",
    "    - footnotes\n",
    "- it then can merge individual chunks into larger chunks that preserve more of the context\n",
    "\n",
    "**Query Planning/Retrieval**:\n",
    "Having these structural elements and information extracted enables the consumer of these document to have much better control over what is being embedded and how, leading to better retrieval in a RAG system.\n",
    "For example, we can focus the retrieval on certain sections or eliminate them altogether.\n",
    "\n",
    "**Question answering**:\n",
    "Sycamore can also extract information from a document. We’ll see how it can extract location and dates from NTSB docs, but also specific elements like aircraft type.  \n",
    "\n",
    "\n",
    "\n",
    "Once the data is transformed, we can ask questions on it."
   ]
  },
  {
   "cell_type": "code",
   "execution_count": null,
   "id": "f26675d3-14c2-4b75-bfc7-c390ab16f5c8",
   "metadata": {},
   "outputs": [],
   "source": [
    "import sycamore \n",
    "\n",
    "from sycamore.transforms.partition import ArynPartitioner\n",
    "from sycamore.transforms.summarize_images import SummarizeImages\n",
    "\n",
    "from sycamore.transforms import (AssignDocProperties, \n",
    "                                ExtractTableProperties, \n",
    "                                StandardizeProperty, \n",
    "                                LocationStandardizer,\n",
    "                                DateTimeStandardizer)\n",
    "\n",
    "from sycamore.llms import OpenAI \n",
    "\n",
    "from sycamore.utils.aryn_config import ArynConfig, _DEFAULT_PATH\n",
    "\n",
    "from sycamore.utils.pdf_utils import show_pages, enumerate_images_and_tables, display_page_and_table_properties\n",
    "\n",
    "import json"
   ]
  },
  {
   "cell_type": "code",
   "execution_count": null,
   "id": "f6f7bcf2-7ddb-43fd-bd42-6977e0e3de74",
   "metadata": {},
   "outputs": [],
   "source": [
    "from sycamore.utils.aryn_config import ArynConfig, _DEFAULT_PATH\n",
    "assert ArynConfig.get_aryn_api_key() != \"\", f\"Unable to find aryn API key.  Looked in {_DEFAULT_PATH}\""
   ]
  },
  {
   "cell_type": "markdown",
   "id": "a8ada540-870e-4e2b-a4a7-ac608ab4df7a",
   "metadata": {},
   "source": [
    "### Initialize Sycamore"
   ]
  },
  {
   "cell_type": "code",
   "execution_count": null,
   "id": "d5db14c5-d7aa-4074-90d8-3cca9988e2e0",
   "metadata": {
    "scrolled": true
   },
   "outputs": [],
   "source": [
    "ctx = sycamore.init()"
   ]
  },
  {
   "cell_type": "markdown",
   "id": "65358d39-1684-46e5-957d-5156f147c71b",
   "metadata": {},
   "source": [
    "## Load the data\n",
    "\n",
    "We're loading NTSB incident reports (pdf documents describing aviation incidents). \n",
    "The documents consist of a combination of tables, text, and figures.\n",
    "\n",
    "We’re loading the data from a public s3 bucket\n",
    "\n",
    "Sample document: \n",
    "https://aryn-public.s3.amazonaws.com/ntsb/59.pdf"
   ]
  },
  {
   "cell_type": "code",
   "execution_count": null,
   "id": "713ef530-7a1f-482f-a6f6-c072f27624e4",
   "metadata": {},
   "outputs": [],
   "source": [
    "s3_path = \"s3://aryn-public/ntsb/59.pdf\"\n",
    "llm = OpenAI('gpt-4o-mini')"
   ]
  },
  {
   "cell_type": "markdown",
   "id": "3b2c8f33-a26f-41c6-9d0d-e06ba8f76c4c",
   "metadata": {},
   "source": [
    "## Define a pipeline using SycamorePartitioner"
   ]
  },
  {
   "cell_type": "markdown",
   "id": "c3b1c405-4868-4f11-8baa-8784e18da77e",
   "metadata": {},
   "source": [
    "### Chunk and extract document structure\n",
    "Extracts Text + Structure:\n",
    "- titles,\n",
    "- section headers,\n",
    "- text paragraphs,\n",
    "- figures,\n",
    "- tables and their cells\n",
    "- captions\n",
    "- page headers and footers\n",
    "- footnotes"
   ]
  },
  {
   "cell_type": "code",
   "execution_count": null,
   "id": "5e65b7ca-b915-4b3c-b91c-1ffeae0e04a7",
   "metadata": {},
   "outputs": [],
   "source": [
    "# Create a docset from segmented PDFs, extract tables, summarize images\n",
    "docset = (\n",
    "    ctx.read.binary(s3_path, binary_format=\"pdf\")\n",
    "\n",
    "    # Partition and extract tables and images\n",
    "    .partition(ArynPartitioner(\n",
    "                               extract_table_structure=True,\n",
    "                               use_ocr=True, \n",
    "                               extract_images=True)\n",
    "              )\n",
    "    \n",
    "    # Summarize each image element\n",
    "    .transform(SummarizeImages)\n",
    ")\n",
    "    "
   ]
  },
  {
   "cell_type": "markdown",
   "id": "17ab5ed1-ecdc-437c-94fb-9f467446c410",
   "metadata": {},
   "source": [
    "## Visualize partitioned documents"
   ]
  },
  {
   "cell_type": "code",
   "execution_count": null,
   "id": "6e426c05-aa66-42fa-930b-2b407ce7a75c",
   "metadata": {
    "scrolled": true
   },
   "outputs": [],
   "source": [
    "sample_pages = show_pages(docset, limit=4)\n"
   ]
  },
  {
   "cell_type": "code",
   "execution_count": null,
   "id": "f249d7d7-d7af-441b-83f6-1d113ad61b0b",
   "metadata": {
    "scrolled": true
   },
   "outputs": [],
   "source": [
    "# Show text representation of images and tables\n",
    "enumerate_images_and_tables(docset.take(1))"
   ]
  },
  {
   "cell_type": "code",
   "execution_count": null,
   "id": "5919b73b-5f84-429b-98a7-5633406cca3b",
   "metadata": {
    "scrolled": true
   },
   "outputs": [],
   "source": [
    "# extract properties from tables as key value pair \n",
    "ds_extracted = docset.transform(cls = ExtractTableProperties,parameters = ['llm_response', llm])\n",
    "ds_extracted.show(limit=1)"
   ]
  },
  {
   "cell_type": "code",
   "execution_count": null,
   "id": "17de9aa0-b6de-466c-9901-ce93cf126565",
   "metadata": {},
   "outputs": [],
   "source": [
    "# AssignDocProperties is used to copy properties from first element of table to the document\n",
    "element_type = 'table'\n",
    "property_name = 'llm_response'\n",
    "\n",
    "ds_prop1 = ds_extracted.transform(cls = AssignDocProperties, parameters = [element_type, property_name])\n",
    "ds_prop1.show(limit=1, show_elements = False)"
   ]
  },
  {
   "cell_type": "markdown",
   "id": "ae7ca5fc-b57b-4b2c-a7ba-1d53f03e66a3",
   "metadata": {},
   "source": [
    "##  Inspect extracted information\n",
    "\n",
    "##  Notice that dates and locations have been standardized"
   ]
  },
  {
   "cell_type": "code",
   "execution_count": null,
   "id": "fb6933bb-92a0-43be-98de-0933c338fc1d",
   "metadata": {},
   "outputs": [],
   "source": [
    "# We noramalize the date and location using LocationStandardizer and DateTimeStandardizer transform\n",
    "loc_standardizer = LocationStandardizer()\n",
    "date_standardizer = DateTimeStandardizer()\n",
    "\n",
    "ds_normd = ds_prop1.transform(cls = StandardizeProperty, standardizer=loc_standardizer, path=[['properties','entity','location']])\n",
    "ds_normd = ds_prop1.transform(cls = StandardizeProperty, standardizer=date_standardizer, path=[['properties','entity','dateTime']])\n",
    "\n",
    "ds_normd.show(limit=1, show_elements = False)"
   ]
  },
  {
   "cell_type": "code",
   "execution_count": null,
   "id": "bab0e9a2-7f24-4fd5-ad15-6b23ac056218",
   "metadata": {
    "scrolled": true
   },
   "outputs": [],
   "source": [
    "show_pages(ds_normd, limit=1)"
   ]
  },
  {
   "cell_type": "code",
   "execution_count": null,
   "id": "126182dc-35dd-483a-9236-42b5b48cd6ac",
   "metadata": {
    "scrolled": true
   },
   "outputs": [],
   "source": [
    "# Show tables and their conversion to properties\n",
    "display_page_and_table_properties(ds_normd.take(1))"
   ]
  },
  {
   "cell_type": "code",
   "execution_count": null,
   "id": "4609139a-bb39-452a-8c93-29408d375e64",
   "metadata": {
    "scrolled": true
   },
   "outputs": [],
   "source": [
    "from IPython.display import display, HTML\n",
    "for e in ds_normd.take_all()[0].elements:\n",
    "    if \"table\" in e.type:\n",
    "        print(\"Element Type: \", e.type)\n",
    "        print(\"Element Properties: \", json.dumps(e.properties, indent=2, default=str))\n",
    "        display(HTML(e.table.to_html()))"
   ]
  },
  {
   "cell_type": "markdown",
   "id": "98244b4d-2bd3-48a9-8768-9e17fd708fd6",
   "metadata": {},
   "source": [
    "## Indexing the documents for retrieval\n",
    "\n",
    "Now that we have extracted the text, partitioned it, labeled the partitions, extracted information and standardized it, we're ready to store it for retrieval"
   ]
  },
  {
   "cell_type": "code",
   "execution_count": null,
   "id": "b9101a62-507c-4784-b9f7-581580fd2a35",
   "metadata": {},
   "outputs": [],
   "source": [
    "import os\n",
    "if os.path.exists(\"/.dockerenv\"):\n",
    "    opensearch_host = \"opensearch\"\n",
    "    print(\"Assuming we are in a Sycamore Jupyter container, using opensearch for OpenSearch host\")\n",
    "else:\n",
    "    opensearch_host = \"localhost\"\n",
    "    print(\"Assuming we are running outside of a container, using localhost for OpenSearch host\")\n",
    "\n",
    "index = \"ntsb-bb-2_demo\"\n",
    "os_client_args = {\n",
    "    \"hosts\": [{\"host\": \"localhost\", \"port\": 9200}],\n",
    "    \"http_compress\": True,\n",
    "    \"http_auth\": (\"admin\", \"admin\"),\n",
    "    \"use_ssl\": True,\n",
    "    \"verify_certs\": False,\n",
    "    \"ssl_assert_hostname\": False,\n",
    "    \"ssl_show_warn\": False,\n",
    "    \"timeout\": 120,\n",
    "}\n",
    "\n",
    "index_settings = {\n",
    "    \"body\": {\n",
    "        \"settings\": {\n",
    "            \"index.knn\": True,\n",
    "            \"number_of_shards\": 5,\n",
    "            \"number_of_replicas\": 1\n",
    "        },\n",
    "        \"mappings\": {\n",
    "            \"properties\": {\n",
    "                \"embedding\": {\n",
    "                  \"dimension\": 384,\n",
    "                  \"method\": {\n",
    "                    \"engine\": \"faiss\",\n",
    "                    \"space_type\": \"l2\",\n",
    "                    \"name\": \"hnsw\",\n",
    "                    \"parameters\": {}\n",
    "                  },\n",
    "                  \"type\": \"knn_vector\"\n",
    "                }\n",
    "            }\n",
    "        }\n",
    "    }\n",
    "}"
   ]
  },
  {
   "cell_type": "markdown",
   "id": "a4669cc4-be71-463a-8eb2-6474c2f4a24a",
   "metadata": {},
   "source": [
    "### Creating embeddings"
   ]
  },
  {
   "cell_type": "code",
   "execution_count": null,
   "id": "eabce93b-2767-45c6-ac73-4a8ef491de16",
   "metadata": {},
   "outputs": [],
   "source": [
    "from sycamore.transforms.embed import SentenceTransformerEmbedder\n",
    "\n",
    "embedded_docset = (\n",
    "    ds_normd\n",
    "    .spread_properties([\"entity\", \"path\"])\n",
    "    .explode()\n",
    "    .sketch()\n",
    "    .embed(embedder=SentenceTransformerEmbedder(batch_size=100, model_name=\"sentence-transformers/all-MiniLM-L6-v2\"), num_gpus=0.1)\n",
    ")"
   ]
  },
  {
   "cell_type": "markdown",
   "id": "649ab324-104b-4230-af81-f4aa5399da05",
   "metadata": {},
   "source": [
    "### Write the OpenSearch index"
   ]
  },
  {
   "cell_type": "code",
   "execution_count": null,
   "id": "b87a4be8-162d-43a4-a4cf-fde9a91bbb4a",
   "metadata": {},
   "outputs": [],
   "source": [
    "# embedded_docset.map(validate).write.opensearch(\n",
    "embedded_docset.write.opensearch(\n",
    "    os_client_args=os_client_args,\n",
    "    index_name=index,\n",
    "    index_settings=index_settings,\n",
    ")"
   ]
  },
  {
   "cell_type": "markdown",
   "id": "b719ebaa-321c-4ff7-ace9-1be0d39ac9be",
   "metadata": {},
   "source": [
    "## Answer some questions"
   ]
  },
  {
   "cell_type": "markdown",
   "id": "7561fa59-a7a5-47bb-bc88-c1f4a7900f55",
   "metadata": {},
   "source": [
    "### Create a connection to OpenSearch"
   ]
  },
  {
   "cell_type": "code",
   "execution_count": null,
   "id": "5842651f-dbb1-4a62-acb0-b5febc30046d",
   "metadata": {},
   "outputs": [],
   "source": [
    "from sycamore.transforms.query import OpenSearchQueryExecutor\n",
    "from sycamore.data import OpenSearchQuery\n",
    "from opensearchpy import OpenSearch\n",
    "\n",
    "os_client_args = {\n",
    "    \"hosts\": [{\"host\": \"localhost\", \"port\": 9200}],\n",
    "    \"http_compress\": True,\n",
    "    \"http_auth\": ('admin', 'admin'),\n",
    "    \"use_ssl\": True,\n",
    "    \"verify_certs\": False,\n",
    "    \"ssl_assert_hostname\": False,\n",
    "    \"ssl_show_warn\": False,\n",
    "    \"timeout\": 120\n",
    "    \n",
    "}\n",
    "\n",
    "\n",
    "client = OpenSearch(**os_client_args)\n",
    "\n",
    "osq = OpenSearchQueryExecutor(os_client_args)"
   ]
  },
  {
   "cell_type": "markdown",
   "id": "229a7d7c-9a69-4711-8c51-08a7f966b419",
   "metadata": {},
   "source": [
    "### Question"
   ]
  },
  {
   "cell_type": "code",
   "execution_count": null,
   "id": "0c07a7fb-8125-4e00-a891-63b433f5d4f0",
   "metadata": {},
   "outputs": [],
   "source": [
    "question = \"Were there any incidents involving red planes\""
   ]
  },
  {
   "cell_type": "markdown",
   "id": "70d7dbc8-b99c-4d22-add4-2a964e65e5ac",
   "metadata": {},
   "source": [
    "### Text query"
   ]
  },
  {
   "cell_type": "code",
   "execution_count": null,
   "id": "ec38c1d8-5014-4105-b5bc-f218882cc6ce",
   "metadata": {},
   "outputs": [],
   "source": [
    "query = OpenSearchQuery()\n",
    "query[\"index\"] = index\n",
    "query[\"query\"] = {\n",
    "    \"_source\": {\"excludes\": [\"embedding\"]},\n",
    "    \"query\": {\"match\": {\"text_representation\": question}},\n",
    "    \"size\": 20\n",
    "}\n",
    "result = osq.query(query)[\"result\"]"
   ]
  },
  {
   "cell_type": "code",
   "execution_count": null,
   "id": "89903619-a1ba-47d2-8089-6779f785e193",
   "metadata": {},
   "outputs": [],
   "source": [
    "result"
   ]
  },
  {
   "cell_type": "markdown",
   "id": "326a9029-7eb1-48a9-a31b-e7e7c7fe42f0",
   "metadata": {},
   "source": [
    "### RAG query"
   ]
  },
  {
   "cell_type": "code",
   "execution_count": null,
   "id": "f7737adc-e1a5-493a-a0c6-5cbffb15de3a",
   "metadata": {},
   "outputs": [],
   "source": [
    "# get the embedding model ID \n",
    "import requests\n",
    "def get_model_id():\n",
    "    query = {\n",
    "        'query': {\n",
    "            'bool': {\n",
    "                'must': [\n",
    "                    {\n",
    "                        'match': {'name': 'all-MiniLM-L6-v2'},\n",
    "                    },\n",
    "                    {\n",
    "                        'term': {'model_config.model_type': 'bert'},\n",
    "                    },\n",
    "                ],\n",
    "            },\n",
    "        },\n",
    "    }\n",
    "    with requests.get(f'https://{opensearch_host}:9200/_plugins/_ml/models/_search', json=query, verify=False) as resp:\n",
    "        res = json.loads(resp.text)\n",
    "        return res['hits']['hits'][0]['_id']"
   ]
  },
  {
   "cell_type": "code",
   "execution_count": null,
   "id": "7a4599fc-245c-45ac-a960-d238910f19c6",
   "metadata": {},
   "outputs": [],
   "source": [
    "# RAG config\n",
    "embedding_model_id = get_model_id()\n",
    "search_pipeline = \"hybrid_rag_pipeline\"\n",
    "llm = \"gpt-4o\"\n",
    "\n",
    "rag_query = OpenSearchQuery()\n",
    "rag_query[\"index\"] = index\n",
    "\n",
    "# hybrid searc\n",
    "rag_query[\"query\"] = {\n",
    "    \"_source\": {\"excludes\": [\"embedding\"]},\n",
    "    \"query\": {\n",
    "        \"hybrid\": {\n",
    "            \"queries\": [\n",
    "                {\"match\": {\"text_representation\": question}},\n",
    "                {\n",
    "                    \"neural\": {\n",
    "                        \"embedding\": {\n",
    "                            \"query_text\": question,\n",
    "                            \"model_id\": embedding_model_id,\n",
    "                            \"k\": 100,\n",
    "                        }\n",
    "                    }\n",
    "                },\n",
    "            ]\n",
    "        }\n",
    "    },\n",
    "    \"size\": 20\n",
    "}\n",
    "\n",
    "# RAG params\n",
    "rag_query[\"params\"] = {\"search_pipeline\": search_pipeline}\n",
    "rag_query[\"query\"][\"ext\"] = {\n",
    "    \"generative_qa_parameters\": {\n",
    "        \"llm_question\": question,\n",
    "        \"context_size\": 10,\n",
    "        \"llm_model\": llm,\n",
    "    }\n",
    "}\n",
    "rag_result = osq.query(rag_query)[\"result\"]"
   ]
  },
  {
   "cell_type": "code",
   "execution_count": null,
   "id": "95caade8-09d8-4a85-8029-78ebb37a82ef",
   "metadata": {},
   "outputs": [],
   "source": [
    "rag_result[\"ext\"][\"retrieval_augmented_generation\"][\"answer\"]"
   ]
  },
  {
   "cell_type": "code",
   "execution_count": null,
   "id": "0d53cb61-f133-4a70-b2f6-7f8d1eec4715",
   "metadata": {
    "scrolled": true
   },
   "outputs": [],
   "source": [
    "rag_result"
   ]
  },
  {
   "cell_type": "markdown",
   "id": "f15de938-7f93-4e23-804c-efefc70ecdaa",
   "metadata": {},
   "source": [
    "### Filtered RAG query"
   ]
  },
  {
   "cell_type": "code",
   "execution_count": null,
   "id": "c1621363-bc1e-4a0b-85c2-3b871f3ef4a2",
   "metadata": {},
   "outputs": [],
   "source": [
    "filtered_rag_query = OpenSearchQuery()\n",
    "filtered_rag_query[\"index\"] = index\n",
    "question = \"Were there any airplace incidents in Texas in January 14, 2023?\"\n",
    "filter = {\n",
    "    \"bool\": {\n",
    "        \"must\": [\n",
    "          {\n",
    "            \"match_phrase\": {\n",
    "              \"properties.entity.location\": \"Texas\"\n",
    "            }\n",
    "          }\n",
    "          \n",
    "        ]\n",
    "    }\n",
    "}\n",
    "\n",
    "# hybrid search\n",
    "filtered_rag_query[\"query\"] = {\n",
    "    \"_source\": {\"excludes\": [\"embedding\"]},\n",
    "    \"query\": {\n",
    "        \"hybrid\": {\n",
    "            \"queries\": [\n",
    "                {\n",
    "                  \"bool\": {\n",
    "                      \"must\": [\n",
    "                          {\n",
    "                              \"match\": {\n",
    "                                  \"text_representation\": question\n",
    "                              }\n",
    "                          }\n",
    "                      ],\n",
    "                      \"filter\": filter\n",
    "                  }\n",
    "                },\n",
    "                {\n",
    "                    \"neural\": {\n",
    "                        \"embedding\": {\n",
    "                            \"query_text\": question,\n",
    "                            \"model_id\": embedding_model_id,\n",
    "                            \"k\": 100,\n",
    "                            \"filter\": filter\n",
    "                        }\n",
    "                    }\n",
    "                },\n",
    "            ]\n",
    "        }\n",
    "    },\n",
    "    \"size\": 20\n",
    "}\n",
    "\n",
    "# RAG params\n",
    "filtered_rag_query[\"params\"] = {\"search_pipeline\": search_pipeline}\n",
    "\n",
    "filtered_rag_query[\"query\"][\"ext\"] = {\n",
    "    \"generative_qa_parameters\": {\n",
    "        \"llm_question\": question,\n",
    "        \"context_size\": 10,\n",
    "        \"llm_model\": llm,\n",
    "    }\n",
    "}"
   ]
  },
  {
   "cell_type": "code",
   "execution_count": null,
   "id": "6d04afa5-7380-4265-a250-c6c9559e394b",
   "metadata": {},
   "outputs": [],
   "source": [
    "filtered_rag_result = osq.query(filtered_rag_query)[\"result\"]"
   ]
  },
  {
   "cell_type": "code",
   "execution_count": null,
   "id": "adfb56bc-e6a4-4f46-a5cd-4e79b8291675",
   "metadata": {},
   "outputs": [],
   "source": [
    "filtered_rag_result[\"ext\"][\"retrieval_augmented_generation\"][\"answer\"]"
   ]
  },
  {
   "cell_type": "code",
   "execution_count": null,
   "id": "ffb8b670-ac29-4bf7-ac5b-0734dcd7abad",
   "metadata": {},
   "outputs": [],
   "source": []
  }
 ],
 "metadata": {
  "kernelspec": {
   "display_name": "Python 3 (ipykernel)",
   "language": "python",
   "name": "python3"
  },
  "language_info": {
   "codemirror_mode": {
    "name": "ipython",
    "version": 3
   },
   "file_extension": ".py",
   "mimetype": "text/x-python",
   "name": "python",
   "nbconvert_exporter": "python",
   "pygments_lexer": "ipython3",
   "version": "3.10.9"
  }
 },
 "nbformat": 4,
 "nbformat_minor": 5
}
