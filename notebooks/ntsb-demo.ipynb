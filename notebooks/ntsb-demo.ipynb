{
 "cells": [
  {
   "cell_type": "markdown",
   "id": "cca08214-df54-42d3-ba80-4f73bec83ff6",
   "metadata": {},
   "source": [
    "# NTSB demo\n",
    "\n",
    "Sycamore is a **Document Processing System** = **ETL** + **Query Planning/Retrieval**.\n",
    "\n",
    "https://aryn-public.s3.amazonaws.com/ntsb/59.pdf\n",
    "\n",
    "**ETL steps**:\n",
    "- extracts Text + Structure:\n",
    "    - titles,\n",
    "    - section headers,\n",
    "    - text paragraphs,\n",
    "    - figures,\n",
    "    - tables and their cells\n",
    "    - captions\n",
    "    - page headers and footers\n",
    "    - footnotes\n",
    "- it then can merge individual chunks into larger chunks that preserve more of the context\n",
    "\n",
    "**Query Planning/Retrieval**:\n",
    "Having these structural elements and information extracted enables the consumer of these document to have much better control over what is being embedded and how, leading to better retrieval in a RAG system.\n",
    "For example, we can focus the retrieval on certain sections or eliminate them altogether.\n",
    "\n",
    "**Question answering**:\n",
    "Sycamore can also extract information from a document. We’ll see how it can extract location and dates from NTSB docs, but also specific elements like aircraft type.  \n",
    "\n",
    "\n",
    "\n",
    "Once the data is transformed, we can ask questions on it."
   ]
  },
  {
   "cell_type": "markdown",
   "id": "0c30f535-3b7c-4cfd-9954-e755f6ae098c",
   "metadata": {},
   "source": [
    "## Bolierplate (imports & utilities)"
   ]
  },
  {
   "cell_type": "code",
   "execution_count": null,
   "id": "ec9c9e32-a57e-46f7-9f96-fe960bbaf2ce",
   "metadata": {},
   "outputs": [],
   "source": [
    "%run demo_utils.ipynb"
   ]
  },
  {
   "cell_type": "markdown",
   "id": "a8ada540-870e-4e2b-a4a7-ac608ab4df7a",
   "metadata": {},
   "source": [
    "### Initialize Sycamore"
   ]
  },
  {
   "cell_type": "code",
   "execution_count": null,
   "id": "d5db14c5-d7aa-4074-90d8-3cca9988e2e0",
   "metadata": {},
   "outputs": [],
   "source": [
    "ctx = sycamore.init()"
   ]
  },
  {
   "cell_type": "markdown",
   "id": "65358d39-1684-46e5-957d-5156f147c71b",
   "metadata": {},
   "source": [
    "## Load the data\n",
    "\n",
    "We're loading NTSB incident reports (pdf documents describing aviation incidents). \n",
    "The documents consist of a combination of tables, text, and figures.\n",
    "\n",
    "We’re loading the data from a public s3 bucket\n",
    "\n",
    "Sample document: \n",
    "https://aryn-public.s3.amazonaws.com/ntsb/59.pdf"
   ]
  },
  {
   "cell_type": "code",
   "execution_count": null,
   "id": "713ef530-7a1f-482f-a6f6-c072f27624e4",
   "metadata": {},
   "outputs": [],
   "source": [
    "s3_path = \"s3://aryn-public/ntsb/59.pdf\"\n",
    "llm = OpenAI(OpenAIModels.GPT_3_5_TURBO.value)\n",
    "# llm = OpenAI(OpenAIModels.GPT_4O.value)\n",
    "tokenizer = HuggingFaceTokenizer(\"thenlper/gte-small\")"
   ]
  },
  {
   "cell_type": "markdown",
   "id": "3b2c8f33-a26f-41c6-9d0d-e06ba8f76c4c",
   "metadata": {},
   "source": [
    "## Define a pipeline using SycamorePartitioner"
   ]
  },
  {
   "cell_type": "markdown",
   "id": "c3b1c405-4868-4f11-8baa-8784e18da77e",
   "metadata": {},
   "source": [
    "### Chunk and extract document structure\n",
    "Extracts Text + Structure:\n",
    "- titles,\n",
    "- section headers,\n",
    "- text paragraphs,\n",
    "- figures,\n",
    "- tables and their cells\n",
    "- captions\n",
    "- page headers and footers\n",
    "- footnotes"
   ]
  },
  {
   "cell_type": "code",
   "execution_count": null,
   "id": "6c939ccf-851a-405a-9974-af53cd96f46d",
   "metadata": {},
   "outputs": [],
   "source": [
    "# Create a docset from segmented PDFs, extract tables, summarize images\n",
    "\n",
    "docset = (\n",
    "    ctx.read.binary(s3_path, binary_format=\"pdf\")\n",
    "\n",
    "    # Partition and extract tables and images\n",
    "    .partition(partitioner=SycamorePartitioner(\"Aryn/deformable-detr-DocLayNet\", extract_table_structure=True, use_ocr=False, extract_images=True), num_gpus=0.1)\n",
    "\n",
    "    # Summarize each image element\n",
    "    .transform(SummarizeImages)\n",
    ")\n"
   ]
  },
  {
   "cell_type": "code",
   "execution_count": null,
   "id": "c8d9349c-cff9-425a-81cf-754bb200a71d",
   "metadata": {},
   "outputs": [],
   "source": [
    "sample_pages = show_pages(docset, limit=4)"
   ]
  },
  {
   "cell_type": "code",
   "execution_count": null,
   "id": "9d783c41-79bb-4150-b479-37bbb0c5dac4",
   "metadata": {
    "scrolled": true
   },
   "outputs": [],
   "source": [
    "# Show text representation of images and tables\n",
    "enumerate_images_and_tables(sample_pages)"
   ]
  },
  {
   "cell_type": "code",
   "execution_count": null,
   "id": "fb6933bb-92a0-43be-98de-0933c338fc1d",
   "metadata": {},
   "outputs": [],
   "source": [
    "# We extract the table entries as metadata for further querying, normalize, and semantically chunk the documents\n",
    "\n",
    "docset2 = (\n",
    "    # Extract information into the schema\n",
    "    docset.map(extract_table_as_properties)\n",
    "    \n",
    "    # Normalize values\n",
    "    .map(standardize_date)\n",
    "    .map(standardize_location)\n",
    "\n",
    "    # Chunk into semantically related content\n",
    "    #.merge(merger=GreedySectionMerger())\n",
    ")"
   ]
  },
  {
   "cell_type": "code",
   "execution_count": null,
   "id": "bab0e9a2-7f24-4fd5-ad15-6b23ac056218",
   "metadata": {
    "scrolled": true
   },
   "outputs": [],
   "source": [
    "sample_pages_2 = show_pages(docset2, limit=4)"
   ]
  },
  {
   "cell_type": "code",
   "execution_count": null,
   "id": "29911906-f841-407e-a5f0-ef4a1ec99f74",
   "metadata": {},
   "outputs": [],
   "source": [
    "sample_pages_2[0].properties['entity']"
   ]
  },
  {
   "cell_type": "code",
   "execution_count": null,
   "id": "126182dc-35dd-483a-9236-42b5b48cd6ac",
   "metadata": {
    "scrolled": true
   },
   "outputs": [],
   "source": [
    "# Show tables and their conversion to properties\n",
    "\n",
    "display_page_and_table_properties(sample_pages_2)"
   ]
  },
  {
   "cell_type": "code",
   "execution_count": null,
   "id": "45bea3cf-c0ce-4986-a949-dcf524b5df20",
   "metadata": {
    "scrolled": true
   },
   "outputs": [],
   "source": [
    "%%time\n",
    "\n",
    "for i in range(0,3):\n",
    "    extracted = extract_table_as_properties(sample_pages[i])"
   ]
  },
  {
   "cell_type": "code",
   "execution_count": null,
   "id": "4609139a-bb39-452a-8c93-29408d375e64",
   "metadata": {},
   "outputs": [],
   "source": [
    "for e in extracted.elements:\n",
    "    if \"table\" in e.type:\n",
    "        print(\"Element Type: \", e.type)\n",
    "        print(\"Element Properties: \", json.dumps(e.properties, indent=2))\n",
    "        display(HTML(e.table.to_html()))"
   ]
  },
  {
   "cell_type": "markdown",
   "id": "5b901dd8-ae87-4bc2-869c-13e7deb13ce4",
   "metadata": {},
   "source": [
    "#### Save Sycamore partitioned docs to disk"
   ]
  },
  {
   "cell_type": "code",
   "execution_count": null,
   "id": "1a766058-151d-4dea-ad7f-d84cc4481e8f",
   "metadata": {},
   "outputs": [],
   "source": [
    "sample_pages_2[0].properties.update({\"foo\": \"bar\"})"
   ]
  },
  {
   "cell_type": "code",
   "execution_count": null,
   "id": "0d37b910-9b8a-4a01-a686-9a8c4dfe1141",
   "metadata": {},
   "outputs": [],
   "source": [
    "sample_pages_2[0].properties"
   ]
  },
  {
   "cell_type": "code",
   "execution_count": null,
   "id": "afefa508-5643-43c2-8a17-107d7afae1ba",
   "metadata": {
    "scrolled": true
   },
   "outputs": [],
   "source": [
    "write_out_docset(Path(\"/home/admin/sycamore/data/tmp/\"), docset)"
   ]
  },
  {
   "cell_type": "code",
   "execution_count": null,
   "id": "319d30f1-5fb8-4b0c-9f89-ffbe7dd117f4",
   "metadata": {},
   "outputs": [],
   "source": []
  },
  {
   "cell_type": "markdown",
   "id": "3f2ca019-00ce-4a9d-bc3a-ede31d84c3bb",
   "metadata": {},
   "source": [
    "## Load from disk"
   ]
  },
  {
   "cell_type": "code",
   "execution_count": null,
   "id": "ee2232b5-b60e-428e-9f7c-47aa4a220009",
   "metadata": {},
   "outputs": [],
   "source": [
    "unpickled_docset = read_in_docset(Path(\"/home/admin/sycamore/data/tmp/\"), ctx)\n",
    "unpickled_docset.count()"
   ]
  },
  {
   "cell_type": "markdown",
   "id": "b9dd9588-ca20-4614-b443-5857712c3a14",
   "metadata": {
    "jp-MarkdownHeadingCollapsed": true
   },
   "source": [
    "## Visualize partitioned documents"
   ]
  },
  {
   "cell_type": "markdown",
   "id": "790f9687-3da9-4557-9128-d47a66c0e623",
   "metadata": {},
   "source": [
    "### Sycamore generated partitions"
   ]
  },
  {
   "cell_type": "code",
   "execution_count": null,
   "id": "2ed86f0d-d309-4253-ad66-a3bddc6acc48",
   "metadata": {},
   "outputs": [],
   "source": [
    " show_pages(unpickled_docset, limit=4)"
   ]
  },
  {
   "cell_type": "markdown",
   "id": "a8a1d7c0-3ac0-4956-b9d6-ebbdf87c3179",
   "metadata": {
    "jp-MarkdownHeadingCollapsed": true
   },
   "source": [
    "## Inspect extracted information\n",
    "\n",
    "#### Notice that dates and locations have been standardized"
   ]
  },
  {
   "cell_type": "code",
   "execution_count": null,
   "id": "5e2b7dfe-38ea-49cf-acc1-62d6a134561a",
   "metadata": {},
   "outputs": [],
   "source": [
    "sample_docs = unpickled_docset.take()"
   ]
  },
  {
   "cell_type": "code",
   "execution_count": null,
   "id": "17f83957-95eb-4c3f-94f4-7085fd9cfc43",
   "metadata": {},
   "outputs": [],
   "source": [
    "sample_docs[0].properties['entity']"
   ]
  },
  {
   "cell_type": "markdown",
   "id": "98244b4d-2bd3-48a9-8768-9e17fd708fd6",
   "metadata": {},
   "source": [
    "## Indexing the documents for retrieval\n",
    "\n",
    "Now that we have extracted the text, partitioned it, labeled the partitions, extracted information and standardized it, we're ready to store it for retrieval"
   ]
  },
  {
   "cell_type": "code",
   "execution_count": null,
   "id": "b9101a62-507c-4784-b9f7-581580fd2a35",
   "metadata": {},
   "outputs": [],
   "source": [
    "if os.path.exists(\"/.dockerenv\"):\n",
    "    opensearch_host = \"opensearch\"\n",
    "    print(\"Assuming we are in a Sycamore Jupyter container, using opensearch for OpenSearch host\")\n",
    "else:\n",
    "    opensearch_host = \"localhost\"\n",
    "    print(\"Assuming we are running outside of a container, using localhost for OpenSearch host\")\n",
    "\n",
    "index = \"ntsb-bb-2\"\n",
    "os_client_args = {\n",
    "    \"hosts\": [{\"host\": \"localhost\", \"port\": 9200}],\n",
    "    \"http_compress\": True,\n",
    "    \"http_auth\": (\"admin\", \"admin\"),\n",
    "    \"use_ssl\": True,\n",
    "    \"verify_certs\": False,\n",
    "    \"ssl_assert_hostname\": False,\n",
    "    \"ssl_show_warn\": False,\n",
    "    \"timeout\": 120,\n",
    "}\n",
    "\n",
    "index_settings = {\n",
    "    \"body\": {\n",
    "        \"settings\": {\n",
    "            \"index.knn\": True,\n",
    "            \"number_of_shards\": 5,\n",
    "            \"number_of_replicas\": 1\n",
    "        },\n",
    "        \"mappings\": {\n",
    "            \"properties\": {\n",
    "                \"embedding\": {\n",
    "                  \"dimension\": 384,\n",
    "                  \"method\": {\n",
    "                    \"engine\": \"faiss\",\n",
    "                    \"space_type\": \"l2\",\n",
    "                    \"name\": \"hnsw\",\n",
    "                    \"parameters\": {}\n",
    "                  },\n",
    "                  \"type\": \"knn_vector\"\n",
    "                }\n",
    "            }\n",
    "        }\n",
    "    }\n",
    "}"
   ]
  },
  {
   "cell_type": "markdown",
   "id": "a4669cc4-be71-463a-8eb2-6474c2f4a24a",
   "metadata": {},
   "source": [
    "### Creating embeddings"
   ]
  },
  {
   "cell_type": "code",
   "execution_count": null,
   "id": "eabce93b-2767-45c6-ac73-4a8ef491de16",
   "metadata": {},
   "outputs": [],
   "source": [
    "embedded_docset = (\n",
    "    unpickled_docset\n",
    "    .spread_properties([\"entity\", \"path\"])\n",
    "    .map(normalize_table_properties)\n",
    "    .explode()\n",
    "    .sketch()\n",
    "    .embed(embedder=SentenceTransformerEmbedder(batch_size=100, model_name=\"sentence-transformers/all-MiniLM-L6-v2\"), num_gpus=0.1)\n",
    ")"
   ]
  },
  {
   "cell_type": "markdown",
   "id": "649ab324-104b-4230-af81-f4aa5399da05",
   "metadata": {},
   "source": [
    "### Write the OpenSearch index"
   ]
  },
  {
   "cell_type": "code",
   "execution_count": null,
   "id": "b87a4be8-162d-43a4-a4cf-fde9a91bbb4a",
   "metadata": {},
   "outputs": [],
   "source": [
    "embedded_docset.map(validate).write.opensearch(\n",
    "    os_client_args=os_client_args,\n",
    "    index_name=index,\n",
    "    index_settings=index_settings,\n",
    ")"
   ]
  },
  {
   "cell_type": "markdown",
   "id": "b719ebaa-321c-4ff7-ace9-1be0d39ac9be",
   "metadata": {},
   "source": [
    "## Answer some questions"
   ]
  },
  {
   "cell_type": "markdown",
   "id": "7561fa59-a7a5-47bb-bc88-c1f4a7900f55",
   "metadata": {},
   "source": [
    "### Create a connection to OpenSearch"
   ]
  },
  {
   "cell_type": "code",
   "execution_count": null,
   "id": "5842651f-dbb1-4a62-acb0-b5febc30046d",
   "metadata": {},
   "outputs": [],
   "source": [
    "os_client_args = {\n",
    "    \"hosts\": [{\"host\": \"localhost\", \"port\": 9200}],\n",
    "    \"http_compress\": True,\n",
    "    \"http_auth\": ('admin', 'admin'),\n",
    "    \"use_ssl\": True,\n",
    "    \"verify_certs\": False,\n",
    "    \"ssl_assert_hostname\": False,\n",
    "    \"ssl_show_warn\": False,\n",
    "    \"timeout\": 120\n",
    "}\n",
    "client = OpenSearch(**os_client_args)\n",
    "\n",
    "osq = OpenSearchQueryExecutor(os_client_args)"
   ]
  },
  {
   "cell_type": "markdown",
   "id": "229a7d7c-9a69-4711-8c51-08a7f966b419",
   "metadata": {},
   "source": [
    "### Question"
   ]
  },
  {
   "cell_type": "code",
   "execution_count": null,
   "id": "0c07a7fb-8125-4e00-a891-63b433f5d4f0",
   "metadata": {},
   "outputs": [],
   "source": [
    "question = \"Were there any incidents involving red planes\""
   ]
  },
  {
   "cell_type": "markdown",
   "id": "70d7dbc8-b99c-4d22-add4-2a964e65e5ac",
   "metadata": {},
   "source": [
    "### Text query"
   ]
  },
  {
   "cell_type": "code",
   "execution_count": null,
   "id": "ec38c1d8-5014-4105-b5bc-f218882cc6ce",
   "metadata": {},
   "outputs": [],
   "source": [
    "query = OpenSearchQuery()\n",
    "query[\"index\"] = index\n",
    "query[\"query\"] = {\n",
    "    \"_source\": {\"excludes\": [\"embedding\"]},\n",
    "    \"query\": {\"match\": {\"text_representation\": question}},\n",
    "    \"size\": 20\n",
    "}\n",
    "result = osq.query(query)[\"result\"]"
   ]
  },
  {
   "cell_type": "code",
   "execution_count": null,
   "id": "89903619-a1ba-47d2-8089-6779f785e193",
   "metadata": {},
   "outputs": [],
   "source": [
    "result"
   ]
  },
  {
   "cell_type": "markdown",
   "id": "326a9029-7eb1-48a9-a31b-e7e7c7fe42f0",
   "metadata": {},
   "source": [
    "### RAG query"
   ]
  },
  {
   "cell_type": "code",
   "execution_count": null,
   "id": "7a4599fc-245c-45ac-a960-d238910f19c6",
   "metadata": {},
   "outputs": [],
   "source": [
    "# RAG config\n",
    "embedding_model_id = \"UpKUx48Bh3XoviWIy7eB\"\n",
    "search_pipeline = \"hybrid_rag_pipeline\"\n",
    "llm = \"gpt-4o\"\n",
    "\n",
    "rag_query = OpenSearchQuery()\n",
    "rag_query[\"index\"] = index\n",
    "\n",
    "# hybrid searc\n",
    "rag_query[\"query\"] = {\n",
    "    \"_source\": {\"excludes\": [\"embedding\"]},\n",
    "    \"query\": {\n",
    "        \"hybrid\": {\n",
    "            \"queries\": [\n",
    "                {\"match\": {\"text_representation\": question}},\n",
    "                {\n",
    "                    \"neural\": {\n",
    "                        \"embedding\": {\n",
    "                            \"query_text\": question,\n",
    "                            \"model_id\": embedding_model_id,\n",
    "                            \"k\": 100,\n",
    "                        }\n",
    "                    }\n",
    "                },\n",
    "            ]\n",
    "        }\n",
    "    },\n",
    "    \"size\": 20\n",
    "}\n",
    "\n",
    "# RAG params\n",
    "rag_query[\"params\"] = {\"search_pipeline\": search_pipeline}\n",
    "rag_query[\"query\"][\"ext\"] = {\n",
    "    \"generative_qa_parameters\": {\n",
    "        \"llm_question\": question,\n",
    "        \"context_size\": 10,\n",
    "        \"llm_model\": llm,\n",
    "    }\n",
    "}\n",
    "rag_result = osq.query(rag_query)[\"result\"]"
   ]
  },
  {
   "cell_type": "code",
   "execution_count": null,
   "id": "95caade8-09d8-4a85-8029-78ebb37a82ef",
   "metadata": {},
   "outputs": [],
   "source": [
    "rag_result[\"ext\"][\"retrieval_augmented_generation\"][\"answer\"]"
   ]
  },
  {
   "cell_type": "code",
   "execution_count": null,
   "id": "0d53cb61-f133-4a70-b2f6-7f8d1eec4715",
   "metadata": {},
   "outputs": [],
   "source": [
    "rag_result"
   ]
  },
  {
   "cell_type": "markdown",
   "id": "f15de938-7f93-4e23-804c-efefc70ecdaa",
   "metadata": {},
   "source": [
    "### Filtered RAG query"
   ]
  },
  {
   "cell_type": "code",
   "execution_count": null,
   "id": "c1621363-bc1e-4a0b-85c2-3b871f3ef4a2",
   "metadata": {},
   "outputs": [],
   "source": [
    "filtered_rag_query = OpenSearchQuery()\n",
    "filtered_rag_query[\"index\"] = index_s\n",
    "\n",
    "filter = {\n",
    "    \"bool\": {\n",
    "        \"must\": [\n",
    "          {\n",
    "            \"match_phrase\": {\n",
    "              \"properties.entity.location\": \"California\"\n",
    "            }\n",
    "          }\n",
    "          \n",
    "        ]\n",
    "    }\n",
    "}\n",
    "\n",
    "# hybrid search\n",
    "filtered_rag_query[\"query\"] = {\n",
    "    \"_source\": {\"excludes\": [\"embedding\"]},\n",
    "    \"query\": {\n",
    "        \"hybrid\": {\n",
    "            \"queries\": [\n",
    "                {\n",
    "                  \"bool\": {\n",
    "                      \"must\": [\n",
    "                          {\n",
    "                              \"match\": {\n",
    "                                  \"text_representation\": \"Were there any incidents in California in 2023?\"\n",
    "                              }\n",
    "                          }\n",
    "                      ],\n",
    "                      \"filter\": filter\n",
    "                  }\n",
    "                },\n",
    "                {\n",
    "                    \"neural\": {\n",
    "                        \"embedding\": {\n",
    "                            \"query_text\": question,\n",
    "                            \"model_id\": embedding_model_id,\n",
    "                            \"k\": 100,\n",
    "                            \"filter\": filter\n",
    "                        }\n",
    "                    }\n",
    "                },\n",
    "            ]\n",
    "        }\n",
    "    },\n",
    "    \"size\": 20\n",
    "}\n",
    "\n",
    "# RAG params\n",
    "filtered_rag_query[\"params\"] = {\"search_pipeline\": search_pipeline}\n",
    "\n",
    "filtered_rag_query[\"query\"][\"ext\"] = {\n",
    "    \"generative_qa_parameters\": {\n",
    "        \"llm_question\": question,\n",
    "        \"context_size\": 10,\n",
    "        \"llm_model\": llm,\n",
    "    }\n",
    "}"
   ]
  },
  {
   "cell_type": "code",
   "execution_count": null,
   "id": "6d04afa5-7380-4265-a250-c6c9559e394b",
   "metadata": {},
   "outputs": [],
   "source": [
    "filtered_rag_result = osq.query(filtered_rag_query)[\"result\"]"
   ]
  },
  {
   "cell_type": "code",
   "execution_count": null,
   "id": "adfb56bc-e6a4-4f46-a5cd-4e79b8291675",
   "metadata": {},
   "outputs": [],
   "source": [
    "filtered_rag_result[\"ext\"][\"retrieval_augmented_generation\"][\"answer\"]"
   ]
  },
  {
   "cell_type": "code",
   "execution_count": null,
   "id": "aee1e832-9744-4475-b0ec-8b6c28f5a384",
   "metadata": {},
   "outputs": [],
   "source": []
  }
 ],
 "metadata": {
  "kernelspec": {
   "display_name": "Python 3 (ipykernel)",
   "language": "python",
   "name": "python3"
  },
  "language_info": {
   "codemirror_mode": {
    "name": "ipython",
    "version": 3
   },
   "file_extension": ".py",
   "mimetype": "text/x-python",
   "name": "python",
   "nbconvert_exporter": "python",
   "pygments_lexer": "ipython3",
   "version": "3.11.2"
  }
 },
 "nbformat": 4,
 "nbformat_minor": 5
}
